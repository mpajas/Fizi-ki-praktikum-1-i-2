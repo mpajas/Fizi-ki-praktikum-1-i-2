{
 "cells": [
  {
   "cell_type": "markdown",
   "metadata": {},
   "source": [
    "# <center> Vježba 4: Osciloskop i RC-krug </center>\n",
    "   \n",
    "## <center> Matija Pajas </center>"
   ]
  },
  {
   "cell_type": "code",
   "execution_count": 1,
   "metadata": {},
   "outputs": [],
   "source": [
    "from scipy import *\n",
    "import pandas as pd\n",
    "import matplotlib.pyplot as plt\n",
    "import numpy as np\n",
    "from scipy.optimize import curve_fit\n",
    "\n",
    "from IPython.display import HTML\n",
    "from IPython.display import display"
   ]
  },
  {
   "cell_type": "code",
   "execution_count": 2,
   "metadata": {},
   "outputs": [
    {
     "data": {
      "text/html": [
       "<script>\n",
       "code_show=true; \n",
       "function code_toggle() {\n",
       " if (code_show){\n",
       " $('div.input').hide();\n",
       " } else {\n",
       " $('div.input').show();\n",
       " }\n",
       " code_show = !code_show\n",
       "} \n",
       "$( document ).ready(code_toggle);\n",
       "</script>\n",
       "<form action=\"javascript:code_toggle()\"><input type=\"submit\" value=\"Pokaži/sakrij kod\"></form>"
      ],
      "text/plain": [
       "<IPython.core.display.HTML object>"
      ]
     },
     "execution_count": 2,
     "metadata": {},
     "output_type": "execute_result"
    }
   ],
   "source": [
    "HTML('''<script>\n",
    "code_show=true; \n",
    "function code_toggle() {\n",
    " if (code_show){\n",
    " $('div.input').hide();\n",
    " } else {\n",
    " $('div.input').show();\n",
    " }\n",
    " code_show = !code_show\n",
    "} \n",
    "$( document ).ready(code_toggle);\n",
    "</script>\n",
    "<form action=\"javascript:code_toggle()\"><input type=\"submit\" value=\"Pokaži/sakrij kod\"></form>''')"
   ]
  },
  {
   "cell_type": "code",
   "execution_count": 3,
   "metadata": {},
   "outputs": [
    {
     "data": {
      "text/html": [
       "\n",
       "<style>\n",
       ".output {\n",
       "    display: block;\n",
       "    align-items: center;\n",
       "    text-align: center;\n",
       "}\n",
       "td {\n",
       "  text-align: center;\n",
       "  vertical-align: middle;\n",
       "}\n",
       "</style>\n"
      ],
      "text/plain": [
       "<IPython.core.display.HTML object>"
      ]
     },
     "metadata": {},
     "output_type": "display_data"
    }
   ],
   "source": [
    "display(HTML(\"\"\"\n",
    "<style>\n",
    ".output {\n",
    "    display: block;\n",
    "    align-items: center;\n",
    "    text-align: center;\n",
    "}\n",
    "td {\n",
    "  text-align: center;\n",
    "  vertical-align: middle;\n",
    "}\n",
    "</style>\n",
    "\"\"\"))"
   ]
  },
  {
   "cell_type": "markdown",
   "metadata": {},
   "source": [
    "### Zadatak 2:\n",
    "<b> Sastavite serijski RC-spoj i promatrajte istodobno napon izvora i napon na krajevima otpornika. Sami\n",
    "pronađite optimalnu frevenciju za pouzdano određivanje faznog pomaka (npr. 5 kHz). Osciloskopom\n",
    "izmjerite period, amplitude napona te njihov fazni pomak. Pogledajte XY-prikaz signala.\n",
    "</b>\n",
    "\n",
    "Nakon što je spojen RC krug, bilo je potrebno baždariti prikaz oba kanala na osciloskopu pomoću opcije <b>GND</b> (ground) koja prikazuje horizontalnu liniju na ekranu osciloskopa i kotačićem za vertikalni pomak namjestiti da se poklapa sa horizontalnom osi osciloskopa kako bi se mogle očitati amplitude napona. Za očitavanje perioda i faznog pomaka bilo je potrebno namjestiti horizontalni pomak sa kotačićem za horizontalni pomak, kako bi se namjestio presjek signala sa vertikalnom osi na poželjno mjesto za lakše očitavanje.\n",
    "\n",
    "Nakon toga izmjerene su vrijednosti amplitude napona $U$, perioda $T$ i vremenska razlika $t$ na frekvenciji od 5 kHz uz grubo pretpostavljene pogreške mjerenja $M_U$, $M_T$ i $M_t$ za izvor koji je spojen na CH1 te RC-spoj koji je spojen na CH2.\n",
    "\n",
    "Podaci spomenutog mjerenja mogu se pronaći u idućoj tablici:"
   ]
  },
  {
   "cell_type": "code",
   "execution_count": 4,
   "metadata": {},
   "outputs": [],
   "source": [
    "d = {\"$U$ / $\\mathrm{V}$\": [4.8,1.3,\"-\"], \"$T$ / $\\mathrm{\\mu s}$\": [200,160,\"-\"],\n",
    "     \"$M_U$ / $\\mathrm{V}$\": [0.2,0.2,\"-\"],\"$M_T$ / $\\mathrm{\\mu s}$\": [10,10,\"-\"],\n",
    "    \"$t$ / $\\mathrm{\\mu s}$\": [\"-\",\"-\",4], \"$M_t$ / $\\mathrm{\\mu s}$\": [\"-\",\"-\",1]}\n",
    "df = pd.DataFrame(data=d,index=[\"Izvor\",\"RC-spoj\",\"Vremenska razlika\"])\n",
    "\n",
    "dftohtml = df.to_html(col_space=12,decimal=',')"
   ]
  },
  {
   "cell_type": "markdown",
   "metadata": {},
   "source": [
    "<table border=\"1\" class=\"dataframe\">\n",
    "  <thead>\n",
    "    <tr style=\"text-align: right;\">\n",
    "      <th style=\"min-width: 12;\"></th>\n",
    "      <th style=\"min-width: 12;\">$U$ / $\\mathrm{V}$</th>\n",
    "      <th style=\"min-width: 12;\">$T$ / $\\mathrm{\\mu s}$</th>\n",
    "      <th style=\"min-width: 12;\">$M_U$ / $\\mathrm{V}$</th>\n",
    "      <th style=\"min-width: 12;\">$M_T$ / $\\mathrm{\\mu s}$</th>\n",
    "      <th style=\"min-width: 12;\">$t$ / $\\mathrm{\\mu s}$</th>\n",
    "      <th style=\"min-width: 12;\">$M_t$ / $\\mathrm{\\mu s}$</th>\n",
    "    </tr>\n",
    "  </thead>\n",
    "  <tbody>\n",
    "    <tr>\n",
    "      <th style=\"min-width: 12;\">Izvor</th>\n",
    "      <td>4,8</td>\n",
    "      <td>200</td>\n",
    "      <td>0,2</td>\n",
    "      <td>10</td>\n",
    "      <td>-</td>\n",
    "      <td>-</td>\n",
    "    </tr>\n",
    "    <tr>\n",
    "      <th style=\"min-width: 12;\">RC-spoj</th>\n",
    "      <td>1,3</td>\n",
    "      <td>160</td>\n",
    "      <td>0,2</td>\n",
    "      <td>10</td>\n",
    "      <td>-</td>\n",
    "      <td>-</td>\n",
    "    </tr>\n",
    "    <tr>\n",
    "      <th style=\"min-width: 12;\">Vremenska razlika</th>\n",
    "      <td>-</td>\n",
    "      <td>-</td>\n",
    "      <td>-</td>\n",
    "      <td>-</td>\n",
    "      <td>4</td>\n",
    "      <td>1</td>\n",
    "    </tr>\n",
    "  </tbody>\n",
    "</table>\n"
   ]
  },
  {
   "cell_type": "code",
   "execution_count": 5,
   "metadata": {},
   "outputs": [],
   "source": [
    "phi = 4/160 * 2*np.pi\n",
    "phi_nepouzdanost = phi * np.sqrt(((10**2)/(160**2)) + ((1)/(4**2)))"
   ]
  },
  {
   "cell_type": "markdown",
   "metadata": {},
   "source": [
    "Pomoću vremenske razlike između signala možemo izračunati fazni pomak na sljedeći način:\n",
    "\n",
    "$$\\phi = \\frac{t}{T}2\\pi = 0,15707963267948966 \\ \\mathrm{rad}$$"
   ]
  },
  {
   "cell_type": "markdown",
   "metadata": {},
   "source": [
    "Njegova nepouzdanost također se mora izračunati:\n",
    "\n",
    "$$\\\\\n",
    "\\begin{align}\n",
    "M_{\\phi}\n",
    "&=&\\sqrt{\\left ( \\frac{\\partial \\phi }{\\partial T}M_{T} \\right )^{2}+\\left ( \\frac{\\partial \\phi }{\\partial t}M_{t} \\right )^{2}} \\\\\n",
    "&=&\\sqrt{\\left ( -\\frac{2\\pi t}{T^{2}}M_{T} \\right )^{2}+\\left ( \\frac{2\\pi}{T}M_{t} \\right )^{2}} \\\\\n",
    "&=&\\sqrt{\\frac{4\\pi^{2} t^{2}}{T^{2}}\\frac{M^{2}_{T}}{T^{2}}+\\frac{4\\pi^{2} t^{2}}{T^{2}}\\frac{M^{2}_{t}}{t^{2}}} \\\\\n",
    "&=&\\phi\\sqrt{\\frac{M_{T}^{2}}{T^{2}}+\\frac{M_{t}^{2}}{t^{2}}} \\\\ \n",
    "&=& 0,04047849482317247  \\ \\mathrm{rad}\n",
    "\\end{align}$$"
   ]
  },
  {
   "cell_type": "markdown",
   "metadata": {},
   "source": [
    "Te je konačan rezultat nakon zaokruživanja: $$\\phi = (0,16 \\pm 0,04) \\ \\mathrm{rad}$$"
   ]
  },
  {
   "cell_type": "markdown",
   "metadata": {},
   "source": [
    "### Zadatak 3 pod (b):\n",
    "\n",
    "<b>\n",
    "Za male frekvencije funkcija arkus kotangens kojom bismo odredili fazu iz relacije (6) može se aproksimirati\n",
    "(zadržavanjem prvih članova iz razvoja u red) kao:\n",
    "</b>\n",
    "    \n",
    "$$ \\phi = \\arctan(\\omega RC) \\approx \\frac{\\pi}{2} - \\omega RC $$\n",
    "\n",
    "<b>\n",
    "Mijenjajte frekvenciju izvora i na osciloskopu očitavajte fazni pomak $\\phi$ te odmah iscrtavajte točke u\n",
    "$\\omega - \\phi$ grafu. Za sada fazu možete grubo iščitavati jer nas samo zanima iz ovog grafa naoko identificirati\n",
    "frekventno područje u kojem vrijedi linearizacija iz (7). Jednom kad ste odredili maksimalnu\n",
    "frekvenciju do koje vrijedi linearna aproksimacija, unutar tog područja za desetak različitih frekvencija\n",
    "provedite finije iščitavanje faze $\\phi$ te metodom najmanjih kvadrata odredite vrijednost konstante $\\tau = RC$\n",
    "</b>\n",
    "\n",
    "Prilikom određivanja linearnog područja trebalo je ugrubo proći kroz više frekvencija i otprilike nacrtati točke na grafu. Nakon mjerenja u rasponu $500 \\ \\mathrm{Hz} - 7000 \\ \\mathrm{Hz}$ zaključio sam da bi se linearna aproksimacija trebala nalaziti otprilike na području $1 \\ \\mathrm{kHz} - 2 \\ \\mathrm{kHz}$.\n",
    "\n",
    "Izraz naveden u zadatku možemo prepoznati kao jednadžbu pravca te nam je cilj pomoću njega odrediti vrijednost $\\tau$.\n",
    "Jednom kada je izračunat pravac koji opisuje podatke iz tablice niže, lako se mogu prepoznati fizikalne vrijednosti koje smo mjerili unutar dobivenog pravca.\n",
    "\n",
    "Vrijednosti faznog pomaka su izračunate prilikom očitavanja sa osciloskopa i odmah upisane u tablicu."
   ]
  },
  {
   "cell_type": "code",
   "execution_count": 6,
   "metadata": {},
   "outputs": [],
   "source": [
    "freq = [1000,1100,1200,1300,1400,1500,1600,1700,1800,1900,2000]\n",
    "phi = [0.7162831250184728,0.6981317007977318,0.6829473363053812,0.6499606134426884,0.6283185307179586,\n",
    "        0.5235987755982988,0.5089380098815465,0.49567350756638956,0.5235987755982988,0.44575709095935173,0.41085050591946515]\n",
    "\n",
    "omega = []\n",
    "    \n",
    "for num in freq:\n",
    "    omega.append(num*2*np.pi)\n",
    "    \n",
    "d = {\"$f$ / $\\mathrm{Hz}$\": freq, \"$\\omega$ / $\\mathrm{rad \\cdot s^{-1}}$\": omega, \"$\\phi$ / $\\mathrm{rad}$\": phi}\n",
    "df = pd.DataFrame(data=d)\n",
    "\n",
    "pars,cov=curve_fit(lambda x,a,b: a*x+b , omega,phi)\n",
    "\n",
    "a=pars[0]\n",
    "b=pars[1]\n",
    "\n",
    "x_fit=linspace(100,15000)\n",
    "y_fit=a*x_fit+b\n",
    "\n",
    "dftohtml = df.to_html(col_space=12,decimal=',')"
   ]
  },
  {
   "cell_type": "markdown",
   "metadata": {},
   "source": [
    "<table border=\"1\" class=\"dataframe\">\n",
    "  <thead>\n",
    "    <tr style=\"text-align: right;\">\n",
    "      <th style=\"min-width: 12;\"></th>\n",
    "      <th style=\"min-width: 12;\">$f$ / $\\mathrm{Hz}$</th>\n",
    "      <th style=\"min-width: 12;\">$\\omega$ / $\\mathrm{rad \\cdot s^{-1}}$</th>\n",
    "      <th style=\"min-width: 12;\">$\\phi$ / $\\mathrm{rad}$</th>\n",
    "    </tr>\n",
    "  </thead>\n",
    "  <tbody>\n",
    "    <tr>\n",
    "      <th style=\"min-width: 12;\">0</th>\n",
    "      <td>1000</td>\n",
    "      <td>6283,185307</td>\n",
    "      <td>0,716283</td>\n",
    "    </tr>\n",
    "    <tr>\n",
    "      <th style=\"min-width: 12;\">1</th>\n",
    "      <td>1100</td>\n",
    "      <td>6911,503838</td>\n",
    "      <td>0,698132</td>\n",
    "    </tr>\n",
    "    <tr>\n",
    "      <th style=\"min-width: 12;\">2</th>\n",
    "      <td>1200</td>\n",
    "      <td>7539,822369</td>\n",
    "      <td>0,682947</td>\n",
    "    </tr>\n",
    "    <tr>\n",
    "      <th style=\"min-width: 12;\">3</th>\n",
    "      <td>1300</td>\n",
    "      <td>8168,140899</td>\n",
    "      <td>0,649961</td>\n",
    "    </tr>\n",
    "    <tr>\n",
    "      <th style=\"min-width: 12;\">4</th>\n",
    "      <td>1400</td>\n",
    "      <td>8796,459430</td>\n",
    "      <td>0,628319</td>\n",
    "    </tr>\n",
    "    <tr>\n",
    "      <th style=\"min-width: 12;\">5</th>\n",
    "      <td>1500</td>\n",
    "      <td>9424,777961</td>\n",
    "      <td>0,523599</td>\n",
    "    </tr>\n",
    "    <tr>\n",
    "      <th style=\"min-width: 12;\">6</th>\n",
    "      <td>1600</td>\n",
    "      <td>10053,096491</td>\n",
    "      <td>0,508938</td>\n",
    "    </tr>\n",
    "    <tr>\n",
    "      <th style=\"min-width: 12;\">7</th>\n",
    "      <td>1700</td>\n",
    "      <td>10681,415022</td>\n",
    "      <td>0,495674</td>\n",
    "    </tr>\n",
    "    <tr>\n",
    "      <th style=\"min-width: 12;\">8</th>\n",
    "      <td>1800</td>\n",
    "      <td>11309,733553</td>\n",
    "      <td>0,523599</td>\n",
    "    </tr>\n",
    "    <tr>\n",
    "      <th style=\"min-width: 12;\">9</th>\n",
    "      <td>1900</td>\n",
    "      <td>11938,052084</td>\n",
    "      <td>0,445757</td>\n",
    "    </tr>\n",
    "    <tr>\n",
    "      <th style=\"min-width: 12;\">10</th>\n",
    "      <td>2000</td>\n",
    "      <td>12566,370614</td>\n",
    "      <td>0,410851</td>\n",
    "    </tr>\n",
    "  </tbody>\n",
    "</table>"
   ]
  },
  {
   "cell_type": "markdown",
   "metadata": {},
   "source": [
    "Ako je jednadžba pravca u obliku\n",
    "\n",
    "$$ y = ax + b $$\n",
    "\n",
    "Iz zadane jednadžbe možemo prepoznati:\n",
    "\n",
    "\n",
    "$$\n",
    "\\begin{align}\n",
    "y &= \\phi \\\\\n",
    "x &= \\omega \\\\\n",
    "a &= -RC \\\\\n",
    "b &= \\frac{\\pi}{2}\n",
    "\\end{align}\n",
    "$$\n",
    "\n",
    "A obzirom da je $\\tau = RC$, prepoznajemo da možemo odrediti $\\tau = -a$, a prema tome $M_{\\tau}$ je isto što i $M_a$."
   ]
  },
  {
   "cell_type": "code",
   "execution_count": 7,
   "metadata": {},
   "outputs": [
    {
     "name": "stdout",
     "output_type": "stream",
     "text": [
      "a = -4.981060599855147e-05 ± 4.210733114193556e-06\n",
      "b = 1.0407318990645809 ± 0.040557531616653215\n"
     ]
    },
    {
     "data": {
      "image/png": "[encoded data removed]",
      "text/plain": [
       "<Figure size 864x576 with 1 Axes>"
      ]
     },
     "metadata": {},
     "output_type": "display_data"
    }
   ],
   "source": [
    "plt.figure(figsize=(12,8))\n",
    "plt.scatter(omega,phi, color=\"blue\")\n",
    "plt.plot(x_fit,y_fit, color=\"red\", linestyle=\"--\")\n",
    "plt.xlim(min(omega)-500,max(omega)+500)\n",
    "plt.ylim(min(phi)-0.1,max(phi)+0.1);\n",
    "plt.title(\"Graf ovisnosti $\\phi$ - $\\omega$\")\n",
    "plt.xlabel(\"$\\omega$ / $\\mathrm{rad \\cdot s^{-1}}$\",fontsize=16)\n",
    "plt.ylabel(\"$\\phi$ / $\\mathrm{rad}$\",fontsize=16);\n",
    "print(\"a =\", pars[0],\"±\", sqrt(cov[0,0]))\n",
    "print(\"b =\",pars[1],\"±\", sqrt(cov[1,1]))"
   ]
  },
  {
   "cell_type": "markdown",
   "metadata": {},
   "source": [
    "Iz dobivenih koeficijenata dobivenog pravca\n",
    "$$\n",
    "\\begin{align}\n",
    "a &= -0,000049 \\pm 0,000004 \\\\\n",
    "b &= 1,04 \\pm 0,04\n",
    "\\end{align}\n",
    "$$\n",
    "\n",
    "Očitamo $\\tau$:\n",
    "$$\n",
    "\\tau = (4,9 \\pm 0,4) \\times 10^{-5} \\ \\mathrm{s}\n",
    "$$"
   ]
  },
  {
   "cell_type": "markdown",
   "metadata": {},
   "source": [
    "### Zaključak:\n",
    "Treba primjetiti kako dobiveni pravac nije baš u najboljem slaganju sa izvedenom jednadžbom\n",
    "$$ \\phi = \\arctan(\\omega RC) \\approx \\frac{\\pi}{2} - \\omega RC $$\n",
    "obzirom da naš presjek sa y osi $b = 1,04 \\pm 0,04 $ prilično odstupa od izračunatoga $\\frac{\\pi}{2} \\approx 1,570796\\dots$ no smatram da je svejedno prilično dobra aproksimacija tražene veličine $\\tau$ u području u kojem vrijedi linearizacija uzeći u obzir ljudsku grešku mjerenja koja može biti prilično velika u slučaju osciloskopa."
   ]
  }
 ],
 "metadata": {
  "kernelspec": {
   "display_name": "Python 3",
   "language": "python",
   "name": "python3"
  },
  "language_info": {
   "codemirror_mode": {
    "name": "ipython",
    "version": 3
   },
   "file_extension": ".py",
   "mimetype": "text/x-python",
   "name": "python",
   "nbconvert_exporter": "python",
   "pygments_lexer": "ipython3",
   "version": "3.6.5"
  }
 },
 "nbformat": 4,
 "nbformat_minor": 2
}

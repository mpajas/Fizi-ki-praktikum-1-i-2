{
 "cells": [
  {
   "cell_type": "markdown",
   "metadata": {},
   "source": [
    "# <center> FP1–V7. Modul torzije i torzijske oscilacije <center/>\n",
    "### <center> Matija Pajas <center/>"
   ]
  },
  {
   "cell_type": "code",
   "execution_count": 1,
   "metadata": {},
   "outputs": [],
   "source": [
    "from scipy import *\n",
    "import pandas as pd\n",
    "import matplotlib.pyplot as plt\n",
    "import numpy as np\n",
    "from scipy.optimize import curve_fit\n",
    "\n",
    "#from sympy import *\n",
    "#init_printing()\n",
    "\n",
    "from IPython.display import HTML\n",
    "from IPython.display import display"
   ]
  },
  {
   "cell_type": "code",
   "execution_count": 2,
   "metadata": {},
   "outputs": [
    {
     "data": {
      "text/html": [
       "<script>\n",
       "code_show=true; \n",
       "function code_toggle() {\n",
       " if (code_show){\n",
       " $('div.input').hide();\n",
       " } else {\n",
       " $('div.input').show();\n",
       " }\n",
       " code_show = !code_show\n",
       "} \n",
       "$( document ).ready(code_toggle);\n",
       "</script>\n",
       "<form action=\"javascript:code_toggle()\"><input type=\"submit\" value=\"Pokaži/sakrij kod\"></form>"
      ],
      "text/plain": [
       "<IPython.core.display.HTML object>"
      ]
     },
     "execution_count": 2,
     "metadata": {},
     "output_type": "execute_result"
    }
   ],
   "source": [
    "HTML('''<script>\n",
    "code_show=true; \n",
    "function code_toggle() {\n",
    " if (code_show){\n",
    " $('div.input').hide();\n",
    " } else {\n",
    " $('div.input').show();\n",
    " }\n",
    " code_show = !code_show\n",
    "} \n",
    "$( document ).ready(code_toggle);\n",
    "</script>\n",
    "<form action=\"javascript:code_toggle()\"><input type=\"submit\" value=\"Pokaži/sakrij kod\"></form>''')"
   ]
  },
  {
   "cell_type": "code",
   "execution_count": 3,
   "metadata": {},
   "outputs": [
    {
     "data": {
      "text/html": [
       "\n",
       "<style>\n",
       ".output {\n",
       "    display: block;\n",
       "    align-items: center;\n",
       "    text-align: center;\n",
       "}\n",
       "td {\n",
       "  text-align: center;\n",
       "  vertical-align: middle;\n",
       "}\n",
       "</style>\n"
      ],
      "text/plain": [
       "<IPython.core.display.HTML object>"
      ]
     },
     "metadata": {},
     "output_type": "display_data"
    }
   ],
   "source": [
    "display(HTML(\"\"\"\n",
    "<style>\n",
    ".output {\n",
    "    display: block;\n",
    "    align-items: center;\n",
    "    text-align: center;\n",
    "}\n",
    "td {\n",
    "  text-align: center;\n",
    "  vertical-align: middle;\n",
    "}\n",
    "</style>\n",
    "\"\"\"))"
   ]
  },
  {
   "cell_type": "markdown",
   "metadata": {},
   "source": [
    "## Cilj vježbe\n",
    "\n",
    "Cilj ove vježbe je proučiti kako se ponašaju različiti materijali pod torzijskim opterećenjem te izmjeriti njihove module torzije. Jednom kada su moduli torzije tijela izmjereni koristimo relaciju ovisnosti modula torzije o modulu smicanja i geometriji tijela kako bismo kao glavni cilj ove vježbe odredili module smicanja materijala."
   ]
  },
  {
   "cell_type": "markdown",
   "metadata": {},
   "source": [
    "## Mjerenje i pokus\n",
    "\n",
    "Mjerni uređaji sastoje se od kružne ploče kojoj je skala podjeljena na stupnjeve. Na nju se mogu pričvrstiti šipke od različitih materijala koje dovodimo pod torzijsko opterećenje zakretanjem drvene letvice nad dnu konstrukcije za koje su zakačene. Kako bismo povećali moment inercije cijele konstrukcije imamo utege koje možemo postaviti na krajeve spomenute letvice. Za prvi dio pokusa koristimo dinamometar, a periode oscilacija mjerimo štopericom."
   ]
  },
  {
   "cell_type": "markdown",
   "metadata": {},
   "source": [
    "## Zadatak 1\n",
    "\n",
    "Potrebno je izmjeriti modul torzije čelične šipke statičkom metodom, te to napraviti za 8 kutova od $5^\\circ$ do $40^\\circ$. To znači da ću dinamometrom zakrenuti letvicu do svakog od tih kutova te očitati silu koju sam primjenio. Bitno je naglasiti da dinamometar moramo držati okomitim na letvicu jer kako je riječ o vektorskom produktu želimo da je sinus jednak 1 i izraz $\\vec{M} = \\vec{r} \\times \\vec{F}$ svede na samo $M = Fr$."
   ]
  },
  {
   "cell_type": "markdown",
   "metadata": {},
   "source": [
    "<table border=\"1\" class=\"dataframe\">\n",
    "  <thead>\n",
    "    <tr style=\"text-align: right;\">\n",
    "      <th style=\"min-width: 12;\"></th>\n",
    "      <th style=\"min-width: 12;\">$\\varphi$ / $\\mathrm{^\\circ}$</th>\n",
    "      <th style=\"min-width: 12;\">$r$ / $\\mathrm{m}$</th>\n",
    "      <th style=\"min-width: 12;\">$F$ / $\\mathrm{N}$</th>\n",
    "      <th style=\"min-width: 12;\">$M$ / $\\mathrm{Nm}$</th>\n",
    "    </tr>\n",
    "  </thead>\n",
    "  <tbody>\n",
    "    <tr>\n",
    "      <th style=\"min-width: 12;\">1</th>\n",
    "      <td>5</td>\n",
    "      <td>0,125</td>\n",
    "      <td>0,04</td>\n",
    "      <td>0,00500</td>\n",
    "    </tr>\n",
    "    <tr>\n",
    "      <th style=\"min-width: 12;\">2</th>\n",
    "      <td>10</td>\n",
    "      <td>0,125</td>\n",
    "      <td>0,22</td>\n",
    "      <td>0,02750</td>\n",
    "    </tr>\n",
    "    <tr>\n",
    "      <th style=\"min-width: 12;\">3</th>\n",
    "      <td>15</td>\n",
    "      <td>0,125</td>\n",
    "      <td>0,37</td>\n",
    "      <td>0,04625</td>\n",
    "    </tr>\n",
    "    <tr>\n",
    "      <th style=\"min-width: 12;\">4</th>\n",
    "      <td>20</td>\n",
    "      <td>0,125</td>\n",
    "      <td>0,55</td>\n",
    "      <td>0,06875</td>\n",
    "    </tr>\n",
    "    <tr>\n",
    "      <th style=\"min-width: 12;\">5</th>\n",
    "      <td>25</td>\n",
    "      <td>0,125</td>\n",
    "      <td>0,68</td>\n",
    "      <td>0,08500</td>\n",
    "    </tr>\n",
    "    <tr>\n",
    "      <th style=\"min-width: 12;\">6</th>\n",
    "      <td>30</td>\n",
    "      <td>0,125</td>\n",
    "      <td>0,77</td>\n",
    "      <td>0,09625</td>\n",
    "    </tr>\n",
    "    <tr>\n",
    "      <th style=\"min-width: 12;\">7</th>\n",
    "      <td>35</td>\n",
    "      <td>0,125</td>\n",
    "      <td>0,92</td>\n",
    "      <td>0,11500</td>\n",
    "    </tr>\n",
    "    <tr>\n",
    "      <th style=\"min-width: 12;\">8</th>\n",
    "      <td>40</td>\n",
    "      <td>0,125</td>\n",
    "      <td>1,40</td>\n",
    "      <td>0,17500</td>\n",
    "    </tr>\n",
    "  </tbody>\n",
    "</table>"
   ]
  },
  {
   "cell_type": "code",
   "execution_count": 4,
   "metadata": {},
   "outputs": [],
   "source": [
    "r = [0.125,0.125,0.125,0.125,0.125,0.125,0.125,0.125]\n",
    "F = [0.04,0.22,0.37,0.55,0.68,0.77,0.92,1.4]\n",
    "\n",
    "d = {r\"$\\varphi$ / $\\mathrm{^\\circ}$\": [5,10,15,20,25,30,35,40],\n",
    "     \"$r$ / $\\mathrm{m}$\": r,\n",
    "     \"$F$ / $\\mathrm{N}$\": F,\n",
    "     \"$M$ / $\\mathrm{Nm}$\": [x*y for x,y in zip(r,F)]}\n",
    "df = pd.DataFrame(data=d, index=range(1,9))\n",
    "#dftohtml = df.to_html(col_space=12,decimal=\",\")\n",
    "#print(dftohtml)\n",
    "means = df.mean(0)\n",
    "devs = df.std(0)\n",
    "uncs = devs/sqrt(5)\n",
    "df2 = pd.DataFrame([(str(means[i]) + \" ± \" + str(uncs[i])) for i in range(len(means))],index=list(means.keys()),columns=[\"Iznosi\"])"
   ]
  },
  {
   "cell_type": "code",
   "execution_count": 5,
   "metadata": {},
   "outputs": [],
   "source": [
    "#df2"
   ]
  },
  {
   "cell_type": "code",
   "execution_count": 6,
   "metadata": {},
   "outputs": [
    {
     "name": "stdout",
     "output_type": "stream",
     "text": [
      "a = 0.0042708333311616276 ± 0.00039389668974459133\n",
      "b = -0.018750000002234257 ± 0.009945403906070216\n"
     ]
    },
    {
     "data": {
      "image/png": "[encoded data removed]",
      "text/plain": [
       "<Figure size 576x432 with 1 Axes>"
      ]
     },
     "metadata": {},
     "output_type": "display_data"
    }
   ],
   "source": [
    " "
   ]
  },
  {
   "cell_type": "markdown",
   "metadata": {},
   "source": [
    "\n",
    "Linearnom regresijom možemo odrediti iznos modula torzije, ako je jednadžba pravca u obliku\n",
    "\n",
    "$$ y = ax + b $$\n",
    "\n",
    "Iz zadanog izraza\n",
    "\n",
    "$$\\vec{M} = D_T \\vec{\\varphi} + const  $$\n",
    "\n",
    "možemo prepoznati\n",
    "\n",
    "\n",
    "$$\n",
    "\\begin{align}\n",
    "y &= M \\\\\n",
    "x &= \\varphi \\\\\n",
    "a &= D_t \\\\\n",
    "b &= const\n",
    "\\end{align}\n",
    "$$\n",
    "\n",
    "Te kao rezultat dobivamo\n",
    "\n",
    "$$D_t = (43 \\pm 4) \\times 10^{-4} \\ \\mathrm{Nm \\cdot deg^{-1}}$$\n",
    "\n",
    "Ono što se može primjetiti na grafu je da točke odmiču od pravca kako se krećemo prema većim kutevima. Razlog tomu je što je bilo jako teško mjeriti sa dinamometrom. Na trenutke nije radio ispravno te sam ga mogao pomicati naprijed-nazad bez promjene u otklonu. Što je bio veći kut greške očitavanja zbog toga su postajale veće."
   ]
  },
  {
   "cell_type": "markdown",
   "metadata": {},
   "source": [
    "## Zadatak 2\n",
    "\n",
    "U ovom zadatku mjerio sam period oscilacija sustava koji se sastoji od čelične šipke i letvice s utezima u svrhu određivanja momenta tromosti. Kako bih bolje odredio vrijeme perioda oscilacija pustio sam sustav da oscilira deset puta te to vrijeme podijelio sa 10."
   ]
  },
  {
   "cell_type": "markdown",
   "metadata": {},
   "source": [
    "<table border=\"1\" class=\"dataframe\">\n",
    "  <thead>\n",
    "    <tr style=\"text-align: right;\">\n",
    "      <th style=\"min-width: 12;\"></th>\n",
    "      <th style=\"min-width: 12;\">$T_{10}$ / $\\mathrm{s}$</th>\n",
    "      <th style=\"min-width: 12;\">$T$ / $\\mathrm{s}$</th>\n",
    "      <th style=\"min-width: 12;\">$I$ / $\\mathrm{kgm^2}$</th>\n",
    "    </tr>\n",
    "  </thead>\n",
    "  <tbody>\n",
    "    <tr>\n",
    "      <th style=\"min-width: 12;\">1</th>\n",
    "      <td>12,91</td>\n",
    "      <td>1,291</td>\n",
    "      <td>0,000182</td>\n",
    "    </tr>\n",
    "    <tr>\n",
    "      <th style=\"min-width: 12;\">2</th>\n",
    "      <td>12,79</td>\n",
    "      <td>1,279</td>\n",
    "      <td>0,000178</td>\n",
    "    </tr>\n",
    "    <tr>\n",
    "      <th style=\"min-width: 12;\">3</th>\n",
    "      <td>12,85</td>\n",
    "      <td>1,285</td>\n",
    "      <td>0,000180</td>\n",
    "    </tr>\n",
    "    <tr>\n",
    "      <th style=\"min-width: 12;\">4</th>\n",
    "      <td>12,75</td>\n",
    "      <td>1,275</td>\n",
    "      <td>0,000177</td>\n",
    "    </tr>\n",
    "    <tr>\n",
    "      <th style=\"min-width: 12;\">5</th>\n",
    "      <td>12,85</td>\n",
    "      <td>1,285</td>\n",
    "      <td>0,000180</td>\n",
    "    </tr>\n",
    "    <tr>\n",
    "      <th style=\"min-width: 12;\">6</th>\n",
    "      <td>12,78</td>\n",
    "      <td>1,278</td>\n",
    "      <td>0,000178</td>\n",
    "    </tr>\n",
    "    <tr>\n",
    "      <th style=\"min-width: 12;\">7</th>\n",
    "      <td>12,80</td>\n",
    "      <td>1,280</td>\n",
    "      <td>0,000178</td>\n",
    "    </tr>\n",
    "    <tr>\n",
    "      <th style=\"min-width: 12;\">8</th>\n",
    "      <td>12,81</td>\n",
    "      <td>1,281</td>\n",
    "      <td>0,000179</td>\n",
    "    </tr>\n",
    "    <tr>\n",
    "      <th style=\"min-width: 12;\">9</th>\n",
    "      <td>12,79</td>\n",
    "      <td>1,279</td>\n",
    "      <td>0,000178</td>\n",
    "    </tr>\n",
    "    <tr>\n",
    "      <th style=\"min-width: 12;\">10</th>\n",
    "      <td>12,76</td>\n",
    "      <td>1,276</td>\n",
    "      <td>0,000177</td>\n",
    "    </tr>\n",
    "  </tbody>\n",
    "</table>"
   ]
  },
  {
   "cell_type": "markdown",
   "metadata": {},
   "source": [
    "Kako bih odredio moment inercije koristim izraz niže te računam njegovu nepouzdanost pomoću podataka iz tablice iznad."
   ]
  },
  {
   "cell_type": "code",
   "execution_count": 20,
   "metadata": {},
   "outputs": [
    {
     "data": {
      "text/html": [
       "<div>\n",
       "<style scoped>\n",
       "    .dataframe tbody tr th:only-of-type {\n",
       "        vertical-align: middle;\n",
       "    }\n",
       "\n",
       "    .dataframe tbody tr th {\n",
       "        vertical-align: top;\n",
       "    }\n",
       "\n",
       "    .dataframe thead th {\n",
       "        text-align: right;\n",
       "    }\n",
       "</style>\n",
       "<table border=\"1\" class=\"dataframe\">\n",
       "  <thead>\n",
       "    <tr style=\"text-align: right;\">\n",
       "      <th></th>\n",
       "      <th>$T_{10}$ / $\\mathrm{s}$</th>\n",
       "      <th>$T$ / $\\mathrm{s}$</th>\n",
       "      <th>$I$ / $\\mathrm{kgm^2}$</th>\n",
       "    </tr>\n",
       "  </thead>\n",
       "  <tbody>\n",
       "    <tr>\n",
       "      <th>1</th>\n",
       "      <td>12.91</td>\n",
       "      <td>1.291</td>\n",
       "      <td>0.000182</td>\n",
       "    </tr>\n",
       "    <tr>\n",
       "      <th>2</th>\n",
       "      <td>12.79</td>\n",
       "      <td>1.279</td>\n",
       "      <td>0.000178</td>\n",
       "    </tr>\n",
       "    <tr>\n",
       "      <th>3</th>\n",
       "      <td>12.85</td>\n",
       "      <td>1.285</td>\n",
       "      <td>0.000180</td>\n",
       "    </tr>\n",
       "    <tr>\n",
       "      <th>4</th>\n",
       "      <td>12.75</td>\n",
       "      <td>1.275</td>\n",
       "      <td>0.000177</td>\n",
       "    </tr>\n",
       "    <tr>\n",
       "      <th>5</th>\n",
       "      <td>12.85</td>\n",
       "      <td>1.285</td>\n",
       "      <td>0.000180</td>\n",
       "    </tr>\n",
       "    <tr>\n",
       "      <th>6</th>\n",
       "      <td>12.78</td>\n",
       "      <td>1.278</td>\n",
       "      <td>0.000178</td>\n",
       "    </tr>\n",
       "    <tr>\n",
       "      <th>7</th>\n",
       "      <td>12.80</td>\n",
       "      <td>1.280</td>\n",
       "      <td>0.000178</td>\n",
       "    </tr>\n",
       "    <tr>\n",
       "      <th>8</th>\n",
       "      <td>12.81</td>\n",
       "      <td>1.281</td>\n",
       "      <td>0.000179</td>\n",
       "    </tr>\n",
       "    <tr>\n",
       "      <th>9</th>\n",
       "      <td>12.79</td>\n",
       "      <td>1.279</td>\n",
       "      <td>0.000178</td>\n",
       "    </tr>\n",
       "    <tr>\n",
       "      <th>10</th>\n",
       "      <td>12.76</td>\n",
       "      <td>1.276</td>\n",
       "      <td>0.000177</td>\n",
       "    </tr>\n",
       "  </tbody>\n",
       "</table>\n",
       "</div>"
      ],
      "text/plain": [
       "    $T_{10}$ / $\\mathrm{s}$  $T$ / $\\mathrm{s}$  $I$ / $\\mathrm{kgm^2}$\n",
       "1                     12.91               1.291                0.000182\n",
       "2                     12.79               1.279                0.000178\n",
       "3                     12.85               1.285                0.000180\n",
       "4                     12.75               1.275                0.000177\n",
       "5                     12.85               1.285                0.000180\n",
       "6                     12.78               1.278                0.000178\n",
       "7                     12.80               1.280                0.000178\n",
       "8                     12.81               1.281                0.000179\n",
       "9                     12.79               1.279                0.000178\n",
       "10                    12.76               1.276                0.000177"
      ]
     },
     "execution_count": 20,
     "metadata": {},
     "output_type": "execute_result"
    }
   ],
   "source": [
    "T10 = [12.91,12.79,12.85,12.75,12.85,12.78,12.80,12.81,12.79,12.76]\n",
    "T = [t/10 for t in T10]\n",
    "\n",
    "d = {\"$T_{10}$ / $\\mathrm{s}$\": T10,\n",
    "     \"$T$ / $\\mathrm{s}$\": T,\n",
    "     \"$I$ / $\\mathrm{kgm^2}$\": [0.0043*(t/(2*np.pi))**2 for t in T]}\n",
    "df = pd.DataFrame(data=d, index=range(1,11))\n",
    "#dftohtml = df.to_html(col_space=12,decimal=\",\")\n",
    "#print(dftohtml)\n",
    "means = df.mean(0)\n",
    "devs = df.std(0)\n",
    "uncs = devs/sqrt(5)\n",
    "df2 = pd.DataFrame([(str(means[i]) + \" ± \" + str(uncs[i])) for i in range(len(means))],index=list(means.keys()),columns=[\"Iznosi\"])\n",
    "df"
   ]
  },
  {
   "cell_type": "code",
   "execution_count": 8,
   "metadata": {},
   "outputs": [
    {
     "data": {
      "text/html": [
       "<div>\n",
       "<style scoped>\n",
       "    .dataframe tbody tr th:only-of-type {\n",
       "        vertical-align: middle;\n",
       "    }\n",
       "\n",
       "    .dataframe tbody tr th {\n",
       "        vertical-align: top;\n",
       "    }\n",
       "\n",
       "    .dataframe thead th {\n",
       "        text-align: right;\n",
       "    }\n",
       "</style>\n",
       "<table border=\"1\" class=\"dataframe\">\n",
       "  <thead>\n",
       "    <tr style=\"text-align: right;\">\n",
       "      <th></th>\n",
       "      <th>Iznosi</th>\n",
       "    </tr>\n",
       "  </thead>\n",
       "  <tbody>\n",
       "    <tr>\n",
       "      <th>$T_{10}$ / $\\mathrm{s}$</th>\n",
       "      <td>12.808999999999997 ± 0.021648710508172728</td>\n",
       "    </tr>\n",
       "    <tr>\n",
       "      <th>$T$ / $\\mathrm{s}$</th>\n",
       "      <td>1.2809 ± 0.0021648710508172615</td>\n",
       "    </tr>\n",
       "    <tr>\n",
       "      <th>$I$ / $\\mathrm{kgm^2}$</th>\n",
       "      <td>0.00017870831198718793 ± 6.049708272719837e-07</td>\n",
       "    </tr>\n",
       "  </tbody>\n",
       "</table>\n",
       "</div>"
      ],
      "text/plain": [
       "                                                                 Iznosi\n",
       "$T_{10}$ / $\\mathrm{s}$       12.808999999999997 ± 0.021648710508172728\n",
       "$T$ / $\\mathrm{s}$                       1.2809 ± 0.0021648710508172615\n",
       "$I$ / $\\mathrm{kgm^2}$   0.00017870831198718793 ± 6.049708272719837e-07"
      ]
     },
     "execution_count": 8,
     "metadata": {},
     "output_type": "execute_result"
    }
   ],
   "source": [
    "df2"
   ]
  },
  {
   "cell_type": "code",
   "execution_count": 9,
   "metadata": {},
   "outputs": [],
   "source": [
    "#T,Dt,Mt,Md = symbols(\"T,D_t,M_t,M_D_t\")\n",
    "#I = Function(\"I\")(T,Dt)\n",
    "#display(sqrt((I.diff(T)*Mt)**2 + (I.diff(Dt)*Md)**2))\n",
    "#I = Dt*(T/(2*pi))**2\n",
    "#display(I)\n",
    "#display(I.subs([(Dt,0.0043),(T,1.2809)]).evalf())\n",
    "#display(sqrt((I.diff(T)*Mt)**2 + (I.diff(Dt)*Md)**2))\n",
    "#display(sqrt((I.diff(T)*Mt)**2 + (I.diff(Dt)*Md)**2).subs([(T,1.2809), (Mt,0.003), (Dt,0.0043), (Md,0.0004)]).evalf())"
   ]
  },
  {
   "cell_type": "markdown",
   "metadata": {},
   "source": [
    "$$T = 2\\pi\\sqrt{\\frac{I}{D_t}}$$\n",
    "\n",
    "$$\\overline{I} = \\overline{D_t} \\Big( \\frac{\\overline{T}}{2\\pi} \\Big)^2 = 0,000178706014858643 \\ \\mathrm{kgm^2}$$"
   ]
  },
  {
   "cell_type": "markdown",
   "metadata": {},
   "source": [
    "$$\n",
    "\\begin{align}\n",
    "M_I & = \\sqrt{M_{D t}^{2} \\left(\\frac{\\partial}{\\partial D_{t}} I{\\left (T,D_{t} \\right )}\\right)^{2} + M_{t}^{2} \\left(\\frac{\\partial}{\\partial T} I{\\left (T,D_{t} \\right )}\\right)^{2}} \\\\\n",
    "M_I & = \\sqrt{\\frac{D_{t}^{2} M_{t}^{2} T^{2}}{4 \\pi^{4}} + \\frac{M_{D t}^{2} T^{4}}{16 \\pi^{4}}} \\\\\n",
    "M_I & = \\frac{D_{t} T^{2}}{4 \\pi^{2}} \\sqrt{\\frac{4 M_{t}^{2}}{ T^{2} } + \\frac{M_{D t}^{2}}{D_t^2}} \\\\\n",
    "M_I & = 1,66448780649361 \\times 10^{-5} \\ \\mathrm{kgm^2}\n",
    "\\end{align}\n",
    "$$"
   ]
  },
  {
   "cell_type": "markdown",
   "metadata": {},
   "source": [
    "$$I = (18 \\pm 4) \\times 10^{-5} \\ \\mathrm{kgm^2}$$"
   ]
  },
  {
   "cell_type": "markdown",
   "metadata": {},
   "source": [
    "Sada kada je moment tromosti izračunat, možemo koristiti isti moment tromosti za sva iduća tijela jer su jako malog radijusa i njihov doprinost momentu tromosti možemo zanemariti u usporedbi sa utezima na kraju letvica. Upravo to se radi u idućem zadatku."
   ]
  },
  {
   "cell_type": "markdown",
   "metadata": {},
   "source": [
    "## Zadatak 3\n",
    "\n",
    "Cilj ovog zadatka je izmeriti period torzijskih oscilacija aluminijske, bakrene i mjedene šipke istih dimenzija koje su zapisane niže. Računam ih na jednak način kao u prethodnom zadatku pomoću podataka iz tablice niže, te nakon toga računam module smicanja za svako tijelo preko izraza ovisnosti modula torzije o modulu smicanja i geometriji tijela."
   ]
  },
  {
   "cell_type": "code",
   "execution_count": 10,
   "metadata": {},
   "outputs": [],
   "source": [
    "#T,Dt,Mt,Md,MI,i = symbols(\"T,D_t,M_t,M_D_t,M_I,I\")\n",
    "#Dt = Function(\"D_t\")(T,i)\n",
    "#display(sqrt((Dt.diff(T)*Mt)**2 + (Dt.diff(i)*MI)**2))\n",
    "#Dt = i*(T/(2*pi))**(-2)\n",
    "#display(Dt)\n",
    "##čelik\n",
    "#display(Dt.subs([(i,0.000178706014858643),(T,1.2809)]).evalf())\n",
    "##aluminij\n",
    "#display(Dt.subs([(i,0.000178706014858643),(T,2.2314)]).evalf())\n",
    "##bakar\n",
    "#display(Dt.subs([(i,0.000178706014858643),(T,1.7571999999999999)]).evalf())\n",
    "##mjed\n",
    "#display(Dt.subs([(i,0.000178706014858643),(T,1.8760000000000001)]).evalf())\n",
    "\n",
    "#display(sqrt((Dt.diff(T)*Mt)**2 + (Dt.diff(i)*MI)**2))\n",
    "##čelik\n",
    "#display(sqrt((Dt.diff(T)*Mt)**2 + (Dt.diff(i)*MI)**2).subs([(T,1.2809), (Mt,0.00096815976642976*sqrt(5)), (i,0.000178706014858643),(MI,0.0000166448780649361)]).evalf())\n",
    "##Aluminij\n",
    "#display(sqrt((Dt.diff(T)*Mt)**2 + (Dt.diff(i)*MI)**2).subs([(T,2.2314), (Mt,0.00120498962651138*sqrt(5)), (i,0.000178706014858643),(MI,0.0000166448780649361)]).evalf())\n",
    "##Bakar\n",
    "#display(sqrt((Dt.diff(T)*Mt)**2 + (Dt.diff(i)*MI)**2).subs([(T,1.7571999999999999), (Mt,0.002863564212655211), (i,0.000178706014858643),(MI,0.0000166448780649361)]).evalf())\n",
    "##Mjed\n",
    "#display(sqrt((Dt.diff(T)*Mt)**2 + (Dt.diff(i)*MI)**2).subs([(T,1.8760000000000001), (Mt,0.002863564212655211), (i,0.000178706014858643),(MI,0.0000166448780649361)]).evalf())\n",
    "#init_printing(pretty_print=False)"
   ]
  },
  {
   "cell_type": "markdown",
   "metadata": {},
   "source": [
    "### Čelik"
   ]
  },
  {
   "cell_type": "markdown",
   "metadata": {},
   "source": [
    "<table border=\"1\" class=\"dataframe\">\n",
    "  <thead>\n",
    "    <tr style=\"text-align: right;\">\n",
    "      <th style=\"min-width: 12;\"></th>\n",
    "      <th style=\"min-width: 12;\">$T_{10}$ / $\\mathrm{s}$</th>\n",
    "      <th style=\"min-width: 12;\">$T$ / $\\mathrm{s}$</th>\n",
    "      <th style=\"min-width: 12;\">$D_t$ / $\\mathrm{Nm \\cdot deg^{-1}}$</th>\n",
    "    </tr>\n",
    "  </thead>\n",
    "  <tbody>\n",
    "    <tr>\n",
    "      <th style=\"min-width: 12;\">1</th>\n",
    "      <td>12,91</td>\n",
    "      <td>1,291</td>\n",
    "      <td>0,409534</td>\n",
    "    </tr>\n",
    "    <tr>\n",
    "      <th style=\"min-width: 12;\">2</th>\n",
    "      <td>12,79</td>\n",
    "      <td>1,279</td>\n",
    "      <td>0,417255</td>\n",
    "    </tr>\n",
    "    <tr>\n",
    "      <th style=\"min-width: 12;\">3</th>\n",
    "      <td>12,85</td>\n",
    "      <td>1,285</td>\n",
    "      <td>0,413367</td>\n",
    "    </tr>\n",
    "    <tr>\n",
    "      <th style=\"min-width: 12;\">4</th>\n",
    "      <td>12,75</td>\n",
    "      <td>1,275</td>\n",
    "      <td>0,419877</td>\n",
    "    </tr>\n",
    "    <tr>\n",
    "      <th style=\"min-width: 12;\">5</th>\n",
    "      <td>12,85</td>\n",
    "      <td>1,285</td>\n",
    "      <td>0,413367</td>\n",
    "    </tr>\n",
    "    <tr>\n",
    "      <th style=\"min-width: 12;\">6</th>\n",
    "      <td>12,78</td>\n",
    "      <td>1,278</td>\n",
    "      <td>0,417908</td>\n",
    "    </tr>\n",
    "    <tr>\n",
    "      <th style=\"min-width: 12;\">7</th>\n",
    "      <td>12,80</td>\n",
    "      <td>1,280</td>\n",
    "      <td>0,416603</td>\n",
    "    </tr>\n",
    "    <tr>\n",
    "      <th style=\"min-width: 12;\">8</th>\n",
    "      <td>12,81</td>\n",
    "      <td>1,281</td>\n",
    "      <td>0,415953</td>\n",
    "    </tr>\n",
    "    <tr>\n",
    "      <th style=\"min-width: 12;\">9</th>\n",
    "      <td>12,79</td>\n",
    "      <td>1,279</td>\n",
    "      <td>0,417255</td>\n",
    "    </tr>\n",
    "    <tr>\n",
    "      <th style=\"min-width: 12;\">10</th>\n",
    "      <td>12,76</td>\n",
    "      <td>1,276</td>\n",
    "      <td>0,419219</td>\n",
    "    </tr>\n",
    "  </tbody>\n",
    "</table>"
   ]
  },
  {
   "cell_type": "markdown",
   "metadata": {},
   "source": [
    "$$ D_t = \\frac{4 \\overline{I}}{\\overline{T}^{2}} \\pi^{2} = 0,00430000000000001 \\ \\mathrm{Nm \\cdot deg^{-1}} $$"
   ]
  },
  {
   "cell_type": "markdown",
   "metadata": {},
   "source": [
    "$$\n",
    "\\begin{align}\n",
    "M_{D_t} & = \\sqrt{M_{I}^{2} \\left(\\frac{\\partial}{\\partial I} \\operatorname{D_{t}}{\\left (T,I \\right )}\\right)^{2} + M_{t}^{2} \\left(\\frac{\\partial}{\\partial T} \\operatorname{D_{t}}{\\left (T,I \\right )}\\right)^{2}} \\\\\n",
    "M_{D_t} & = \\sqrt{\\frac{64 \\pi^{4}}{T^{6}} I^{2} M_{t}^{2} + \\frac{16 \\pi^{4}}{T^{4}} M_{I}^{2}} \\\\\n",
    "M_{D_t} & = \\frac{4 I}{T^{2}} \\pi^{2}\\sqrt{\\frac{4 M_{t}^{2}}{T^{2}} + \\frac{ M_{I}^{2}}{I^2}} \\\\\n",
    "M_{D_t} & = 0,000400770470636391 \\ \\mathrm{Nm \\cdot deg^{-1}}\n",
    "\\end{align}\n",
    "$$"
   ]
  },
  {
   "cell_type": "markdown",
   "metadata": {},
   "source": [
    "$$M_{D_t} = (43 \\pm 4) \\times 10^{-4} \\ \\mathrm{Nm \\cdot deg^{-1}}$$"
   ]
  },
  {
   "cell_type": "markdown",
   "metadata": {},
   "source": [
    "$L = 0.5 \\mathrm{m}$\n",
    "\n",
    "$R = 0.001 \\mathrm{m}$"
   ]
  },
  {
   "cell_type": "markdown",
   "metadata": {},
   "source": [
    "$$G = D_t \\frac{2L}{\\pi R^4} \\approx 1,37 \\ \\mathrm{GPa}$$"
   ]
  },
  {
   "cell_type": "code",
   "execution_count": 11,
   "metadata": {},
   "outputs": [],
   "source": [
    "T10 = [12.91,12.79,12.85,12.75,12.85,12.78,12.80,12.81,12.79,12.76]\n",
    "T = [t/10 for t in T10]\n",
    "\n",
    "d = {\"$T_{10}$ / $\\mathrm{s}$\": T10,\n",
    "     \"$T$ / $\\mathrm{s}$\": T,\n",
    "     \"$D_t$ / $\\mathrm{Nm \\cdot deg^{-1}}$\": [0.017289515719339673*(t/(2*np.pi))**(-2) for t in T]}\n",
    "df = pd.DataFrame(data=d, index=range(1,11))\n",
    "#dftohtml = df.to_html(col_space=12,decimal=\",\")\n",
    "#print(dftohtml)\n",
    "means = df.mean(0)\n",
    "devs = df.std(0)\n",
    "uncs = devs/sqrt(5)\n",
    "df2 = pd.DataFrame([(str(means[i]) + \" ± \" + str(uncs[i])) for i in range(len(means))],index=list(means.keys()),columns=[\"Iznosi\"])\n",
    "#df"
   ]
  },
  {
   "cell_type": "code",
   "execution_count": 19,
   "metadata": {},
   "outputs": [
    {
     "data": {
      "text/html": [
       "<div>\n",
       "<style scoped>\n",
       "    .dataframe tbody tr th:only-of-type {\n",
       "        vertical-align: middle;\n",
       "    }\n",
       "\n",
       "    .dataframe tbody tr th {\n",
       "        vertical-align: top;\n",
       "    }\n",
       "\n",
       "    .dataframe thead th {\n",
       "        text-align: right;\n",
       "    }\n",
       "</style>\n",
       "<table border=\"1\" class=\"dataframe\">\n",
       "  <thead>\n",
       "    <tr style=\"text-align: right;\">\n",
       "      <th></th>\n",
       "      <th>Iznosi</th>\n",
       "    </tr>\n",
       "  </thead>\n",
       "  <tbody>\n",
       "    <tr>\n",
       "      <th>$T_{10}$ / $\\mathrm{s}$</th>\n",
       "      <td>18.76 ± 0.028635642126552344</td>\n",
       "    </tr>\n",
       "    <tr>\n",
       "      <th>$T$ / $\\mathrm{s}$</th>\n",
       "      <td>1.8760000000000001 ± 0.002863564212655211</td>\n",
       "    </tr>\n",
       "    <tr>\n",
       "      <th>$D_t$ / $\\mathrm{Nm \\cdot deg^{-1}}$</th>\n",
       "      <td>0.19394966391508725 ± 0.0005916142589128379</td>\n",
       "    </tr>\n",
       "  </tbody>\n",
       "</table>\n",
       "</div>"
      ],
      "text/plain": [
       "                                                                           Iznosi\n",
       "$T_{10}$ / $\\mathrm{s}$                              18.76 ± 0.028635642126552344\n",
       "$T$ / $\\mathrm{s}$                      1.8760000000000001 ± 0.002863564212655211\n",
       "$D_t$ / $\\mathrm{Nm \\cdot deg^{-1}}$  0.19394966391508725 ± 0.0005916142589128379"
      ]
     },
     "execution_count": 19,
     "metadata": {},
     "output_type": "execute_result"
    }
   ],
   "source": [
    "df2"
   ]
  },
  {
   "cell_type": "markdown",
   "metadata": {},
   "source": [
    "### Aluminij"
   ]
  },
  {
   "cell_type": "markdown",
   "metadata": {},
   "source": [
    "<table border=\"1\" class=\"dataframe\">\n",
    "  <thead>\n",
    "    <tr style=\"text-align: right;\">\n",
    "      <th style=\"min-width: 12;\"></th>\n",
    "      <th style=\"min-width: 12;\">$T_{10}$ / $\\mathrm{s}$</th>\n",
    "      <th style=\"min-width: 12;\">$T$ / $\\mathrm{s}$</th>\n",
    "      <th style=\"min-width: 12;\">$D_t$ / $\\mathrm{Nm \\cdot deg^{-1}}$</th>\n",
    "    </tr>\n",
    "  </thead>\n",
    "  <tbody>\n",
    "    <tr>\n",
    "      <th style=\"min-width: 12;\">1</th>\n",
    "      <td>22,35</td>\n",
    "      <td>2,235</td>\n",
    "      <td>0,136643</td>\n",
    "    </tr>\n",
    "    <tr>\n",
    "      <th style=\"min-width: 12;\">2</th>\n",
    "      <td>22,34</td>\n",
    "      <td>2,234</td>\n",
    "      <td>0,136765</td>\n",
    "    </tr>\n",
    "    <tr>\n",
    "      <th style=\"min-width: 12;\">3</th>\n",
    "      <td>22,22</td>\n",
    "      <td>2,222</td>\n",
    "      <td>0,138247</td>\n",
    "    </tr>\n",
    "    <tr>\n",
    "      <th style=\"min-width: 12;\">4</th>\n",
    "      <td>22,37</td>\n",
    "      <td>2,237</td>\n",
    "      <td>0,136399</td>\n",
    "    </tr>\n",
    "    <tr>\n",
    "      <th style=\"min-width: 12;\">5</th>\n",
    "      <td>22,29</td>\n",
    "      <td>2,229</td>\n",
    "      <td>0,137380</td>\n",
    "    </tr>\n",
    "  </tbody>\n",
    "</table>"
   ]
  },
  {
   "cell_type": "markdown",
   "metadata": {},
   "source": [
    "$$ M_{D_t} = (14 \\pm 1) \\times 10^{-4} \\ \\mathrm{Nm \\cdot deg^{-1}}  $$"
   ]
  },
  {
   "cell_type": "markdown",
   "metadata": {},
   "source": [
    "$$G = D_t \\frac{2L}{\\pi R^4} \\approx 0,446 \\ \\mathrm{GPa}$$"
   ]
  },
  {
   "cell_type": "code",
   "execution_count": 13,
   "metadata": {},
   "outputs": [],
   "source": [
    "T10 = [22.35,22.34,22.22,22.37,22.29]\n",
    "T = [t/10 for t in T10]\n",
    "\n",
    "d = {\"$T_{10}$ / $\\mathrm{s}$\": T10,\n",
    "     \"$T$ / $\\mathrm{s}$\": T,\n",
    "     \"$D_t$ / $\\mathrm{Nm \\cdot deg^{-1}}$\": [0.017289515719339673*(t/(2*np.pi))**(-2) for t in T]}\n",
    "df = pd.DataFrame(data=d, index=range(1,6))\n",
    "#dftohtml = df.to_html(col_space=12,decimal=\",\")\n",
    "#print(dftohtml)\n",
    "means = df.mean(0)\n",
    "devs = df.std(0)\n",
    "uncs = devs/sqrt(5)\n",
    "df2 = pd.DataFrame([(str(means[i]) + \" ± \" + str(uncs[i])) for i in range(len(means))],index=list(means.keys()),columns=[\"Iznosi\"])\n",
    "#df"
   ]
  },
  {
   "cell_type": "code",
   "execution_count": 14,
   "metadata": {},
   "outputs": [],
   "source": [
    "#df2"
   ]
  },
  {
   "cell_type": "markdown",
   "metadata": {},
   "source": [
    "### Bakar"
   ]
  },
  {
   "cell_type": "markdown",
   "metadata": {},
   "source": [
    "<table border=\"1\" class=\"dataframe\">\n",
    "  <thead>\n",
    "    <tr style=\"text-align: right;\">\n",
    "      <th style=\"min-width: 12;\"></th>\n",
    "      <th style=\"min-width: 12;\">$T_{10}$ / $\\mathrm{s}$</th>\n",
    "      <th style=\"min-width: 12;\">$T$ / $\\mathrm{s}$</th>\n",
    "      <th style=\"min-width: 12;\">$D_t$ / $\\mathrm{Nm \\cdot deg^{-1}}$</th>\n",
    "    </tr>\n",
    "  </thead>\n",
    "  <tbody>\n",
    "    <tr>\n",
    "      <th style=\"min-width: 12;\">1</th>\n",
    "      <td>17,38</td>\n",
    "      <td>1,738</td>\n",
    "      <td>0,225966</td>\n",
    "    </tr>\n",
    "    <tr>\n",
    "      <th style=\"min-width: 12;\">2</th>\n",
    "      <td>17,57</td>\n",
    "      <td>1,757</td>\n",
    "      <td>0,221105</td>\n",
    "    </tr>\n",
    "    <tr>\n",
    "      <th style=\"min-width: 12;\">3</th>\n",
    "      <td>17,56</td>\n",
    "      <td>1,756</td>\n",
    "      <td>0,221357</td>\n",
    "    </tr>\n",
    "    <tr>\n",
    "      <th style=\"min-width: 12;\">4</th>\n",
    "      <td>17,66</td>\n",
    "      <td>1,766</td>\n",
    "      <td>0,218857</td>\n",
    "    </tr>\n",
    "    <tr>\n",
    "      <th style=\"min-width: 12;\">5</th>\n",
    "      <td>17,69</td>\n",
    "      <td>1,769</td>\n",
    "      <td>0,218116</td>\n",
    "    </tr>\n",
    "  </tbody>\n",
    "</table>"
   ]
  },
  {
   "cell_type": "markdown",
   "metadata": {},
   "source": [
    "$$M_{D_t} = (23 \\pm 2) \\times 10^{-4} \\ \\mathrm{Nm \\cdot deg^{-1}}$$"
   ]
  },
  {
   "cell_type": "markdown",
   "metadata": {},
   "source": [
    "$$G = D_t \\frac{2L}{\\pi R^4} \\approx 0,732 \\ \\mathrm{GPa}$$"
   ]
  },
  {
   "cell_type": "code",
   "execution_count": 15,
   "metadata": {},
   "outputs": [],
   "source": [
    "T10 = [17.38,17.57,17.56,17.66,17.69]\n",
    "T = [t/10 for t in T10]\n",
    "\n",
    "d = {\"$T_{10}$ / $\\mathrm{s}$\": T10,\n",
    "     \"$T$ / $\\mathrm{s}$\": T,\n",
    "     \"$D_t$ / $\\mathrm{Nm \\cdot deg^{-1}}$\": [0.017289515719339673*(t/(2*np.pi))**(-2) for t in T]}\n",
    "df = pd.DataFrame(data=d, index=range(1,6))\n",
    "#dftohtml = df.to_html(col_space=12,decimal=\",\")\n",
    "#print(dftohtml)\n",
    "means = df.mean(0)\n",
    "devs = df.std(0)\n",
    "uncs = devs/sqrt(5)\n",
    "df2 = pd.DataFrame([(str(means[i]) + \" ± \" + str(uncs[i])) for i in range(len(means))],index=list(means.keys()),columns=[\"Iznosi\"])\n",
    "#df"
   ]
  },
  {
   "cell_type": "code",
   "execution_count": 16,
   "metadata": {},
   "outputs": [],
   "source": [
    "#df2"
   ]
  },
  {
   "cell_type": "markdown",
   "metadata": {},
   "source": [
    "### Mjed"
   ]
  },
  {
   "cell_type": "markdown",
   "metadata": {},
   "source": [
    "<table border=\"1\" class=\"dataframe\">\n",
    "  <thead>\n",
    "    <tr style=\"text-align: right;\">\n",
    "      <th style=\"min-width: 12;\"></th>\n",
    "      <th style=\"min-width: 12;\">$T_{10}$ / $\\mathrm{s}$</th>\n",
    "      <th style=\"min-width: 12;\">$T$ / $\\mathrm{s}$</th>\n",
    "      <th style=\"min-width: 12;\">$D_t$ / $\\mathrm{Nm \\cdot deg^{-1}}$</th>\n",
    "    </tr>\n",
    "  </thead>\n",
    "  <tbody>\n",
    "    <tr>\n",
    "      <th style=\"min-width: 12;\">1</th>\n",
    "      <td>18,81</td>\n",
    "      <td>1,881</td>\n",
    "      <td>0,192915</td>\n",
    "    </tr>\n",
    "    <tr>\n",
    "      <th style=\"min-width: 12;\">2</th>\n",
    "      <td>18,84</td>\n",
    "      <td>1,884</td>\n",
    "      <td>0,192301</td>\n",
    "    </tr>\n",
    "    <tr>\n",
    "      <th style=\"min-width: 12;\">3</th>\n",
    "      <td>18,69</td>\n",
    "      <td>1,869</td>\n",
    "      <td>0,195400</td>\n",
    "    </tr>\n",
    "    <tr>\n",
    "      <th style=\"min-width: 12;\">4</th>\n",
    "      <td>18,71</td>\n",
    "      <td>1,871</td>\n",
    "      <td>0,194982</td>\n",
    "    </tr>\n",
    "    <tr>\n",
    "      <th style=\"min-width: 12;\">5</th>\n",
    "      <td>18,75</td>\n",
    "      <td>1,875</td>\n",
    "      <td>0,194151</td>\n",
    "    </tr>\n",
    "  </tbody>\n",
    "</table>"
   ]
  },
  {
   "cell_type": "markdown",
   "metadata": {},
   "source": [
    "$$M_{D_t} = (20 \\pm 2) \\times 10^{-4} \\ \\mathrm{Nm \\cdot deg^{-1}}$$"
   ]
  },
  {
   "cell_type": "markdown",
   "metadata": {},
   "source": [
    "$$G = D_t \\frac{2L}{\\pi R^4} \\approx 0,637 \\ \\mathrm{GPa}$$"
   ]
  },
  {
   "cell_type": "markdown",
   "metadata": {},
   "source": [
    "## Zaključak\n",
    "\n",
    "Ovaj pokus zahtjevao je pažljivo namještanje i učvršćivanje šipki jer ih je jako lako saviti. To se često događalo i zbog toga su mjerenja i očivatavanja bila dosta otežana. Dinamometri nisu baš najispravnije radili no usprkos tome uspio sam dobiti konzistentne rezultate za različite materijale te smo time pokazali kako se torzijske oscilacije mogu koristiti za određivanje modula smicanja na kreativan indirektan način."
   ]
  },
  {
   "cell_type": "code",
   "execution_count": 17,
   "metadata": {},
   "outputs": [],
   "source": [
    "T10 = [18.81,18.84,18.69,18.71,18.75]\n",
    "T = [t/10 for t in T10]\n",
    "\n",
    "d = {\"$T_{10}$ / $\\mathrm{s}$\": T10,\n",
    "     \"$T$ / $\\mathrm{s}$\": T,\n",
    "     \"$D_t$ / $\\mathrm{Nm \\cdot deg^{-1}}$\": [0.017289515719339673*(t/(2*np.pi))**(-2) for t in T]}\n",
    "df = pd.DataFrame(data=d, index=range(1,6))\n",
    "#dftohtml = df.to_html(col_space=12,decimal=\",\")\n",
    "#print(dftohtml)\n",
    "means = df.mean(0)\n",
    "devs = df.std(0)\n",
    "uncs = devs/sqrt(5)\n",
    "df2 = pd.DataFrame([(str(means[i]) + \" ± \" + str(uncs[i])) for i in range(len(means))],index=list(means.keys()),columns=[\"Iznosi\"])\n",
    "#df"
   ]
  },
  {
   "cell_type": "code",
   "execution_count": 18,
   "metadata": {},
   "outputs": [],
   "source": [
    "#df2"
   ]
  }
 ],
 "metadata": {
  "kernelspec": {
   "display_name": "Python 3",
   "language": "python",
   "name": "python3"
  },
  "language_info": {
   "codemirror_mode": {
    "name": "ipython",
    "version": 3
   },
   "file_extension": ".py",
   "mimetype": "text/x-python",
   "name": "python",
   "nbconvert_exporter": "python",
   "pygments_lexer": "ipython3",
   "version": "3.6.5"
  }
 },
 "nbformat": 4,
 "nbformat_minor": 2
}

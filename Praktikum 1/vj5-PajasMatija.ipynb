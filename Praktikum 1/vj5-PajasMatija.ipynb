{
 "cells": [
  {
   "cell_type": "markdown",
   "metadata": {},
   "source": [
    "# <center> FP2–V5. Brzina svjetlosti\n",
    "## <center> Matija Pajas"
   ]
  },
  {
   "cell_type": "markdown",
   "metadata": {},
   "source": [
    "### Zadatak 1\n",
    "Odredite brzinu svjetlosti u zraku."
   ]
  },
  {
   "cell_type": "markdown",
   "metadata": {},
   "source": [
    "Mjereni podaci mogu se pronaći u tablici niže. Iz podataka je izračunata srednja vrijednost razlike položaja i nepouzdanost pomoću standardne devijacije."
   ]
  },
  {
   "cell_type": "markdown",
   "metadata": {},
   "source": [
    "<table border=\"1\" class=\"dataframe\">\n",
    "  <thead>\n",
    "    <tr style=\"text-align: right;\">\n",
    "      <th style=\"min-width: 12;\"></th>\n",
    "      <th style=\"min-width: 12;\">$\\Delta x$ / $\\mathrm{cm}$</th>\n",
    "    </tr>\n",
    "  </thead>\n",
    "  <tbody>\n",
    "    <tr>\n",
    "      <th style=\"min-width: 12;\">1</th>\n",
    "      <td>130</td>\n",
    "    </tr>\n",
    "    <tr>\n",
    "      <th style=\"min-width: 12;\">2</th>\n",
    "      <td>137</td>\n",
    "    </tr>\n",
    "    <tr>\n",
    "      <th style=\"min-width: 12;\">3</th>\n",
    "      <td>132</td>\n",
    "    </tr>\n",
    "  </tbody>\n",
    "</table>\n",
    "\n",
    "$$\\Delta x = (133 ± 1,6124515496597098) \\ \\mathrm{cm}$$\n",
    "\n",
    "$$\\Delta x = (1,33 ± 0.02) \\ \\mathrm{m}$$"
   ]
  },
  {
   "cell_type": "markdown",
   "metadata": {},
   "source": [
    "Taj podatak koristi se za računanje brzine svjetlosti izrazom iz pripreme:\n",
    "\n",
    "$$c=4f\\Delta x$$\n",
    "\n",
    "za koji treba izračunati i pripadnu nepouzdanost:\n",
    "\n",
    "$$\n",
    "\\begin{align}\n",
    "M_{c} & = \\sqrt{ \\left ( \\frac{\\partial \\Delta x}{\\partial x}M_x  \\right )^2  } \\\\\n",
    "M_{c} & = \\sqrt{ \\left( 4fM_x \\right)^2 } \\\\\n",
    "M_{c} & = 4f\\Delta x\\sqrt{\\left( \\frac{{M_x}^2}{{\\Delta x}^2}  \\right)} = 4008000 \\ \\mathrm{m/s}\n",
    "\\end{align}\n",
    "$$"
   ]
  },
  {
   "cell_type": "markdown",
   "metadata": {},
   "source": [
    "### Rezultat:\n",
    "\n",
    "$$c = (266532000 \\pm 4008000) \\ \\mathrm{m/s}$$\n",
    "\n",
    "$$c = (2,67 \\pm 0,04) \\times 10^{8} \\ \\mathrm{m/s}$$"
   ]
  },
  {
   "cell_type": "markdown",
   "metadata": {},
   "source": [
    "### Zadatak 2\n",
    "Odredite brzinu svjetlosti u vodi ili sintetskoj smoli (sami izaberite) te izračunajte pripadni indeks loma."
   ]
  },
  {
   "cell_type": "markdown",
   "metadata": {},
   "source": [
    "Duljina bloka smole kroz koji se pušta svjetlost za ovaj zadatak izmjerena je $l = 29,5 \\ \\mathrm{cm}$ uz procijenjenu nepouzdanost $M_l = 0,5 \\ \\mathrm{cm}$ te se mjeri nova razlika položaja $\\Delta x$. Izmjereni podaci mogu se naći u tablici niže, kao i izračunata srednja vrijednost i nepouzdanost."
   ]
  },
  {
   "cell_type": "markdown",
   "metadata": {},
   "source": [
    "<table border=\"1\" class=\"dataframe\">\n",
    "  <thead>\n",
    "    <tr style=\"text-align: right;\">\n",
    "      <th style=\"min-width: 12;\"></th>\n",
    "      <th style=\"min-width: 12;\">$\\Delta x$ / $\\mathrm{cm}$</th>\n",
    "    </tr>\n",
    "  </thead>\n",
    "  <tbody>\n",
    "    <tr>\n",
    "      <th style=\"min-width: 12;\">1</th>\n",
    "      <td>8,0</td>\n",
    "    </tr>\n",
    "    <tr>\n",
    "      <th style=\"min-width: 12;\">2</th>\n",
    "      <td>7,5</td>\n",
    "    </tr>\n",
    "    <tr>\n",
    "      <th style=\"min-width: 12;\">3</th>\n",
    "      <td>10,0</td>\n",
    "    </tr>\n",
    "  </tbody>\n",
    "</table>\n",
    "\n",
    "$$\\Delta x = (8.5 ± 0.5916079783099616) \\ \\mathrm{cm}$$\n",
    "\n",
    "$$\\Delta x = (0,085 ± 0,006) \\ \\mathrm{m}$$"
   ]
  },
  {
   "cell_type": "markdown",
   "metadata": {},
   "source": [
    "Da bi se došlo do brzine svjetlosti u smoli prije svega potrebno je izračunati indeks loma pomoću izraza iz pripreme:\n",
    "\n",
    "$$n_\\mathrm{m}=\\frac{c_\\mathrm{z}}{c_\\mathrm{m}}=1+\\frac{2 \\Delta x}{\\kappa l_\\mathrm{m}}$$\n",
    "\n",
    "gdje $\\kappa$ označava broj prolazaka svjetlosti kroz duljinu bloka smole. U ovome slučaju svjetlost kroz smolu prolazi samo u jednom smjeru tako da je $\\kappa = 1$ i izraz se svodi na idući izraz i iznosi:\n",
    "\n",
    "$$n_\\mathrm{m}=1+\\frac{2 \\Delta x}{l_\\mathrm{m}} = 1,576271186440678$$\n",
    "\n",
    "a njegova pripadna nepouzdanost je:\n",
    "\n",
    "$$\n",
    "\\begin{align}\n",
    "M_{n_\\mathrm{m}} & =\\sqrt{ \\left ( \\frac{ \\partial n_\\mathrm{m}}{\\partial \\Delta x}M_{\\Delta x}  \\right )^2  +  \\left (\\frac{ \\partial n_\\mathrm{m}}{\\partial l_\\mathrm{m}}M_{l_\\mathrm{m}}  \\right )^2 } \\\\\n",
    "M_{n_\\mathrm{m}} & =  \\frac{2 \\Delta x}{l_m}\n",
    "\\sqrt{ \\left ( \\frac{M_{\\Delta x}}{\\Delta x}  \\right )^2 + \\left( \\frac{M_{l_\\mathrm{m}}}{l_\\mathrm{m}} \\right )^2} = 0,04183416350925095\n",
    "\\end{align}\n",
    "$$"
   ]
  },
  {
   "cell_type": "markdown",
   "metadata": {},
   "source": [
    "### Rezultat:\n",
    "\n",
    "$$n_\\mathrm{m} = (1,576271186440678 \\pm 0,04183416350925095)$$\n",
    "\n",
    "$$n_\\mathrm{m} = (1,58 \\pm 0,04)$$"
   ]
  },
  {
   "cell_type": "markdown",
   "metadata": {},
   "source": [
    "Sada kada je indeks loma izračunat, može se doći do brzine idućim izrazom:\n",
    "\n",
    "$$v_{\\mathrm{m}}=\\frac{c}{n_{\\mathrm{m}}}= 189873417,721519 \\ \\mathrm{m/s}$$\n",
    "\n",
    "a nepouzdanost brzine će biti:\n",
    "\n",
    "$$\n",
    "\\begin{align}\n",
    "M_{v_{\\mathrm{m}}} & = \\sqrt{ \\left ( \\frac{\\partial v_\\mathrm{m}}{\\partial c}M_c    \\right )^2 +\n",
    "\\left ( \\frac{\\partial v_\\mathrm{m}}{\\partial n_{\\mathrm{m}}}M_{n_{\\mathrm{m}}}    \\right )^2} \\\\\n",
    "M_{v_{\\mathrm{m}}} & = v_\\mathrm{m} \\cdot\n",
    "\\sqrt{\\left ( \\frac{M_{c}}{c}  \\right )^2 +\n",
    "\\left ( \\frac{M_{n_\\mathrm{m}}}{n_\\mathrm{m}}  \\right )^2} = 5585511,469997809 \\ \\mathrm{m/s}\n",
    "\\end{align}\n",
    "$$"
   ]
  },
  {
   "cell_type": "markdown",
   "metadata": {},
   "source": [
    "### Rezultat:\n",
    "\n",
    "$$v_\\mathrm{m} = (189873417,721519 \\pm 005585511,469997809) \\ \\mathrm{m/s}$$\n",
    "\n",
    "$$v_\\mathrm{m} = (1,9 \\pm 0,06) \\times 10^{8} \\ \\mathrm{m/s}$$"
   ]
  },
  {
   "cell_type": "markdown",
   "metadata": {},
   "source": [
    "### Zadatak 3\n",
    "Odredite indeks loma staklene prizme za spektralne linije iz emisijskog spektra dostupne lampe te\n",
    "izračunajte pripadne brzine svjetlosti."
   ]
  },
  {
   "cell_type": "markdown",
   "metadata": {},
   "source": [
    "Kut prizme $\\phi$ određuje se iz podataka $b = (32,14 \\pm 0,01) \\ \\mathrm{cm}$, $v = (27,95 \\pm 0,01) \\ \\mathrm{cm}$ prema sugestiji pripreme. To možemo pomoću izraza:\n",
    "\n",
    "$$\\tan \\left (  \\frac{\\phi}{2} \\right )= \\left (  \\frac{b/2}{v}   \\right  )$$ \n",
    "\n",
    "Te kada se izraz sredi izračunamo $\\phi$:\n",
    "\n",
    "$$\\phi=2 \\tan^{-1} \\left (\\frac{b/2}{v}\\right)=1,0436013377091227 \\ \\mathrm{rad}$$\n",
    "\n",
    "Pripadna nepouzdanost mu je:\n",
    "\n",
    "$$\n",
    "\\begin{align}\n",
    "M_{\\phi} & = \\sqrt{  \\left ( \\frac{\\partial \\phi}{\\partial b}M_b \\right )^2 +\n",
    "\\left ( \\frac{\\partial \\phi}{\\partial v}M_v \\right )^2 }\\\\\n",
    "M_{\\phi} & = \\sqrt{  \\left ( 2 \\frac{1}{1+(\\frac{b}{2v})^2}\\frac{1}{2v} M_b \\right )^2 +\n",
    "\\left ( -2 \\frac{1}{1+(\\frac{b}{2v})^2}\\frac{b}{2v^2} M_v \\right )^2 }\n",
    "= 0,00043618105775210025 \\ \\mathrm{rad}\n",
    "\\end{align}\n",
    "$$\n",
    "\n",
    "Te rezultat glasi:\n",
    "\n",
    "$$\\phi = (1,0436013377091227 \\pm 0,00043618105775210025) \\ \\mathrm{rad}$$\n",
    "\n",
    "$$\\phi = (1,0436 \\pm 0,0004) \\ \\mathrm{rad}$$"
   ]
  },
  {
   "cell_type": "markdown",
   "metadata": {},
   "source": [
    "Izmjereni kutevi minimalne devijacije glase:\n",
    "$$\\delta_\\mathrm{crvena}=45,4 \\ \\mathrm{°} , \\ \\delta_\\mathrm{zelena}=47,5 \\ \\mathrm{°}, \\delta_\\mathrm{plava}=49,1 \\ \\mathrm{°}$$\n",
    "\n",
    "Te se koristi idući izraz uz pripadnu nepouzdanost za izračun pripadnih indeksa loma:\n",
    "\n",
    "$$n_\\mathrm{m}=\\frac{ \\sin\\frac{\\phi+\\delta}{2}}{\\sin \\frac{\\phi}{2}}$$\n",
    "\n",
    "$$M_{n_\\mathrm{m}}=\\sqrt{ \\left ( \\frac{\\partial n_\\mathrm{m}}{\\partial \\phi}M_{\\phi}   \\right )^2 +\n",
    "\\left ( \\frac{\\partial n_\\mathrm{m}}{\\partial \\delta}M_{\\delta}   \\right )^2}=\n",
    "\\sqrt{\\left (\\frac{\\cos(\\frac{\\phi+\\delta   }{2}) \\frac{1}{2} \\sin(\\frac{\\phi}{2}) -\\sin(\\frac{\\phi+\\delta}{2})\\cos(\\frac{\\phi}{2})\\frac{1}{2} }{\\sin^2(\\frac{\\phi}{2})}M_{\\phi}  \\right )^2 +\n",
    "\\left (\\frac{\\cos(\\frac{\\phi+\\delta}{2})\\frac{1}{2}}{\\sin(\\frac{\\phi}{2})}M_{\\delta}  \\right )^2}$$"
   ]
  },
  {
   "cell_type": "markdown",
   "metadata": {},
   "source": [
    "### Rezultat:\n",
    "\n",
    "\n",
    "$$n_\\mathrm{crvena}= (1,5899717778952585 \\pm 0,07)$$\n",
    "$$n_\\mathrm{zelena}= (1,6118714684370343 \\pm 0,06)$$\n",
    "$$n_\\mathrm{plava}= (1,6281939991742844 \\pm 0,06)$$"
   ]
  },
  {
   "cell_type": "markdown",
   "metadata": {},
   "source": [
    "Za računanje brzina svjetlosti koristi se izraz i nepouzdanost koji su već korišteni u zadatku 2:\n",
    "\n",
    "$$v_{\\mathrm{m}}=\\frac{c}{n_{\\mathrm{m}}}$$"
   ]
  },
  {
   "cell_type": "markdown",
   "metadata": {},
   "source": [
    "### Rezultat:\n",
    "\n",
    "$$v_\\mathrm{crvena} = (1,89 \\pm 0,06) \\times 10^{8} \\ \\mathrm{m/s}$$\n",
    "$$v_\\mathrm{zelena} = (1,86 \\pm 0,07) \\times 10^{8} \\ \\mathrm{m/s}$$\n",
    "$$v_\\mathrm{plava} = (1,84 \\pm 0,06) \\times 10^{8} \\ \\mathrm{m/s}$$"
   ]
  },
  {
   "cell_type": "markdown",
   "metadata": {},
   "source": [
    "### Zaključak:\n",
    "\n",
    "U prvom zadatku relativna pogreška je vrlo mala $\\mathrm{R} = 1,5 \\ \\%$, no to ne implicira točan rezultat u ovome slučaju. Pogreške su skrivene u očitavanju i daleko su veće. Signal na osciloskopu bio je vrlo slab i pun šuma te je stvarno teško bilo odrediti na kojem se položaju zapravo stvara pravac. Sam prikaz signala bila je široka linija puna fluktuacija. Usprkos tome dobiven rezultat je za $0,11\\mathrm{c}$ manji od stvarnoga što je s obzirom na probleme u očitavanju i slabom svjetlosti laserskog snopa ispalo prilično blizu. Stvarno odstupanje od prave vrijednosti je 11 %.\n",
    "\n",
    "Drugi zadatak pati od istog problema kao i prvi, no ipak je bilo lakše zaključiti gdje bi trebale biti pozicije $x_1$ i $x_2$ iz jednostavnog razloga što se lakše moglo ponoviti mjerenje više puta zbog male udaljenosti.\n",
    "\n",
    "Za treći zadatak nije bilo znatnih problema. Kut minimalne devijacije može se pronaći tako da jednom kada se nađu spektralne linije, vrti se prizma i okularom se prate linije dok se ne pronađe točka u kojoj promjene smjer. To će biti kut minimalne devijacije. Nastavkom okretanja prizme u istom smjeru spektralnim linijama bi se trebao kut povećavati."
   ]
  }
 ],
 "metadata": {
  "kernelspec": {
   "display_name": "Python 3",
   "language": "python",
   "name": "python3"
  },
  "language_info": {
   "codemirror_mode": {
    "name": "ipython",
    "version": 3
   },
   "file_extension": ".py",
   "mimetype": "text/x-python",
   "name": "python",
   "nbconvert_exporter": "python",
   "pygments_lexer": "ipython3",
   "version": "3.6.5"
  }
 },
 "nbformat": 4,
 "nbformat_minor": 2
}

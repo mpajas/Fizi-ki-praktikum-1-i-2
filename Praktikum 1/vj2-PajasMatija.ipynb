{
 "cells": [
  {
   "cell_type": "markdown",
   "metadata": {},
   "source": [
    "# <center> FP1–V2. Mjerenje duljine i mase, određivanje gustoće </center>\n",
    "    \n",
    "## <center> Matija Pajas </center>"
   ]
  },
  {
   "cell_type": "code",
   "execution_count": 1,
   "metadata": {},
   "outputs": [],
   "source": [
    "from scipy import *\n",
    "import pandas as pd\n",
    "import matplotlib.pyplot as plt\n",
    "import numpy as np\n",
    "from scipy.optimize import curve_fit\n",
    "\n",
    "#from sympy import *\n",
    "#init_printing()\n",
    "\n",
    "from IPython.display import HTML\n",
    "from IPython.display import display"
   ]
  },
  {
   "cell_type": "code",
   "execution_count": 2,
   "metadata": {},
   "outputs": [
    {
     "data": {
      "text/html": [
       "<script>\n",
       "code_show=true; \n",
       "function code_toggle() {\n",
       " if (code_show){\n",
       " $('div.input').hide();\n",
       " } else {\n",
       " $('div.input').show();\n",
       " }\n",
       " code_show = !code_show\n",
       "} \n",
       "$( document ).ready(code_toggle);\n",
       "</script>\n",
       "<form action=\"javascript:code_toggle()\"><input type=\"submit\" value=\"Pokaži/sakrij kod\"></form>"
      ],
      "text/plain": [
       "<IPython.core.display.HTML object>"
      ]
     },
     "execution_count": 2,
     "metadata": {},
     "output_type": "execute_result"
    }
   ],
   "source": [
    "HTML('''<script>\n",
    "code_show=true; \n",
    "function code_toggle() {\n",
    " if (code_show){\n",
    " $('div.input').hide();\n",
    " } else {\n",
    " $('div.input').show();\n",
    " }\n",
    " code_show = !code_show\n",
    "} \n",
    "$( document ).ready(code_toggle);\n",
    "</script>\n",
    "<form action=\"javascript:code_toggle()\"><input type=\"submit\" value=\"Pokaži/sakrij kod\"></form>''')"
   ]
  },
  {
   "cell_type": "code",
   "execution_count": 3,
   "metadata": {},
   "outputs": [
    {
     "data": {
      "text/html": [
       "\n",
       "<style>\n",
       ".output {\n",
       "    display: block;\n",
       "    align-items: center;\n",
       "    text-align: center;\n",
       "}\n",
       "td {\n",
       "  text-align: center;\n",
       "  vertical-align: middle;\n",
       "}\n",
       "</style>\n"
      ],
      "text/plain": [
       "<IPython.core.display.HTML object>"
      ]
     },
     "metadata": {},
     "output_type": "display_data"
    }
   ],
   "source": [
    "display(HTML(\"\"\"\n",
    "<style>\n",
    ".output {\n",
    "    display: block;\n",
    "    align-items: center;\n",
    "    text-align: center;\n",
    "}\n",
    "td {\n",
    "  text-align: center;\n",
    "  vertical-align: middle;\n",
    "}\n",
    "</style>\n",
    "\"\"\"))"
   ]
  },
  {
   "cell_type": "code",
   "execution_count": 4,
   "metadata": {},
   "outputs": [],
   "source": [
    "#D,h,Mm,MD,Mh,m,Mrho = symbols(\"\\overline{D}, \\overline{h}, M_m, M_D, M_h,\\overline{m}, M_{f}\")\n",
    "#rho = Function(\"f\")(m,D,h)\n",
    "#rho = m/((D**2)/(4)*pi*h)\n",
    "#display(rho)\n",
    "#Mrho = sqrt((rho.diff(m)*Mm)**2 + (rho.diff(D)*MD)**2 +(rho.diff(h)*Mh)**2)\n",
    "#display(Mrho)"
   ]
  },
  {
   "cell_type": "markdown",
   "metadata": {},
   "source": [
    "### Zadatak 1:\n",
    "<b>\n",
    "U praktikumu ćete naći nekoliko malih tijela različitih geometrijskih oblika i dimenzija, izrađenih od istog\n",
    "ili od različitih materijala. Odredite njihovu gustoću mjereći njihovu masu i volumen. S voditeljem\n",
    "praktikuma se dogovorite koja i koliko tijela koristiti za mjerenje. Volumen izmjerite mjereći svaku\n",
    "relevantnu veličinu (npr. unutarnji promjer, vanjski promjer, visinu, masu) barem 5 puta. Ako ste\n",
    "koristili sva tijela od istog materijala, izračunajte i poopćeni prosjek gustoće svih tijela.\n",
    "</b>\n",
    "\n",
    "Za mjerenje odabrana su tri različita tijela: \n",
    "- aluminijski disk \n",
    "- bakreni šuplji valjak \n",
    "- staklena pikula \n",
    "\n",
    "Prvo su izmjerene mase tijela, a kako bi se izmjerila masa pikule bilo ju je potrebno staviti na neki drugi predmet. U ovome slučaju to je bio predmet oblika prstena koji je prvi stavljen na vagu kako bi se ona kalibrirala na nulu dok je prsten na njoj.\n",
    "\n",
    "Mjere tijela su izmjerene pomičnom mjerkom i mikrometarskim vijkom za one mjere koje je njime bilo moguće izmjeriti. Za neke podatke mikrometarski vijak ima manju nepouzdanost pa su mjerenja pomičnom mjerkom za te slučajeve odbačena, no to će biti naglašeno i opravdano za svako tijelo zasebno. Za rezultate mjerenja vijkom bilo je potrebno oduzeti $0,02 \\mathrm{mm}$ od svakog mjerenja zbog sustavne pogreške mjernog instrumenta te je to učinjeno odmah prilikom očitavanja.\n",
    "\n",
    "Notacija podataka iz tablica:\n",
    "- $m$ - masa\n",
    "- $D$ - vanjski promjer\n",
    "- $d$ - unutarnji promjer\n",
    "- $h$ - visina\n",
    "\n",
    "Neke veličine imaju indekse PM i MV koje označavaju mjerenje pomičnom mjerkom ili mikrometarskim vijkom respektivno.\n",
    "Npr. $D_{PM}$ je vanjski promjer mjeren pomičnom mjerkom."
   ]
  },
  {
   "cell_type": "markdown",
   "metadata": {},
   "source": [
    "## Tijelo 1 - Aluminijski disk"
   ]
  },
  {
   "cell_type": "code",
   "execution_count": 5,
   "metadata": {},
   "outputs": [],
   "source": [
    "d = {\"$m$ / $\\mathrm{g}$\": [7.200,7.199,7.200,7.201,7.198],\n",
    "     \"$D_{PM}$ / $\\mathrm{mm}$\": [27.84,27.68,27.9,27.88,27.86],\n",
    "     \"$h_{PM}$ / $\\mathrm{mm}$\": [4.5,4.46,4.44,4.48,4.44],\n",
    "     \"$h_{MV}$ / $\\mathrm{mm}$\": [4.43,4.42,4.43,4.43,4.42]}\n",
    "df = pd.DataFrame(data=d,index=range(1,6))\n",
    "#dftohtml = df.to_html(col_space=12,decimal=\",\")\n",
    "#print(dftohtml)\n",
    "\n",
    "mymean = df.mean(0)\n",
    "stdev = df.std(0)\n",
    "unc = stdev/sqrt(5)\n",
    "\n",
    "#print(\"h:\")\n",
    "#print(\"%.2f ± %.2f\"%(mymean[2],unc[2]))\n",
    "#print(\"%.3f ± %.3f\"%(mymean[3],unc[3]))\n",
    "\n",
    "#Mrho.subs([(m,mymean[0]),(Mm,unc[0]),(D,mymean[1]),(MD,unc[1]),(h,mymean[3]),(Mh,unc[3])]).evalf()"
   ]
  },
  {
   "cell_type": "markdown",
   "metadata": {},
   "source": [
    "<table border=\"1\" class=\"dataframe\">\n",
    "  <thead>\n",
    "    <tr style=\"text-align: right;\">\n",
    "      <th style=\"min-width: 12;\"></th>\n",
    "      <th style=\"min-width: 12;\">$m$ / $\\mathrm{g}$</th>\n",
    "      <th style=\"min-width: 12;\">$D_{PM}$ / $\\mathrm{mm}$</th>\n",
    "      <th style=\"min-width: 12;\">$h_{PM}$ / $\\mathrm{mm}$</th>\n",
    "      <th style=\"min-width: 12;\">$h_{MV}$ / $\\mathrm{mm}$</th>\n",
    "    </tr>\n",
    "  </thead>\n",
    "  <tbody>\n",
    "    <tr>\n",
    "      <th style=\"min-width: 12;\">1</th>\n",
    "      <td>7,200</td>\n",
    "      <td>27,84</td>\n",
    "      <td>4,50</td>\n",
    "      <td>4,43</td>\n",
    "    </tr>\n",
    "    <tr>\n",
    "      <th style=\"min-width: 12;\">2</th>\n",
    "      <td>7,199</td>\n",
    "      <td>27,68</td>\n",
    "      <td>4,46</td>\n",
    "      <td>4,42</td>\n",
    "    </tr>\n",
    "    <tr>\n",
    "      <th style=\"min-width: 12;\">3</th>\n",
    "      <td>7,200</td>\n",
    "      <td>27,90</td>\n",
    "      <td>4,44</td>\n",
    "      <td>4,43</td>\n",
    "    </tr>\n",
    "    <tr>\n",
    "      <th style=\"min-width: 12;\">4</th>\n",
    "      <td>7,201</td>\n",
    "      <td>27,88</td>\n",
    "      <td>4,48</td>\n",
    "      <td>4,43</td>\n",
    "    </tr>\n",
    "    <tr>\n",
    "      <th style=\"min-width: 12;\">5</th>\n",
    "      <td>7,198</td>\n",
    "      <td>27,86</td>\n",
    "      <td>4,44</td>\n",
    "      <td>4,42</td>\n",
    "    </tr>\n",
    "  </tbody>\n",
    "</table>"
   ]
  },
  {
   "cell_type": "markdown",
   "metadata": {},
   "source": [
    "Vanjski promjer diska izmjeren je samo pomičnom mjerkom jer mikrometarski vijak ne može mjeriti do 27 mm.\n",
    "Izračunate su vrijednosti visine\n",
    "\n",
    "$h_{PM} = (4,464 \\pm 0,011662) \\ \\mathrm{mm}$\n",
    "\n",
    "$h_{MV} = (4,426 \\pm 0,002449) \\ \\mathrm{mm}$\n",
    "\n",
    "Što je nakon zaokruživanja:\n",
    "\n",
    "$h_{PM} = (4,46 \\pm 0,01) \\ \\mathrm{mm}$\n",
    "\n",
    "$h_{MV} = (4,426 \\pm 0,002) \\ \\mathrm{mm}$\n",
    "\n",
    "Visina mjerena mikrometarskim vijkom ima manju nepouzdanost pa je uzeto za računanje gustoće, a mjerenje pomičnom mjerkom odbačeno."
   ]
  },
  {
   "cell_type": "markdown",
   "metadata": {},
   "source": [
    "$$\\overline{\\rho} = \\frac{\\overline{m}}{\\frac{\\overline{D}^2}{4}\\pi\\overline{h}} = \\frac{4\\overline{m}}{\\pi\\overline{D}^2\\overline{h}} = 0,00267373734292 \\ \\mathrm{\\frac{g}{mm^3}} $$"
   ]
  },
  {
   "cell_type": "markdown",
   "metadata": {},
   "source": [
    "$$\n",
    "\\begin{align}\n",
    "M_{\\rho} & = \\sqrt{{\\left(\\frac{\\partial \\rho}{\\partial m}M_m\\right)}^2 + {\\left(\\frac{\\partial \\rho}{\\partial D}M_D\\right)}^2 + {\\left(\\frac{\\partial \\rho}{\\partial h}M_h\\right)}^2} \\\\\n",
    "         & = \\sqrt{\\frac{64 M_{D}^{2} \\overline{m}^{2}}{\\pi^{2} \\overline{D}^{6} \\overline{h}^{2}} + \\frac{16 M_{h}^{2} \\overline{m}^{2}}{\\pi^{2} \\overline{D}^{4} \\overline{h}^{4}} + \\frac{16 M_{m}^{2}}{\\pi^{2} \\overline{D}^{4} \\overline{h}^{2}}} \\\\\n",
    "         & = \\sqrt{\\frac{16 M_{m}^{2}}{\\pi^{2} \\overline{D}^{4} \\overline{h}^{2}} + \\overline{m}^{2} \\left(\\frac{64 M_{D}^{2}}{\\pi^{2} \\overline{D}^{6} \\overline{h}^{2}} + \\frac{16 M_{h}^{2}}{\\pi^{2} \\overline{D}^{4} \\overline{h}^{4}}\\right)} \\\\\n",
    "         & = \\overline{\\rho} \\sqrt{\\frac{{M_m}^2}{m^2} + \\frac{4{M_D}^2}{\\overline{D}^2} + \\frac{{M_h}^2}{\\overline{h}^2}} \\\\\n",
    "         & = 7,69563814455004\\times10^{-6} \\ \\mathrm{\\frac{g}{mm^3}}\n",
    "\\end{align}\n",
    "$$"
   ]
  },
  {
   "cell_type": "markdown",
   "metadata": {},
   "source": [
    "Rezultat mjerenja:\n",
    "\n",
    "$$\\rho = (0,002673 \\pm 0,000008\\times10^{-6}) \\ \\mathrm{\\frac{g}{mm^3}} $$\n",
    "$$\\rho = (2673 \\pm 8) \\ \\mathrm{\\frac{kg}{m^3}} $$\n",
    "\n",
    "### Zaključak:\n",
    "\n",
    "U tablici se može pronaći da je gustoća aluminija $2700 \\ \\mathrm{\\frac{kg}{m^3}}$ što dovodi do zaključka da je disk uistinu od aluminija."
   ]
  },
  {
   "cell_type": "code",
   "execution_count": 6,
   "metadata": {},
   "outputs": [],
   "source": [
    "#D,h,Mm,MD,Mh,m,Mrho,d,Md = symbols(\"\\overline{D}, \\overline{h}, M_m, M_D, M_h,\\overline{m}, M_{f}, \\overline{d}, M_d\")\n",
    "#rho = Function(\"f\")(m,D,h,d)\n",
    "#rho = m/(h*pi*((D**2-d**2)/(4)))\n",
    "#display(rho)\n",
    "#Mrho = sqrt((rho.diff(m)*Mm)**2 + (rho.diff(D)*MD)**2 +(rho.diff(h)*Mh)**2 + (rho.diff(d)*Md)**2)\n",
    "#display(Mrho)\n",
    "#collect(Mrho,(m,D,d,h))"
   ]
  },
  {
   "cell_type": "markdown",
   "metadata": {},
   "source": [
    "## Tijelo 2 - Šuplji bakreni valjak"
   ]
  },
  {
   "cell_type": "code",
   "execution_count": 7,
   "metadata": {},
   "outputs": [],
   "source": [
    "d = {\"$m$ / $\\mathrm{g}$\": [7.131,7.132,7.131,7.132,7.131],\n",
    "     \"$D_{PM}$ / $\\mathrm{mm}$\": [10.00,10.06,10.02,10.00,10.02],\n",
    "     \"$D_{MV}$ / $\\mathrm{mm}$\": [9.95,9.97,9.98,9.96,9.97],\n",
    "     \"$d_{PM}$ / $\\mathrm{mm}$\": [5.00,5.04,5.02,5.06,5.02],\n",
    "     \"$h_{PM}$ / $\\mathrm{mm}$\": [14.82,14.86,14.80,14.82,14.80],\n",
    "     \"$h_{MV}$ / $\\mathrm{mm}$\": [14.62,14.67,14.63,14.64,14.63]}\n",
    "df = pd.DataFrame(data=d, index=range(1,6))\n",
    "\n",
    "#dftohtml = df.to_html(col_space=12,decimal=\",\")\n",
    "#print(dftohtml)\n",
    "\n",
    "\n",
    "mymean = df.mean(0)\n",
    "stdev = df.std(0)\n",
    "unc = stdev/sqrt(5)\n",
    "\n",
    "#print(\"D:\")\n",
    "#print(\"%.2f ± %.2f\"%(mymean[1],unc[1]))\n",
    "#print(\"%.3f ± %.3f\"%(mymean[2],unc[2]))\n",
    "#print(\"R:\")\n",
    "#print(unc[1]/mymean[1]*100)\n",
    "#print(unc[2]/mymean[2]*100)\n",
    "#print(\"d:\")\n",
    "#print(\"%.2f ± %.2f\"%(mymean[4],unc[4]))\n",
    "#print(\"%.3f ± %.3f\"%(mymean[5],unc[5]))\n",
    "#print(\"R:\")\n",
    "#print(unc[4]/mymean[4]*100)\n",
    "#print(unc[5]/mymean[5]*100)\n",
    "#print(mymean[3])\n",
    "#Mrho.subs([(m,mymean[0]),(Mm,unc[0]),(D,mymean[2]),(MD,unc[2]),(d,mymean[3]),(Md,unc[3]),(h,mymean[5]),(Mh,unc[5])]).evalf()"
   ]
  },
  {
   "cell_type": "markdown",
   "metadata": {},
   "source": [
    "<table border=\"1\" class=\"dataframe\">\n",
    "  <thead>\n",
    "    <tr style=\"text-align: right;\">\n",
    "      <th style=\"min-width: 12;\"></th>\n",
    "      <th style=\"min-width: 12;\">$m$ / $\\mathrm{g}$</th>\n",
    "      <th style=\"min-width: 12;\">$D_{PM}$ / $\\mathrm{mm}$</th>\n",
    "      <th style=\"min-width: 12;\">$D_{MV}$ / $\\mathrm{mm}$</th>\n",
    "      <th style=\"min-width: 12;\">$d_{PM}$ / $\\mathrm{mm}$</th>\n",
    "      <th style=\"min-width: 12;\">$h_{PM}$ / $\\mathrm{mm}$</th>\n",
    "      <th style=\"min-width: 12;\">$h_{MV}$ / $\\mathrm{mm}$</th>\n",
    "    </tr>\n",
    "  </thead>\n",
    "  <tbody>\n",
    "    <tr>\n",
    "      <th style=\"min-width: 12;\">1</th>\n",
    "      <td>7,131</td>\n",
    "      <td>10,00</td>\n",
    "      <td>9,95</td>\n",
    "      <td>5,00</td>\n",
    "      <td>14,82</td>\n",
    "      <td>14,62</td>\n",
    "    </tr>\n",
    "    <tr>\n",
    "      <th style=\"min-width: 12;\">2</th>\n",
    "      <td>7,132</td>\n",
    "      <td>10,06</td>\n",
    "      <td>9,97</td>\n",
    "      <td>5,04</td>\n",
    "      <td>14,86</td>\n",
    "      <td>14,67</td>\n",
    "    </tr>\n",
    "    <tr>\n",
    "      <th style=\"min-width: 12;\">3</th>\n",
    "      <td>7,131</td>\n",
    "      <td>10,02</td>\n",
    "      <td>9,98</td>\n",
    "      <td>5,02</td>\n",
    "      <td>14,80</td>\n",
    "      <td>14,63</td>\n",
    "    </tr>\n",
    "    <tr>\n",
    "      <th style=\"min-width: 12;\">4</th>\n",
    "      <td>7,132</td>\n",
    "      <td>10,00</td>\n",
    "      <td>9,96</td>\n",
    "      <td>5,06</td>\n",
    "      <td>14,82</td>\n",
    "      <td>14,64</td>\n",
    "    </tr>\n",
    "    <tr>\n",
    "      <th style=\"min-width: 12;\">5</th>\n",
    "      <td>7,131</td>\n",
    "      <td>10,02</td>\n",
    "      <td>9,97</td>\n",
    "      <td>5,02</td>\n",
    "      <td>14,80</td>\n",
    "      <td>14,63</td>\n",
    "    </tr>\n",
    "  </tbody>\n",
    "</table>"
   ]
  },
  {
   "cell_type": "markdown",
   "metadata": {},
   "source": [
    "$D_{PM} = (10,02 ± 0,01) \\ \\mathrm{mm}$\n",
    "\n",
    "$D_{MV} = (9,966 ± 0,005) \\ \\mathrm{mm}$\n",
    "\n",
    "$d_{PM} = (14,82 ± 0,01) \\ \\mathrm{mm}$\n",
    "\n",
    "$d_{MV} = (14,638 ± 0,009) \\ \\mathrm{mm}$\n",
    "\n",
    "Ponovo vidimo da su mjerenja mikrometarskim vijkom manje nepouzdanosti, pa koristimo njih za određivanje gustoće."
   ]
  },
  {
   "cell_type": "markdown",
   "metadata": {},
   "source": [
    "$$ \\overline{\\rho} = \\frac{\\overline{m}}{\\pi\\overline{h}\\frac{\\overline{D}^2 - \\overline{d}^2}{4}} = 0,00827500222 \\ \\mathrm{\\frac{g}{mm^3}} $$"
   ]
  },
  {
   "cell_type": "markdown",
   "metadata": {},
   "source": [
    "$$\n",
    "\\begin{align}\n",
    "M_{\\rho} & = \\sqrt{{\\left(\\frac{\\partial \\rho}{\\partial m}M_m\\right)}^2 + {\\left(\\frac{\\partial \\rho}{\\partial D}M_D\\right)}^2 + {\\left(\\frac{\\partial \\rho}{\\partial d}M_d\\right)}^2 + {\\left(\\frac{\\partial \\rho}{\\partial h}M_h\\right)}^2} \\\\\n",
    "         & = \\sqrt{\\frac{M_{D}^{2} \\overline{D}^{2} \\overline{m}^{2}}{4 \\pi^{2} \\overline{h}^{2} \\left(\\frac{\\overline{D}^{2}}{4} - \\frac{\\overline{d}^{2}}{4}\\right)^{4}} + \\frac{M_{d}^{2} \\overline{d}^{2} \\overline{m}^{2}}{4 \\pi^{2} \\overline{h}^{2} \\left(\\frac{\\overline{D}^{2}}{4} - \\frac{\\overline{d}^{2}}{4}\\right)^{4}} + \\frac{M_{h}^{2} \\overline{m}^{2}}{\\pi^{2} \\overline{h}^{4} \\left(\\frac{\\overline{D}^{2}}{4} - \\frac{\\overline{d}^{2}}{4}\\right)^{2}} + \\frac{M_{m}^{2}}{\\pi^{2} \\overline{h}^{2} \\left(\\frac{\\overline{D}^{2}}{4} - \\frac{\\overline{d}^{2}}{4}\\right)^{2}}} \\\\\n",
    "         & = \\sqrt{\\frac{M_{m}^{2}}{\\pi^{2} \\overline{h}^{2} \\left(\\frac{\\overline{D}^{2}}{4} - \\frac{\\overline{d}^{2}}{4}\\right)^{2}} + \\overline{m}^{2} \\left(\\frac{M_{D}^{2} \\overline{D}^{2}}{4 \\pi^{2} \\overline{h}^{2} \\left(\\frac{\\overline{D}^{2}}{4} - \\frac{\\overline{d}^{2}}{4}\\right)^{4}} + \\frac{M_{d}^{2} \\overline{d}^{2}}{4 \\pi^{2} \\overline{h}^{2} \\left(\\frac{\\overline{D}^{2}}{4} - \\frac{\\overline{d}^{2}}{4}\\right)^{4}} + \\frac{M_{h}^{2}}{\\pi^{2} \\overline{h}^{4} \\left(\\frac{\\overline{D}^{2}}{4} - \\frac{\\overline{d}^{2}}{4}\\right)^{2}}\\right)} \\\\\n",
    "         & = \\overline{\\rho}\\sqrt{\\frac{{M_m}^2}{\\overline{m}^2} + \\frac{{M_h}^2}{\\overline{h}^2} + \\frac{\\overline{D}^2 {M_D}^2}{4\\left( \\frac{\\overline{D}^2-\\overline{d}^2}{4} \\right)^2} + \\frac{\\overline{d}^2 {M_d}^2}{4\\left( \\frac{\\overline{D}^2-\\overline{d}^2}{4} \\right)^2} } = 1,706859364 \\times 10^{-5} \\ \\mathrm{\\frac{g}{mm^3}}\n",
    "\\end{align}\n",
    "$$"
   ]
  },
  {
   "cell_type": "markdown",
   "metadata": {},
   "source": [
    "Rezultat mjerenja:\n",
    "\n",
    "$$ \\rho = (0,00828 \\pm 0,00002 \\times 10^{-5}) \\ \\mathrm{\\frac{g}{mm^3}} $$\n",
    "\n",
    "$$\\rho = (8280 \\pm 20) \\ \\mathrm{\\frac{kg}{m^3}}$$\n",
    "\n",
    "### Zaključak:\n",
    "Gustoća bakra je $8960 \\ \\mathrm{\\frac{kg}{m^3}}$. Pošto rezultat prilično odstupa od stvarne gustoće može se zaključiti da tijelo nije napravljeno od čistog bakra, već ima nećistoće u sebi ili je slitina obzirom da su nepouzdanosti male što znači da su mjerenja dobro odrađena."
   ]
  },
  {
   "cell_type": "code",
   "execution_count": 8,
   "metadata": {},
   "outputs": [],
   "source": [
    "#D,h,Mm,MD,Mh,m,Mrho,d,Md = symbols(\"\\overline{D}, \\overline{h}, M_m, M_D, M_h,\\overline{m}, M_{f}, \\overline{d},M_d\")\n",
    "#rho = Function(\"f\")(m,D,h,d)\n",
    "#rho = m/(((D**3)*pi)/6)\n",
    "#display(rho)\n",
    "#Mrho = sqrt((rho.diff(m)*Mm)**2 + (rho.diff(D)*MD)**2 +(rho.diff(h)*Mh)**2 + (rho.diff(d)*Md)**2)\n",
    "#display(Mrho)\n",
    "#collect(Mrho,(m,D))"
   ]
  },
  {
   "cell_type": "markdown",
   "metadata": {},
   "source": [
    "## Tijelo 3 - Staklena pikula"
   ]
  },
  {
   "cell_type": "code",
   "execution_count": 9,
   "metadata": {},
   "outputs": [],
   "source": [
    "d = {\"$m$ / $\\mathrm{g}$\": [21.458,21.458,21.457,21.458,21.459],\n",
    "     \"$D_{PM}$ / $\\mathrm{mm}$\": [25.20,25.22,25.26,25.24,25.32],\n",
    "     \"$D_{MV}$ / $\\mathrm{mm}$\": [25.25,25.18,25.17,25.28,25.13]}\n",
    "df = pd.DataFrame(data=d,index=range(1,6))\n",
    "\n",
    "#dftohtml = df.to_html(col_space=12,decimal=\",\")\n",
    "#print(dftohtml)\n",
    "\n",
    "mymean = df.mean(0)\n",
    "stdev = df.std(0)\n",
    "unc = stdev/sqrt(5)\n",
    "\n",
    "#print(\"D:\")\n",
    "#print(\"%.2f ± %.2f\"%(mymean[1],unc[1]))\n",
    "#print(\"%.2f ± %.2f\"%(mymean[2],unc[2]))\n",
    "#print(unc[1]/mymean[1]*100)\n",
    "#print(unc[2]/mymean[2]*100)\n",
    "#print(mymean[0])\n",
    "\n",
    "#Mrho.subs([(m,mymean[0]),(Mm,unc[0]),(D,mymean[1]),(MD,unc[1])]).evalf()"
   ]
  },
  {
   "cell_type": "markdown",
   "metadata": {},
   "source": [
    "<table border=\"1\" class=\"dataframe\">\n",
    "  <thead>\n",
    "    <tr style=\"text-align: right;\">\n",
    "      <th style=\"min-width: 12;\"></th>\n",
    "      <th style=\"min-width: 12;\">$m$ / $\\mathrm{g}$</th>\n",
    "      <th style=\"min-width: 12;\">$D_{PM}$ / $\\mathrm{mm}$</th>\n",
    "      <th style=\"min-width: 12;\">$D_{MV}$ / $\\mathrm{mm}$</th>\n",
    "    </tr>\n",
    "  </thead>\n",
    "  <tbody>\n",
    "    <tr>\n",
    "      <th style=\"min-width: 12;\">1</th>\n",
    "      <td>21,458</td>\n",
    "      <td>25,20</td>\n",
    "      <td>25,25</td>\n",
    "    </tr>\n",
    "    <tr>\n",
    "      <th style=\"min-width: 12;\">2</th>\n",
    "      <td>21,458</td>\n",
    "      <td>25,22</td>\n",
    "      <td>25,18</td>\n",
    "    </tr>\n",
    "    <tr>\n",
    "      <th style=\"min-width: 12;\">3</th>\n",
    "      <td>21,457</td>\n",
    "      <td>25,26</td>\n",
    "      <td>25,17</td>\n",
    "    </tr>\n",
    "    <tr>\n",
    "      <th style=\"min-width: 12;\">4</th>\n",
    "      <td>21,458</td>\n",
    "      <td>25,24</td>\n",
    "      <td>25,28</td>\n",
    "    </tr>\n",
    "    <tr>\n",
    "      <th style=\"min-width: 12;\">5</th>\n",
    "      <td>21,459</td>\n",
    "      <td>25,32</td>\n",
    "      <td>25,13</td>\n",
    "    </tr>\n",
    "  </tbody>\n",
    "</table>"
   ]
  },
  {
   "cell_type": "markdown",
   "metadata": {},
   "source": [
    "$D_{PM} = (25,25 ± 0.02) \\ \\mathrm{mm}$\n",
    "\n",
    "$D_{MV} = (25,20 ± 0.03) \\ \\mathrm{mm}$\n",
    "\n",
    "U slučaju pikule, mjerenja odrađena pomičnom mjerkom imaju manju nepouzdanost pa mjerenja mikrometarskim vijkom odbacujemo."
   ]
  },
  {
   "cell_type": "markdown",
   "metadata": {},
   "source": [
    "$$ \\overline{\\rho} = \\frac{\\overline{m}}{\\frac{4}{3}\\left(\\frac{\\overline{D}}{2}\\right)^3 \\pi} = \\frac{\\overline{m}}{\\frac{1}{6}\\overline{D}^3 \\pi} = \\frac{6 \\overline{m}}{\\overline{D}^3 \\pi} = 2,545695596 \\times 10^{-3} \\ \\mathrm{\\frac{g}{mm^3}}$$"
   ]
  },
  {
   "cell_type": "markdown",
   "metadata": {},
   "source": [
    "$$\n",
    "\\begin{align}\n",
    "M_{\\rho} & = \\sqrt{\\left( \\frac{\\partial \\rho}{\\partial m}M_m \\right)^2 + \\left( \\frac{\\partial \\rho}{\\partial D}M_D \\right)^2 } \\\\\n",
    "         & = \\sqrt{\\frac{324 M_{D}^{2} \\overline{m}^{2}}{\\pi^{2} \\overline{D}^{8}} + \\frac{36 M_{m}^{2}}{\\pi^{2} \\overline{D}^{6}}} \\\\\n",
    "         & = \\overline{\\rho}\\sqrt{\\frac{{M_m}^2}{\\overline{m}^2} + \\frac{9{M_D}^2}{\\overline{D}^2}} = 6.23009621107124 \\times 10^{-6} \\ \\mathrm{\\frac{g}{mm^3}}\n",
    "\\end{align}\n",
    "$$"
   ]
  },
  {
   "cell_type": "markdown",
   "metadata": {},
   "source": [
    "Rezultat mjerenja:\n",
    "\n",
    "$$\\rho = (0,002546 \\pm 0,000006) \\ \\mathrm{\\frac{g}{mm^3}}$$\n",
    "\n",
    "$$\\rho = (2546 \\pm 6) \\ \\mathrm{\\frac{kg}{m^3}}$$\n",
    "\n",
    "### Zaključak:\n",
    "Gustoća stakla je oko $2400 \\ \\mathrm{\\frac{kg}{m^3}}$ i mjerenja ukazuju da je riječ o staklu."
   ]
  }
 ],
 "metadata": {
  "kernelspec": {
   "display_name": "Python 3",
   "language": "python",
   "name": "python3"
  },
  "language_info": {
   "codemirror_mode": {
    "name": "ipython",
    "version": 3
   },
   "file_extension": ".py",
   "mimetype": "text/x-python",
   "name": "python",
   "nbconvert_exporter": "python",
   "pygments_lexer": "ipython3",
   "version": "3.6.5"
  }
 },
 "nbformat": 4,
 "nbformat_minor": 2
}

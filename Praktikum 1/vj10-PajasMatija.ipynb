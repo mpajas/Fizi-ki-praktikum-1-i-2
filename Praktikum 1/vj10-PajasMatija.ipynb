{
 "cells": [
  {
   "cell_type": "markdown",
   "metadata": {},
   "source": [
    "## FP1–V10. Transformator\n",
    "### Matija Pajas"
   ]
  },
  {
   "cell_type": "code",
   "execution_count": 1,
   "metadata": {},
   "outputs": [],
   "source": [
    "from scipy import *\n",
    "import pandas as pd\n",
    "import matplotlib.pyplot as plt\n",
    "import numpy as np\n",
    "from scipy.optimize import curve_fit\n",
    "\n",
    "#from sympy import *\n",
    "#init_printing()\n",
    "\n",
    "from IPython.display import HTML\n",
    "from IPython.display import display"
   ]
  },
  {
   "cell_type": "code",
   "execution_count": 2,
   "metadata": {},
   "outputs": [
    {
     "data": {
      "text/html": [
       "<script>\n",
       "code_show=true; \n",
       "function code_toggle() {\n",
       " if (code_show){\n",
       " $('div.input').hide();\n",
       " } else {\n",
       " $('div.input').show();\n",
       " }\n",
       " code_show = !code_show\n",
       "} \n",
       "$( document ).ready(code_toggle);\n",
       "</script>\n",
       "<form action=\"javascript:code_toggle()\"><input type=\"submit\" value=\"Pokaži/sakrij kod\"></form>"
      ],
      "text/plain": [
       "<IPython.core.display.HTML object>"
      ]
     },
     "execution_count": 2,
     "metadata": {},
     "output_type": "execute_result"
    }
   ],
   "source": [
    "HTML('''<script>\n",
    "code_show=true; \n",
    "function code_toggle() {\n",
    " if (code_show){\n",
    " $('div.input').hide();\n",
    " } else {\n",
    " $('div.input').show();\n",
    " }\n",
    " code_show = !code_show\n",
    "} \n",
    "$( document ).ready(code_toggle);\n",
    "</script>\n",
    "<form action=\"javascript:code_toggle()\"><input type=\"submit\" value=\"Pokaži/sakrij kod\"></form>''')"
   ]
  },
  {
   "cell_type": "code",
   "execution_count": 3,
   "metadata": {},
   "outputs": [
    {
     "data": {
      "text/html": [
       "\n",
       "<style>\n",
       ".output {\n",
       "    display: block;\n",
       "    align-items: center;\n",
       "    text-align: center;\n",
       "}\n",
       "td {\n",
       "  text-align: center;\n",
       "  vertical-align: middle;\n",
       "}\n",
       "</style>\n"
      ],
      "text/plain": [
       "<IPython.core.display.HTML object>"
      ]
     },
     "metadata": {},
     "output_type": "display_data"
    }
   ],
   "source": [
    "display(HTML(\"\"\"\n",
    "<style>\n",
    ".output {\n",
    "    display: block;\n",
    "    align-items: center;\n",
    "    text-align: center;\n",
    "}\n",
    "td {\n",
    "  text-align: center;\n",
    "  vertical-align: middle;\n",
    "}\n",
    "</style>\n",
    "\"\"\"))"
   ]
  },
  {
   "cell_type": "markdown",
   "metadata": {},
   "source": [
    "### Cilj vježbe\n",
    "\n",
    "Cilj ove vježbe je proučiti svojstva transformatora, te povezati karakteristične veličine koje određuju njegova svojstva sa promjenom nekih veličina. Prvo ću mjeriti struju praznog hoda sa i bez jezgre na primaru. Nakon toga mjeriti ću napon sekundara i promatrati kako se on mijenja i ovisi o broju namotaja zavojnice na sekundaru. Zadnje mjerenje izvodim nad efektivnim strujama primara i sekundara mijenjajući otpor koji je spojen na sekundaru."
   ]
  },
  {
   "cell_type": "markdown",
   "metadata": {},
   "source": [
    "### Mjerenje i pokus\n",
    "\n",
    "Pokus se sastoji od izvora izmjeničnog napona, transformatora, promjenjivog otpornika te nekoliko instrumenata za mjerenje struje i napona. U svrhu lakšeg mjerenja također koristim sklopku kojom naizmjence mogu mjeriti napone na primaru i sekundaru jednim instrumentom. Izvor daje izmjenični napon frekvencije $50 \\ \\mathrm{Hz}$, a za potrebe ovog pokusa koristimo $2 \\ \\mathrm{V}$. Transformator se sastoji od dvije zavojnice kojima možemo lako mijenjati broj namotaja spajanjem žica na predefinirane razmake. Zavojnice se nalaze na zajedničkoj feromagnetskoj jezgri, a sam transformator se lako može rastaviti podizanjem zavojnica i micanjem jezgre sa postolja. Otporniku kontinuirano možemo mijenjati otpor $0-100 \\ \\mathrm{\\Omega}$"
   ]
  },
  {
   "cell_type": "markdown",
   "metadata": {},
   "source": [
    "### Zadatak 1\n",
    "a) Spojite shemu kao na Slici 6 i dovedite izmjenični napon $U_1 = 2 V$ na primar. Neka broj zavoja bude\n",
    "maksimalan ($n_1 = 140$). Strujni krug sekundara ostavite otvorenim. Izmjerite struju praznog hoda\n",
    "$I_{10}$ i napon $U_1$ te odredite samoindukciju zavojnice primara kada je u njoj feromagnetska jezgra.\n",
    "\n",
    "b) Rastavite jezgru transformatora i skinite zavojnicu s nje. Izmjerite struju i napon na zavojnici kao\n",
    "u zadatku a) te izračunajte samoindukciju zavojnice bez jezgre."
   ]
  },
  {
   "cell_type": "code",
   "execution_count": 4,
   "metadata": {},
   "outputs": [],
   "source": [
    "df = pd.DataFrame([[\"0,12 $\\pm$ 0,1\",\"3,7 $\\pm$ 0,1\"],[\"2,7 $\\pm$ 0,1\",\"0,97 $\\pm$ 0,1\",]],\n",
    "                  index=[\"$I_{10eff}$ / $\\mathrm{A}$\",\"$U_{10eff}$ / $\\mathrm{V}$\"],columns=[\"sa jezgrom\",\"bez jezgre\"])\n",
    "#ftohtml = df.to_html(col_space=12, decimal=\",\")\n",
    "#rint(dftohtml)"
   ]
  },
  {
   "cell_type": "markdown",
   "metadata": {},
   "source": [
    "Podaci za zadatke pod (a) i (b) mogu se pronaći u zajedničkoj tablici ispod."
   ]
  },
  {
   "cell_type": "markdown",
   "metadata": {},
   "source": [
    "<table border=\"1\" class=\"dataframe\">\n",
    "  <thead>\n",
    "    <tr style=\"text-align: right;\">\n",
    "      <th style=\"min-width: 12;\"></th>\n",
    "      <th style=\"min-width: 12;\">sa jezgrom</th>\n",
    "      <th style=\"min-width: 12;\">bez jezgre</th>\n",
    "    </tr>\n",
    "  </thead>\n",
    "  <tbody>\n",
    "    <tr>\n",
    "      <th style=\"min-width: 12;\">$I_{10eff}$ / $\\mathrm{A}$</th>\n",
    "      <td>0,12 $\\pm$ 0,1</td>\n",
    "      <td>3,7 $\\pm$ 0,1</td>\n",
    "    </tr>\n",
    "    <tr>\n",
    "      <th style=\"min-width: 12;\">$U_{10eff}$ / $\\mathrm{V}$</th>\n",
    "      <td>2,7 $\\pm$ 0,1</td>\n",
    "      <td>0,927 $\\pm$ 0,1</td>\n",
    "    </tr>\n",
    "  </tbody>\n",
    "</table>"
   ]
  },
  {
   "cell_type": "markdown",
   "metadata": {},
   "source": [
    "Kako bismo odredili samoindukciju zavojnice primara potrebno je malo presložiti izraz (1) iz pripreme:\n",
    "\n",
    "$$ L_1 = \\frac{1}{\\omega} \\frac{U_1}{I_{10}} = \\frac{1}{\\omega} \\frac{U_{1eff}}{I_{10eff}} $$\n",
    "\n",
    "a nepouzdanost možemo računati izrazom:\n",
    "\n",
    "$$M_{L_1} = \\frac{1}{\\omega} \\frac{U_{1eff}}{I_{10eff}} \\sqrt{ \\frac{ M_{U_{1eff}} ^2 }{U_{1eff} ^2 } + \\frac{ M_{I_{10eff}} ^2 }{ I_{10eff} ^2}}$$"
   ]
  },
  {
   "cell_type": "markdown",
   "metadata": {},
   "source": [
    "Ovdje treba primjetiti da smo u slučaju bez jezgre dobili puno veću struju, a manji napon od $2 \\ \\mathrm{V}$. Razlog tomu je što je impedancija zavojnice puno manja, zato što je induktivitet puno manji u slučaju bez jezgre. Veći pad napona može se objasniti jednostavnim Ohmovim zakonom. Zavojnica ima svoj omski otpor te je njen pad napona dan sa $U_{zavojnica} = IR_{zavojnica}$, a obzirom da dobivamo veću struju možemo zaključiti da je pad napona na omskom otporu veći kada nema jezgre."
   ]
  },
  {
   "cell_type": "markdown",
   "metadata": {},
   "source": [
    "Dobivamo rezultate:\n",
    "\n",
    "Sa jezgrom: $\\ L_1 =( 5,5 \\pm 0,5) \\times 10^{-2} \\ \\mathrm{H}   $\n",
    "\n",
    "Bez jezgre: $\\ L_1 =(8,27 \\pm 0,09) \\times 10^{-4} \\ \\mathrm{H}   $"
   ]
  },
  {
   "cell_type": "code",
   "execution_count": 5,
   "metadata": {},
   "outputs": [],
   "source": [
    "d = {\"$n_1$\": [126,126,126,126,126],\n",
    "     \"$n_2$\": [140,126,98,56,28],\n",
    "     \"$I_{10eff}$ / $\\mathrm{A}$\": [0.18,0.18,0.18,0.18,0.18],\n",
    "     \"$I_{1eff}$ / $\\mathrm{A}$\": [\"-\",\"-\",\"-\",\"-\",\"-\"],\n",
    "     \"$I_{2eff}$ / $\\mathrm{A}$\": [0,0,0,0,0],\n",
    "     \"$U_{1eff}$ / $\\mathrm{V}$\": [2.08,2.08,2.08,2.08,2.08],\n",
    "     \"$U_{2eff}$ / $\\mathrm{V}$\": [2.12,1.91,1.48,0.85,0.42]}\n",
    "df = pd.DataFrame(data=d, index=range(1,6))\n",
    "#dftohtml = df.to_html(col_space=12,decimal=\",\")\n",
    "#print(dftohtml)\n",
    "means = df.mean(0)\n",
    "devs = df.std(0)\n",
    "uncs = devs/sqrt(5)\n",
    "df2 = pd.DataFrame([(str(means[i]) + \" ± \" + str(uncs[i])) for i in range(len(means))],index=list(means.keys()),columns=[\"Iznosi\"])\n",
    "#df"
   ]
  },
  {
   "cell_type": "markdown",
   "metadata": {},
   "source": [
    "### Zadatak 2\n",
    "\n",
    "Odaberite napon na primaru $U_1 = 2$ $\\mathrm{V}$ i odaberite neki broj zavoja primara $n_1$. Mijenjajte broj zavoja\n",
    "sekundara $n_2$ i promatrajte napon na sekundaru $U_2$ u praznom hodu. Nacrtajte graf $n_2 − U_2$ i provjerite\n",
    "relaciju (4)."
   ]
  },
  {
   "cell_type": "markdown",
   "metadata": {},
   "source": [
    "<table border=\"1\" class=\"dataframe\">\n",
    "  <thead>\n",
    "    <tr style=\"text-align: right;\">\n",
    "      <th style=\"min-width: 12;\"></th>\n",
    "      <th style=\"min-width: 12;\">$n_1$</th>\n",
    "      <th style=\"min-width: 12;\">$n_2$</th>\n",
    "      <th style=\"min-width: 12;\">$I_{10eff}$ / $\\mathrm{A}$</th>\n",
    "      <th style=\"min-width: 12;\">$I_{1eff}$ / $\\mathrm{A}$</th>\n",
    "      <th style=\"min-width: 12;\">$I_{2eff}$ / $\\mathrm{A}$</th>\n",
    "      <th style=\"min-width: 12;\">$U_{1eff}$ / $\\mathrm{V}$</th>\n",
    "      <th style=\"min-width: 12;\">$U_{2eff}$ / $\\mathrm{V}$</th>\n",
    "    </tr>\n",
    "  </thead>\n",
    "  <tbody>\n",
    "    <tr>\n",
    "      <th style=\"min-width: 12;\">1</th>\n",
    "      <td>126</td>\n",
    "      <td>140</td>\n",
    "      <td>0,18</td>\n",
    "      <td>-</td>\n",
    "      <td>0</td>\n",
    "      <td>2,08</td>\n",
    "      <td>2,12</td>\n",
    "    </tr>\n",
    "    <tr>\n",
    "      <th style=\"min-width: 12;\">2</th>\n",
    "      <td>126</td>\n",
    "      <td>126</td>\n",
    "      <td>0,18</td>\n",
    "      <td>-</td>\n",
    "      <td>0</td>\n",
    "      <td>2,08</td>\n",
    "      <td>1,91</td>\n",
    "    </tr>\n",
    "    <tr>\n",
    "      <th style=\"min-width: 12;\">3</th>\n",
    "      <td>126</td>\n",
    "      <td>98</td>\n",
    "      <td>0,18</td>\n",
    "      <td>-</td>\n",
    "      <td>0</td>\n",
    "      <td>2,08</td>\n",
    "      <td>1,48</td>\n",
    "    </tr>\n",
    "    <tr>\n",
    "      <th style=\"min-width: 12;\">4</th>\n",
    "      <td>126</td>\n",
    "      <td>56</td>\n",
    "      <td>0,18</td>\n",
    "      <td>-</td>\n",
    "      <td>0</td>\n",
    "      <td>2,08</td>\n",
    "      <td>0,85</td>\n",
    "    </tr>\n",
    "    <tr>\n",
    "      <th style=\"min-width: 12;\">5</th>\n",
    "      <td>126</td>\n",
    "      <td>28</td>\n",
    "      <td>0,18</td>\n",
    "      <td>-</td>\n",
    "      <td>0</td>\n",
    "      <td>2,08</td>\n",
    "      <td>0,42</td>\n",
    "    </tr>\n",
    "  </tbody>\n",
    "</table>"
   ]
  },
  {
   "cell_type": "markdown",
   "metadata": {},
   "source": [
    "Mjerenja su dana u tablici iznad. U ovom zadatku koristimo se relacijom:\n",
    "\n",
    "$$ U_2 = -\\frac{U_1}{n_1}n_2 $$\n",
    "\n",
    "gdje možemo prepoznati veličine u odnosu jednadžbe pravca $y = ax + b$ na sljedeći način:\n",
    "\n",
    "$$y = U_2$$\n",
    "\n",
    "$$x = n_2$$\n",
    "\n",
    "$$a = \\frac{U_1}{n_1}$$\n",
    "\n",
    "$$b = 0$$\n",
    "\n",
    "Ova relacija vrijedi i za kompleksne i efektivne vrijednosti jer će se koeficijenti $\\sqrt{2}$ poništiti, ali treba primjetiti kako će nestati minus jer su efektivne vrijednosti uvijek pozitivne.\n",
    "\n",
    "Metodom najmanjih kvadrata dobivamo:\n",
    "\n",
    "$a = (1,527 \\pm 0,003) \\times 10^{-2} \\ \\mathrm{V} $\n",
    "\n",
    "$b = (-3 \\pm 3) \\times 10^{-2} \\ \\mathrm{V} $\n",
    "\n",
    "Stvarna vrijednost za $a \\approx 1,587 \\times 10^{-2} \\ \\mathrm{V}$ pa možemo vidjeti da je rezultat koji smo dobili u jako dobrom slaganju sa očekivanom vrijednosti. Odsječak na ordinati je jako mali, što znači da ne dolazi do velikog rasipanja magnetskog toka."
   ]
  },
  {
   "cell_type": "code",
   "execution_count": 6,
   "metadata": {},
   "outputs": [],
   "source": [
    "#df2"
   ]
  },
  {
   "cell_type": "code",
   "execution_count": 7,
   "metadata": {},
   "outputs": [
    {
     "name": "stdout",
     "output_type": "stream",
     "text": [
      "a = 0.015167509479520724 ± 3.4380804987443484e-05\n",
      "b = -0.0030088495597113685 ± 0.00340353068737773\n"
     ]
    },
    {
     "data": {
      "image/png": "[encoded data removed]",
      "text/plain": [
       "<Figure size 576x432 with 1 Axes>"
      ]
     },
     "metadata": {},
     "output_type": "display_data"
    }
   ],
   "source": [
    "#n2-U2\n",
    "pars,cov=curve_fit(lambda x,a,b: a*x+b ,d[\"$n_2$\"],d[\"$U_{2eff}$ / $\\mathrm{V}$\"] )\n",
    "\n",
    "a=pars[0]\n",
    "b=pars[1]\n",
    "\n",
    "x_fit=linspace(0,200)\n",
    "y_fit=a*x_fit+b\n",
    "\n",
    "print(\"a =\", pars[0],\"±\", sqrt(cov[0,0]))\n",
    "print(\"b =\",pars[1],\"±\", sqrt(cov[1,1]))\n",
    "\n",
    "plt.figure(figsize=(8,6))\n",
    "plt.scatter(df.iloc[:, [1]],df.iloc[:, [6]])\n",
    "plt.plot(x_fit,y_fit,color=\"red\",linestyle=\"--\")\n",
    "plt.xlim(0,160)\n",
    "plt.ylim(0,2.5)\n",
    "\n",
    "plt.title(\"Graf ovisnosti $U_2$ - $n_2$\")\n",
    "plt.xlabel(\"$n_2$\",fontsize=16)\n",
    "plt.ylabel(\"$U_2$ / $\\mathrm{V}$\",fontsize=16);"
   ]
  },
  {
   "cell_type": "markdown",
   "metadata": {},
   "source": [
    "### Zadatak 3\n",
    "Odaberite $n_1 = 70$ i $n_2 = 140$ te izmjerite struju praznog hoda $I_{10;eff}$. Tada u strujni krug sekundara\n",
    "uključite promjenjivi otpornik $R_2$. Mijenjajući $R_2$ promatrajte kako se mijenjaju $I_{1;eff}$ i $I_{2;eff}$. Nacrtajte\n",
    "graf $I_{2;eff} − I_{1;eff}$ i odredite pravac koji najbolje opisuje mjerene točke. Objasnite značenje odsječka na\n",
    "ordinati."
   ]
  },
  {
   "cell_type": "code",
   "execution_count": 8,
   "metadata": {},
   "outputs": [],
   "source": [
    "d = {\"$n_1$\": [70,70,70,70,70,70,70,70,70,70,70,70,70],\n",
    "     \"$n_2$\": [140,140,140,140,140,140,140,140,140,140,140,140,140],\n",
    "     \"$I_{10eff}$ / $\\mathrm{A}$\": [0.46,\"-\",\"-\",\"-\",\"-\",\"-\",\"-\",\"-\",\"-\",\"-\",\"-\",\"-\",\"-\"],\n",
    "     \"$I_{1eff}$ / $\\mathrm{A}$\": [\"-\",2.44,1.51,1.11,0.95,0.87,0.82,0.76,0.64,0.53,0.51,0.49,0.48],\n",
    "     \"$I_{2eff}$ / $\\mathrm{A}$\": [0,1.158,0.649,0.443,0.356,0.311,0.281,0.249,0.199,0.08,0.059,0.046,0.035],\n",
    "     \"$U_{1eff}$ / $\\mathrm{V}$\": [1.99,1.1,1.4,1.5,1.5,1.6,1.6,1.6,1.7,1.7,1.7,1.7,1.7],\n",
    "     \"$U_{2eff}$ / $\\mathrm{V}$\": [3.72,2.4,2.1,2.6,2.8,2.9,2.9,3,3.2,3.3,3.4,3.4,3.4]}\n",
    "df = pd.DataFrame(data=d)\n",
    "#dftohtml = df.to_html(col_space=12,decimal=\",\")\n",
    "#print(dftohtml)\n",
    "means = df.mean(0)\n",
    "devs = df.std(0)\n",
    "uncs = devs/sqrt(5)\n",
    "df2 = pd.DataFrame([(str(means[i]) + \" ± \" + str(uncs[i])) for i in range(len(means))],index=list(means.keys()),columns=[\"Iznosi\"])\n",
    "#df"
   ]
  },
  {
   "cell_type": "markdown",
   "metadata": {},
   "source": [
    "<table border=\"1\" class=\"dataframe\">\n",
    "  <thead>\n",
    "    <tr style=\"text-align: right;\">\n",
    "      <th style=\"min-width: 12;\"></th>\n",
    "      <th style=\"min-width: 12;\">$n_1$</th>\n",
    "      <th style=\"min-width: 12;\">$n_2$</th>\n",
    "      <th style=\"min-width: 12;\">$I_{10eff}$ / $\\mathrm{A}$</th>\n",
    "      <th style=\"min-width: 12;\">$I_{1eff}$ / $\\mathrm{A}$</th>\n",
    "      <th style=\"min-width: 12;\">$I_{2eff}$ / $\\mathrm{A}$</th>\n",
    "      <th style=\"min-width: 12;\">$U_{1eff}$ / $\\mathrm{V}$</th>\n",
    "      <th style=\"min-width: 12;\">$U_{2eff}$ / $\\mathrm{V}$</th>\n",
    "    </tr>\n",
    "  </thead>\n",
    "  <tbody>\n",
    "    <tr>\n",
    "      <th style=\"min-width: 12;\">0</th>\n",
    "      <td>70</td>\n",
    "      <td>140</td>\n",
    "      <td>0.46</td>\n",
    "      <td>-</td>\n",
    "      <td>0,000</td>\n",
    "      <td>1,99</td>\n",
    "      <td>3,72</td>\n",
    "    </tr>\n",
    "    <tr>\n",
    "      <th style=\"min-width: 12;\">1</th>\n",
    "      <td>70</td>\n",
    "      <td>140</td>\n",
    "      <td>-</td>\n",
    "      <td>2.44</td>\n",
    "      <td>1,158</td>\n",
    "      <td>1,10</td>\n",
    "      <td>2,40</td>\n",
    "    </tr>\n",
    "    <tr>\n",
    "      <th style=\"min-width: 12;\">2</th>\n",
    "      <td>70</td>\n",
    "      <td>140</td>\n",
    "      <td>-</td>\n",
    "      <td>1.51</td>\n",
    "      <td>0,649</td>\n",
    "      <td>1,40</td>\n",
    "      <td>2,10</td>\n",
    "    </tr>\n",
    "    <tr>\n",
    "      <th style=\"min-width: 12;\">3</th>\n",
    "      <td>70</td>\n",
    "      <td>140</td>\n",
    "      <td>-</td>\n",
    "      <td>1.11</td>\n",
    "      <td>0,443</td>\n",
    "      <td>1,50</td>\n",
    "      <td>2,60</td>\n",
    "    </tr>\n",
    "    <tr>\n",
    "      <th style=\"min-width: 12;\">4</th>\n",
    "      <td>70</td>\n",
    "      <td>140</td>\n",
    "      <td>-</td>\n",
    "      <td>0.95</td>\n",
    "      <td>0,356</td>\n",
    "      <td>1,50</td>\n",
    "      <td>2,80</td>\n",
    "    </tr>\n",
    "    <tr>\n",
    "      <th style=\"min-width: 12;\">5</th>\n",
    "      <td>70</td>\n",
    "      <td>140</td>\n",
    "      <td>-</td>\n",
    "      <td>0.87</td>\n",
    "      <td>0,311</td>\n",
    "      <td>1,60</td>\n",
    "      <td>2,90</td>\n",
    "    </tr>\n",
    "    <tr>\n",
    "      <th style=\"min-width: 12;\">6</th>\n",
    "      <td>70</td>\n",
    "      <td>140</td>\n",
    "      <td>-</td>\n",
    "      <td>0.82</td>\n",
    "      <td>0,281</td>\n",
    "      <td>1,60</td>\n",
    "      <td>2,90</td>\n",
    "    </tr>\n",
    "    <tr>\n",
    "      <th style=\"min-width: 12;\">7</th>\n",
    "      <td>70</td>\n",
    "      <td>140</td>\n",
    "      <td>-</td>\n",
    "      <td>0.76</td>\n",
    "      <td>0,249</td>\n",
    "      <td>1,60</td>\n",
    "      <td>3,00</td>\n",
    "    </tr>\n",
    "    <tr>\n",
    "      <th style=\"min-width: 12;\">8</th>\n",
    "      <td>70</td>\n",
    "      <td>140</td>\n",
    "      <td>-</td>\n",
    "      <td>0.64</td>\n",
    "      <td>0,199</td>\n",
    "      <td>1,70</td>\n",
    "      <td>3,20</td>\n",
    "    </tr>\n",
    "    <tr>\n",
    "      <th style=\"min-width: 12;\">9</th>\n",
    "      <td>70</td>\n",
    "      <td>140</td>\n",
    "      <td>-</td>\n",
    "      <td>0.53</td>\n",
    "      <td>0,080</td>\n",
    "      <td>1,70</td>\n",
    "      <td>3,30</td>\n",
    "    </tr>\n",
    "    <tr>\n",
    "      <th style=\"min-width: 12;\">10</th>\n",
    "      <td>70</td>\n",
    "      <td>140</td>\n",
    "      <td>-</td>\n",
    "      <td>0.51</td>\n",
    "      <td>0,059</td>\n",
    "      <td>1,70</td>\n",
    "      <td>3,40</td>\n",
    "    </tr>\n",
    "    <tr>\n",
    "      <th style=\"min-width: 12;\">11</th>\n",
    "      <td>70</td>\n",
    "      <td>140</td>\n",
    "      <td>-</td>\n",
    "      <td>0.49</td>\n",
    "      <td>0,046</td>\n",
    "      <td>1,70</td>\n",
    "      <td>3,40</td>\n",
    "    </tr>\n",
    "    <tr>\n",
    "      <th style=\"min-width: 12;\">12</th>\n",
    "      <td>70</td>\n",
    "      <td>140</td>\n",
    "      <td>-</td>\n",
    "      <td>0.48</td>\n",
    "      <td>0,035</td>\n",
    "      <td>1,70</td>\n",
    "      <td>3,40</td>\n",
    "    </tr>\n",
    "  </tbody>\n",
    "</table>"
   ]
  },
  {
   "cell_type": "markdown",
   "metadata": {},
   "source": [
    "U ovom zadatku provjeravamo relaciju:\n",
    "\n",
    "$$I_1 = I_{10} - \\frac{n2}{n1}I_2 $$\n",
    "\n",
    "gdje prepoznajemo:\n",
    "\n",
    "$$y = I_1$$\n",
    "\n",
    "$$x = I_2$$\n",
    "\n",
    "$$a = \\frac{n_2}{n_1}$$\n",
    "\n",
    "$$b = I_{10}$$\n",
    "\n",
    "Metodom najmanjih kvadrata računamo pravac oblika $y = ax + b$ te dobivamo:\n",
    "\n",
    "$a = (1.76 ± 0.04) $\n",
    "\n",
    "$b = (0.36 ± 0.02) \\ \\mathrm{A} $\n",
    "\n",
    "Očekivani a je 2 te možemo vidjeti kako se izračunata vrijednost slaže sa time. Također kao odsječak na sori ordinata uspjeli smo dobiti približnu vrijednost struje praznog hoda koja je izmjerena $I_{10} = 0.46 \\ \\mathrm{A}$"
   ]
  },
  {
   "cell_type": "code",
   "execution_count": 9,
   "metadata": {},
   "outputs": [],
   "source": [
    "#df2"
   ]
  },
  {
   "cell_type": "code",
   "execution_count": 10,
   "metadata": {},
   "outputs": [
    {
     "name": "stdout",
     "output_type": "stream",
     "text": [
      "a = 1.7569095699358317 ± 0.04391206386681098\n",
      "b = 0.3598156334428704 ± 0.019538220443450216\n"
     ]
    },
    {
     "data": {
      "image/png": "[encoded data removed]",
      "text/plain": [
       "<Figure size 576x432 with 1 Axes>"
      ]
     },
     "metadata": {},
     "output_type": "display_data"
    }
   ],
   "source": [
    "#I1-I2\n",
    "\n",
    "\n",
    "pars,cov=curve_fit(lambda x,a,b: a*x+b,d[\"$I_{2eff}$ / $\\mathrm{A}$\"][1:],d[\"$I_{1eff}$ / $\\mathrm{A}$\"][1:] )\n",
    "\n",
    "a=pars[0]\n",
    "b=pars[1]\n",
    "\n",
    "x_fit=linspace(-5,5)\n",
    "y_fit=a*x_fit+b\n",
    "\n",
    "print(\"a =\", pars[0],\"±\", sqrt(cov[0,0]))\n",
    "print(\"b =\",pars[1],\"±\", sqrt(cov[1,1]))\n",
    "\n",
    "plt.figure(figsize=(8,6))\n",
    "plt.scatter(df.iloc[1:, [4]],df.iloc[1:, [3]])\n",
    "plt.plot(x_fit,y_fit,color=\"red\",linestyle=\"--\")\n",
    "plt.xlim(0,0.7)\n",
    "plt.ylim(0,2)\n",
    "\n",
    "plt.title(\"Graf ovisnosti $I_{1eff}$ - $I_{2eff}$\")\n",
    "plt.xlabel(\"$I_{2eff}$ / $\\mathrm{A}$\",fontsize=16)\n",
    "plt.ylabel(\"$I_{1eff}$ / $\\mathrm{A}$\",fontsize=16);"
   ]
  },
  {
   "cell_type": "markdown",
   "metadata": {},
   "source": [
    "### Zaključak\n",
    "\n",
    "Nakon što smo dokazali da ovisnost napona sekundara o broju namotaja zavojnice na sekundaru, te da se ovisnosti struja na primaru i sekundaru slažu sa teoretskim predviđanjima za idealni transformator možemo zaključiti da je to dovoljno dobra aproksimacija i za realni transformator."
   ]
  }
 ],
 "metadata": {
  "kernelspec": {
   "display_name": "Python 3",
   "language": "python",
   "name": "python3"
  },
  "language_info": {
   "codemirror_mode": {
    "name": "ipython",
    "version": 3
   },
   "file_extension": ".py",
   "mimetype": "text/x-python",
   "name": "python",
   "nbconvert_exporter": "python",
   "pygments_lexer": "ipython3",
   "version": "3.6.5"
  }
 },
 "nbformat": 4,
 "nbformat_minor": 2
}

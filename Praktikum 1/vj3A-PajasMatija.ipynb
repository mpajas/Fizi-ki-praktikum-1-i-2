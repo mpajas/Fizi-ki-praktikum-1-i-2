{
 "cells": [
  {
   "cell_type": "markdown",
   "metadata": {},
   "source": [
    "# FP1–V3A. Mjerenje istosmjernog napona i struje\n",
    "\n",
    "## Matija Pajas"
   ]
  },
  {
   "cell_type": "code",
   "execution_count": 1,
   "metadata": {},
   "outputs": [],
   "source": [
    "from scipy import *\n",
    "import pandas as pd\n",
    "import matplotlib.pyplot as plt\n",
    "import numpy as np\n",
    "from scipy.optimize import curve_fit\n",
    "\n",
    "#from sympy import *\n",
    "#init_printing()\n",
    "\n",
    "from IPython.display import HTML\n",
    "from IPython.display import display"
   ]
  },
  {
   "cell_type": "code",
   "execution_count": 2,
   "metadata": {},
   "outputs": [
    {
     "data": {
      "text/html": [
       "<script>\n",
       "code_show=true; \n",
       "function code_toggle() {\n",
       " if (code_show){\n",
       " $('div.input').hide();\n",
       " } else {\n",
       " $('div.input').show();\n",
       " }\n",
       " code_show = !code_show\n",
       "} \n",
       "$( document ).ready(code_toggle);\n",
       "</script>\n",
       "<form action=\"javascript:code_toggle()\"><input type=\"submit\" value=\"Pokaži/sakrij kod\"></form>"
      ],
      "text/plain": [
       "<IPython.core.display.HTML object>"
      ]
     },
     "execution_count": 2,
     "metadata": {},
     "output_type": "execute_result"
    }
   ],
   "source": [
    "HTML('''<script>\n",
    "code_show=true; \n",
    "function code_toggle() {\n",
    " if (code_show){\n",
    " $('div.input').hide();\n",
    " } else {\n",
    " $('div.input').show();\n",
    " }\n",
    " code_show = !code_show\n",
    "} \n",
    "$( document ).ready(code_toggle);\n",
    "</script>\n",
    "<form action=\"javascript:code_toggle()\"><input type=\"submit\" value=\"Pokaži/sakrij kod\"></form>''')"
   ]
  },
  {
   "cell_type": "code",
   "execution_count": 3,
   "metadata": {},
   "outputs": [
    {
     "data": {
      "text/html": [
       "\n",
       "<style>\n",
       ".output {\n",
       "    display: block;\n",
       "    align-items: center;\n",
       "    text-align: center;\n",
       "}\n",
       "td {\n",
       "  text-align: center;\n",
       "  vertical-align: middle;\n",
       "}\n",
       "</style>\n"
      ],
      "text/plain": [
       "<IPython.core.display.HTML object>"
      ]
     },
     "metadata": {},
     "output_type": "display_data"
    }
   ],
   "source": [
    "display(HTML(\"\"\"\n",
    "<style>\n",
    ".output {\n",
    "    display: block;\n",
    "    align-items: center;\n",
    "    text-align: center;\n",
    "}\n",
    "td {\n",
    "  text-align: center;\n",
    "  vertical-align: middle;\n",
    "}\n",
    "</style>\n",
    "\"\"\"))"
   ]
  },
  {
   "cell_type": "markdown",
   "metadata": {},
   "source": [
    "## Cilj vježbe\n",
    "\n",
    "U vježbi mjerimo istosmjerni napon i struju na različitim žicama od konstantana kojima želimo odrediti otpore i u konačnici njihovu otpornost linearnom regresijom. U tome zadatku pomoći će nam i metoda mjerenja koja se zove metoda četiri kontakta kojom ostvarujemo preciznija mjerenja zbog manjih smetnji."
   ]
  },
  {
   "cell_type": "markdown",
   "metadata": {},
   "source": [
    "## Mjerenje i pokus\n",
    "\n",
    "Mjerni uređaji sastoje se od istosmjernog izvora od $4,5 \\ \\mathrm{V}$, četiri žice od konstantana duge $l = 1 \\ \\mathrm{m}$ i različitih promjera poprečnog presjeka, otpor od $22 \\ \\mathrm{\\Omega}$ i 2 analogna instrumenta za mjerenje napona i struje.\n",
    "\n",
    "Prije nego zatvorimo strujni krug moramo se pobrinuti da smo stavili otpornik od $22 \\ \\mathrm{\\Omega}$ kako ne bismo izvor spojili u kratki spoj i dopustili preveliku struju. Zatim moramo spojiti instrumente u strujni krug, a voltmetar moramo priključiti tako da njegove kontakte stavimo na kontakte žica kojima spajamo žice od konstantana u strujni krug. Razlog tomu je što ćemo na taj način izbjeći pad napona između kontakata koji bi bio prisutan da nisu spojeni na isti kontakt, a time ostvarujemo preciznije mjerenje. Jednom kada je sve spojeno očitavamo napone i struje sa analognih instrumenata tako da ih prije zatvaranja strujnog kruga postavimo na najvišu osjetljivost te ju smanjujemo kada strujni krug zatvorimo. Izmjereni podaci o naponima i strujama za različite dimenzije žica moći ćemo iskoristiti kako bismo našli njihov individualni otpor te otpornost materijala od kojeg su napravljene."
   ]
  },
  {
   "cell_type": "markdown",
   "metadata": {},
   "source": [
    "## Zadatak 1 - Određivanje otpora žica od konstantana sa različitim poprečnim presjekom\n",
    "\n",
    "U ovome zadatku koristimo se Ohmovim zakonom koji glasi $R = \\frac{U}{I}$ kako bismo odredili otpor žica iz izmjerenih napona i struja. To ćemo napraviti tako što ćemo izračunati srednje vrijednosti i nepouzdanosti mjerenih veličina, uvrstiti ih u Ohmov zakon te izvesti izraz za neovisnost otpora.\n",
    "\n",
    "Podaci o mjerenjima za različite žice mogu se pronaći u tablicama niže."
   ]
  },
  {
   "cell_type": "code",
   "execution_count": 4,
   "metadata": {},
   "outputs": [],
   "source": [
    "U = [0.1,0.12,0.11,0.11,0.1]\n",
    "I = [162,165,160,165,165]\n",
    "\n",
    "d = {\"$U$ / $\\mathrm{V}$\": U,\n",
    "     \"$I$ / $\\mathrm{mA}$\": I,\n",
    "     \"$R$ / $\\mathrm{\\Omega}$\": [u/(i*10**-3) for u,i in zip(U,I)]}\n",
    "df = pd.DataFrame(data=d, index=range(1,6))\n",
    "#dftohtml = df.to_html(col_space=12,decimal=\",\")\n",
    "#print(dftohtml)\n",
    "means = df.mean(0)\n",
    "devs = df.std(0)\n",
    "uncs = devs/sqrt(5)\n",
    "df2 = pd.DataFrame([(str(means[i]) + \" ± \" + str(uncs[i])) for i in range(len(means))],index=list(means.keys()),columns=[\"Iznosi\"])\n",
    "#print(\"2r=1mm\")\n",
    "#df"
   ]
  },
  {
   "cell_type": "markdown",
   "metadata": {},
   "source": [
    "<table border=\"1\" class=\"dataframe\">\n",
    "  <thead>\n",
    "    <tr style=\"text-align: right;\">\n",
    "      <th style=\"min-width: 12;\"> 2r = 1 mm</th>\n",
    "      <th style=\"min-width: 12;\">$U$ / $\\mathrm{V}$</th>\n",
    "      <th style=\"min-width: 12;\">$I$ / $\\mathrm{mA}$</th>\n",
    "      <th style=\"min-width: 12;\">$R$ / $\\mathrm{\\Omega}$</th>\n",
    "    </tr>\n",
    "  </thead>\n",
    "  <tbody>\n",
    "    <tr>\n",
    "      <th style=\"min-width: 12;\">1</th>\n",
    "      <td>0,10</td>\n",
    "      <td>162</td>\n",
    "      <td>0,617284</td>\n",
    "    </tr>\n",
    "    <tr>\n",
    "      <th style=\"min-width: 12;\">2</th>\n",
    "      <td>0,12</td>\n",
    "      <td>165</td>\n",
    "      <td>0,727273</td>\n",
    "    </tr>\n",
    "    <tr>\n",
    "      <th style=\"min-width: 12;\">3</th>\n",
    "      <td>0,11</td>\n",
    "      <td>160</td>\n",
    "      <td>0,687500</td>\n",
    "    </tr>\n",
    "    <tr>\n",
    "      <th style=\"min-width: 12;\">4</th>\n",
    "      <td>0,11</td>\n",
    "      <td>165</td>\n",
    "      <td>0,666667</td>\n",
    "    </tr>\n",
    "    <tr>\n",
    "      <th style=\"min-width: 12;\">5</th>\n",
    "      <td>0,10</td>\n",
    "      <td>165</td>\n",
    "      <td>0,606061</td>\n",
    "    </tr>\n",
    "  </tbody>\n",
    "</table>"
   ]
  },
  {
   "cell_type": "code",
   "execution_count": 5,
   "metadata": {},
   "outputs": [],
   "source": [
    "U = [0.21,0.22,0.24,0.21,0.22]\n",
    "I = [160,162,170,159,160]\n",
    "\n",
    "d = {\"$U$ / $\\mathrm{V}$\": U,\n",
    "     \"$I$ / $\\mathrm{mA}$\": I,\n",
    "     \"$R$ / $\\mathrm{\\Omega}$\": [u/(i*10**-3) for u,i in zip(U,I)]}\n",
    "df = pd.DataFrame(data=d, index=range(1,6))\n",
    "#dftohtml = df.to_html(col_space=12,decimal=\",\")\n",
    "#print(dftohtml)\n",
    "means = df.mean(0)\n",
    "devs = df.std(0)\n",
    "uncs = devs/sqrt(5)\n",
    "df2 = pd.DataFrame([(str(means[i]) + \" ± \" + str(uncs[i])) for i in range(len(means))],index=list(means.keys()),columns=[\"Iznosi\"])\n",
    "#print(\"2r=0.7mm\")\n",
    "#df"
   ]
  },
  {
   "cell_type": "markdown",
   "metadata": {},
   "source": [
    "<table border=\"1\" class=\"dataframe\">\n",
    "  <thead>\n",
    "    <tr style=\"text-align: right;\">\n",
    "      <th style=\"min-width: 12;\">2r = 0,7 mm</th>\n",
    "      <th style=\"min-width: 12;\">$U$ / $\\mathrm{V}$</th>\n",
    "      <th style=\"min-width: 12;\">$I$ / $\\mathrm{mA}$</th>\n",
    "      <th style=\"min-width: 12;\">$R$ / $\\mathrm{\\Omega}$</th>\n",
    "    </tr>\n",
    "  </thead>\n",
    "  <tbody>\n",
    "    <tr>\n",
    "      <th style=\"min-width: 12;\">1</th>\n",
    "      <td>0,21</td>\n",
    "      <td>160</td>\n",
    "      <td>1,312500</td>\n",
    "    </tr>\n",
    "    <tr>\n",
    "      <th style=\"min-width: 12;\">2</th>\n",
    "      <td>0,22</td>\n",
    "      <td>162</td>\n",
    "      <td>1,358025</td>\n",
    "    </tr>\n",
    "    <tr>\n",
    "      <th style=\"min-width: 12;\">3</th>\n",
    "      <td>0,24</td>\n",
    "      <td>170</td>\n",
    "      <td>1,411765</td>\n",
    "    </tr>\n",
    "    <tr>\n",
    "      <th style=\"min-width: 12;\">4</th>\n",
    "      <td>0,21</td>\n",
    "      <td>159</td>\n",
    "      <td>1,320755</td>\n",
    "    </tr>\n",
    "    <tr>\n",
    "      <th style=\"min-width: 12;\">5</th>\n",
    "      <td>0,22</td>\n",
    "      <td>160</td>\n",
    "      <td>1,375000</td>\n",
    "    </tr>\n",
    "  </tbody>\n",
    "</table>"
   ]
  },
  {
   "cell_type": "code",
   "execution_count": 6,
   "metadata": {},
   "outputs": [],
   "source": [
    "U = [0.36,0.4,0.39,0.41,0.4]\n",
    "I = [140,156,150,153,160]\n",
    "\n",
    "d = {\"$U$ / $\\mathrm{V}$\": U,\n",
    "     \"$I$ / $\\mathrm{mA}$\": I,\n",
    "     \"$R$ / $\\mathrm{\\Omega}$\": [u/(i*10**-3) for u,i in zip(U,I)]}\n",
    "df = pd.DataFrame(data=d, index=range(1,6))\n",
    "#dftohtml = df.to_html(col_space=12,decimal=\",\")\n",
    "#print(dftohtml)\n",
    "means = df.mean(0)\n",
    "devs = df.std(0)\n",
    "uncs = devs/sqrt(5)\n",
    "df2 = pd.DataFrame([(str(means[i]) + \" ± \" + str(uncs[i])) for i in range(len(means))],index=list(means.keys()),columns=[\"Iznosi\"])\n",
    "#print(\"2r=0.5mm\")\n",
    "#df"
   ]
  },
  {
   "cell_type": "markdown",
   "metadata": {},
   "source": [
    "<table border=\"1\" class=\"dataframe\">\n",
    "  <thead>\n",
    "    <tr style=\"text-align: right;\">\n",
    "      <th style=\"min-width: 12;\">2r = 0,5 mm</th>\n",
    "      <th style=\"min-width: 12;\">$U$ / $\\mathrm{V}$</th>\n",
    "      <th style=\"min-width: 12;\">$I$ / $\\mathrm{mA}$</th>\n",
    "      <th style=\"min-width: 12;\">$R$ / $\\mathrm{\\Omega}$</th>\n",
    "    </tr>\n",
    "  </thead>\n",
    "  <tbody>\n",
    "    <tr>\n",
    "      <th style=\"min-width: 12;\">1</th>\n",
    "      <td>0,36</td>\n",
    "      <td>140</td>\n",
    "      <td>2,571429</td>\n",
    "    </tr>\n",
    "    <tr>\n",
    "      <th style=\"min-width: 12;\">2</th>\n",
    "      <td>0,40</td>\n",
    "      <td>156</td>\n",
    "      <td>2,564103</td>\n",
    "    </tr>\n",
    "    <tr>\n",
    "      <th style=\"min-width: 12;\">3</th>\n",
    "      <td>0,39</td>\n",
    "      <td>150</td>\n",
    "      <td>2,600000</td>\n",
    "    </tr>\n",
    "    <tr>\n",
    "      <th style=\"min-width: 12;\">4</th>\n",
    "      <td>0,41</td>\n",
    "      <td>153</td>\n",
    "      <td>2,679739</td>\n",
    "    </tr>\n",
    "    <tr>\n",
    "      <th style=\"min-width: 12;\">5</th>\n",
    "      <td>0,40</td>\n",
    "      <td>160</td>\n",
    "      <td>2,500000</td>\n",
    "    </tr>\n",
    "  </tbody>\n",
    "</table>"
   ]
  },
  {
   "cell_type": "code",
   "execution_count": 7,
   "metadata": {},
   "outputs": [],
   "source": [
    "U = [0.72,0.76,0.75,0.73,0.75]\n",
    "I = [140,144,150,141,146]\n",
    "\n",
    "d = {\"$U$ / $\\mathrm{V}$\": U,\n",
    "     \"$I$ / $\\mathrm{mA}$\": I,\n",
    "     \"$R$ / $\\mathrm{\\Omega}$\": [u/(i*10**-3) for u,i in zip(U,I)]}\n",
    "df = pd.DataFrame(data=d, index=range(1,6))\n",
    "#dftohtml = df.to_html(col_space=12,decimal=\",\")\n",
    "#print(dftohtml)\n",
    "means = df.mean(0)\n",
    "devs = df.std(0)\n",
    "uncs = devs/sqrt(5)\n",
    "df2 = pd.DataFrame([(str(means[i]) + \" ± \" + str(uncs[i])) for i in range(len(means))],index=list(means.keys()),columns=[\"Iznosi\"])\n",
    "#print(\"2r=0.35mm\")\n",
    "#df"
   ]
  },
  {
   "cell_type": "markdown",
   "metadata": {},
   "source": [
    "<table border=\"1\" class=\"dataframe\">\n",
    "  <thead>\n",
    "    <tr style=\"text-align: right;\">\n",
    "      <th style=\"min-width: 12;\">2r = 0,35 mm</th>\n",
    "      <th style=\"min-width: 12;\">$U$ / $\\mathrm{V}$</th>\n",
    "      <th style=\"min-width: 12;\">$I$ / $\\mathrm{mA}$</th>\n",
    "      <th style=\"min-width: 12;\">$R$ / $\\mathrm{\\Omega}$</th>\n",
    "    </tr>\n",
    "  </thead>\n",
    "  <tbody>\n",
    "    <tr>\n",
    "      <th style=\"min-width: 12;\">1</th>\n",
    "      <td>0,72</td>\n",
    "      <td>140</td>\n",
    "      <td>5,142857</td>\n",
    "    </tr>\n",
    "    <tr>\n",
    "      <th style=\"min-width: 12;\">2</th>\n",
    "      <td>0,76</td>\n",
    "      <td>144</td>\n",
    "      <td>5,277778</td>\n",
    "    </tr>\n",
    "    <tr>\n",
    "      <th style=\"min-width: 12;\">3</th>\n",
    "      <td>0,75</td>\n",
    "      <td>150</td>\n",
    "      <td>5,000000</td>\n",
    "    </tr>\n",
    "    <tr>\n",
    "      <th style=\"min-width: 12;\">4</th>\n",
    "      <td>0,73</td>\n",
    "      <td>141</td>\n",
    "      <td>5,177305</td>\n",
    "    </tr>\n",
    "    <tr>\n",
    "      <th style=\"min-width: 12;\">5</th>\n",
    "      <td>0,75</td>\n",
    "      <td>146</td>\n",
    "      <td>5,136986</td>\n",
    "    </tr>\n",
    "  </tbody>\n",
    "</table>"
   ]
  },
  {
   "cell_type": "markdown",
   "metadata": {},
   "source": [
    "#### 2r = 1 mm\n",
    "$U = (0,10800000000000001 \\pm 0,0037416573867739395) \\ \\mathrm{V}$<br>\n",
    "$I = (163,4 \\pm 1,0295630140987) \\ \\mathrm{mA}$\n",
    "#### 2r = 0,7 mm\n",
    "$U = (0,21999999999999997 \\pm 0,00547722557505166) \\ \\mathrm{V}$<br>\n",
    "$I = (162,2 \\pm 2,0099751242241775) \\ \\mathrm{mA}$ \n",
    "#### 2r = 0,5 mm\n",
    "$U = (0,392 \\pm 0,008602325267042629) \\ \\mathrm{V}$<br>\n",
    "$I = (151,8 \\pm 3,3823069050575523) \\ \\mathrm{mA}$ \n",
    "#### 2r = 0,35 mm\n",
    "$U = (0,742 \\pm 0,0073484692283495405) \\ \\mathrm{V}$<br>\n",
    "$I = (144,2 \\pm 1,7999999999999998) \\ \\mathrm{mA}$ "
   ]
  },
  {
   "cell_type": "markdown",
   "metadata": {},
   "source": [
    "Nakon zaokruživanja vrijednosti su:\n",
    "\n",
    "#### 2r = 1 mm\n",
    "$U = (0,108 \\pm 0,004) \\ \\mathrm{V}$<br>\n",
    "$I = (0,163 \\pm 0,001) \\ \\mathrm{A}$ \n",
    "#### 2r = 0,7 mm\n",
    "$U = (0,220 \\pm 0,005) \\ \\mathrm{V}$<br>\n",
    "$I = (0,162 \\pm 0,002) \\ \\mathrm{A}$ \n",
    "#### 2r = 0,5 mm\n",
    "$U = (0,392 \\pm 0,009) \\ \\mathrm{V}$<br>\n",
    "$I = (0,152 \\pm 0,003) \\ \\mathrm{A}$ \n",
    "#### 2r = 0,35 mm\n",
    "$U = (0,742 \\pm 0,007) \\ \\mathrm{V}$<br>\n",
    "$I = (0,144 \\pm 0,002) \\ \\mathrm{A}$ "
   ]
  },
  {
   "cell_type": "markdown",
   "metadata": {},
   "source": [
    "Sada kada su srednje vrijednosti i nepouzdanosti određene za sve žice koristiti ćemo se Ohmovim zakonom i izračunati nepouzdanost kako bismo izračunali otpore svake žice."
   ]
  },
  {
   "cell_type": "markdown",
   "metadata": {},
   "source": [
    "$$\\overline{R} = \\frac{\\overline{U}}{\\overline{I}}$$"
   ]
  },
  {
   "cell_type": "markdown",
   "metadata": {},
   "source": [
    "$$\n",
    "\\begin{align}\n",
    "M_R & = \\sqrt{M_{I}^{2} \\left(\\frac{\\partial}{\\partial I} R{\\left (U,I \\right )}\\right)^{2} + M_{U}^{2} \\left(\\frac{\\partial}{\\partial U} R{\\left (U,I \\right )}\\right)^{2}}\\\\\n",
    "M_R & = \\sqrt{\\frac{M_{U}^{2}}{I^{2}} + \\frac{M_{I}^{2} U^{2}}{I^{4}}} \\\\\n",
    "M_R & = \\frac{U}{I} \\sqrt{\\frac{M_{U}^{2}}{I U} + \\frac{M_{I}^{2} U}{I^{3}}}\n",
    "\\end{align}\n",
    "$$"
   ]
  },
  {
   "cell_type": "markdown",
   "metadata": {},
   "source": [
    "$R = (0,6625 \\pm 0,0248742615879265) \\ \\mathrm{\\Omega}$<br>\n",
    "$R = (1,35802 \\pm 0,0351239038838477) \\ \\mathrm{\\Omega}$<br>\n",
    "$R = (2,5789 \\pm 0,0780815255109396) \\ \\mathrm{\\Omega}$<br>\n",
    "$R = (5,1527 \\pm 0,0865146445659641) \\ \\mathrm{\\Omega}$<br>"
   ]
  },
  {
   "cell_type": "markdown",
   "metadata": {},
   "source": [
    "Te su finalni rezultati nakon zaokruživanja:\n",
    "\n",
    "$R = (0,66 \\pm 0,02) \\ \\mathrm{\\Omega}$ ; $R = 3,03 \\ \\%$ (2r = 1 mm) <br>\n",
    "$R = (1,36 \\pm 0,04) \\ \\mathrm{\\Omega}$ ; $R = 2,94 \\ \\%$ (2r = 0,7 mm)<br>\n",
    "$R = (2,59 \\pm 0,08) \\ \\mathrm{\\Omega}$ ; $R = 3,1 \\ \\%$ (2r = 0,5 mm)<br>\n",
    "$R = (5,15 \\pm 0,09) \\ \\mathrm{\\Omega}$ ; $R = 1,75 \\ \\%$ (2r = 0,35 mm)<br>"
   ]
  },
  {
   "cell_type": "code",
   "execution_count": 8,
   "metadata": {},
   "outputs": [],
   "source": [
    "#T,Dt,Mt,Md = symbols(\"T,D_t,M_t,M_D_t\")\n",
    "#U,I,Mu,Mi = symbols(\"U,I,M_U,M_I\")\n",
    "#R = Function(\"R\")(U,I)\n",
    "#display(sqrt((R.diff(U)*Mu)**2 + (R.diff(I)*Mi)**2))\n",
    "#R = U/I\n",
    "#display(R)\n",
    "#display(sqrt((R.diff(U)*Mu)**2 + (R.diff(I)*Mi)**2))\n",
    "#display(sqrt((((R.diff(U)*Mu)**2 + (R.diff(I)*Mi)**2)/R).simplify()))\n",
    "\n",
    "#računanje nepouzdanosti\n",
    "#display(sqrt((R.diff(U)*Mu)**2 + (R.diff(I)*Mi)**2).subs([(U,0.108), (I,0.163), (Mu,0.004), (Mi,0.001)]).evalf())\n",
    "#display(sqrt((R.diff(U)*Mu)**2 + (R.diff(I)*Mi)**2).subs([(U,0.220), (I,0.162), (Mu,0.005), (Mi,0.002)]).evalf())\n",
    "#display(sqrt((R.diff(U)*Mu)**2 + (R.diff(I)*Mi)**2).subs([(U,0.392), (I,0.152), (Mu,0.009), (Mi,0.003)]).evalf())\n",
    "#display(sqrt((R.diff(U)*Mu)**2 + (R.diff(I)*Mi)**2).subs([(U,0.742), (I,0.144), (Mu,0.007), (Mi,0.002)]).evalf())"
   ]
  },
  {
   "cell_type": "markdown",
   "metadata": {},
   "source": [
    "## Zadatak 2 - Ovisnost log(R) o log(r) i linearna regresija\n",
    "\n",
    "Prije nego možemo provjeriti kvadratnu ovisnost otpora o radijusu poprečnog presjeka žice potrebno je linearizirati izraz za otpor žice. To ćemo napraviti jednostavno tako da logaritmiramo obje strane jednakosti i iskoristimo svojstva logaritama kako bismo došli do izraza koji predstavlja jednadžbu pravca."
   ]
  },
  {
   "cell_type": "markdown",
   "metadata": {},
   "source": [
    "$$R = \\frac{\\rho l}{r^2\\pi}$$\n",
    "\n",
    "$$\n",
    "\\begin{align}\n",
    "\\ln(R) & =\\ln\\left ( \\frac{\\rho l}{r^{2}\\pi} \\right ) \\\\\n",
    "\\ln(R) & =\\ln(r^{-2})+\\ln\\left ( \\frac{\\rho l}{\\pi} \\right )\\\\\n",
    "\\ln(R) & =-2\\ln(r)+ \\ln\\left ( \\frac{\\rho l}{\\pi} \\right )\n",
    "\\end{align}\n",
    "$$"
   ]
  },
  {
   "cell_type": "markdown",
   "metadata": {},
   "source": [
    "Ako je jednadžba pravca\n",
    "$$y=ax+b$$\n",
    "\n",
    "možemo prepoznati veličine u našem izrazu na sljedeći način:\n",
    "\n",
    "$$ X = \\ln(r)$$\n",
    "$$ Y = \\ln(R)$$\n",
    "$$ a = -2$$\n",
    "$$ b=\\ln(\\frac{\\rho l}{\\pi}) $$\n",
    "\n",
    "Sada provodimo metodu najmanjih kvadrata nad podacima te očekujemo dobiti nagib pravca oko $a = -2$ jer će to značiti da otpor zaista opada sa kvadratom radijusa. Prije nego krenemo s računom potrebno je argumente pod logaritmom učiniti bezdimenzionalnima tako da ih podijelimo odgovarajućom mjernom jedinicom:\n",
    "\n",
    "$$\\ln\\left(\\frac{r}{1 \\ \\mathrm{m}}\\right)$$\n",
    "\n",
    "$$\\ln\\left(\\frac{R}{1 \\ \\mathrm{\\Omega}}\\right)$$"
   ]
  },
  {
   "cell_type": "code",
   "execution_count": 9,
   "metadata": {},
   "outputs": [
    {
     "name": "stdout",
     "output_type": "stream",
     "text": [
      "a = -1.9530490167832446 ± 0.018383638176542774\n",
      "b = -15.24945614775538 ± 0.14955376486108998\n"
     ]
    },
    {
     "data": {
      "image/png": "[encoded data removed]",
      "text/plain": [
       "<Figure size 576x432 with 1 Axes>"
      ]
     },
     "metadata": {},
     "output_type": "display_data"
    }
   ],
   "source": [
    "#R-r\n",
    "R = [0.66,1.36,2.59,5.15]\n",
    "r = [0.5,0.35,0.25,0.175]\n",
    "\n",
    "R = [log(x) for x in R]\n",
    "r = [log(x/1000) for x in r]\n",
    "\n",
    "pars,cov=curve_fit(lambda x,a,b: a*x+b, r, R)\n",
    "\n",
    "a=pars[0]\n",
    "b=pars[1]\n",
    "\n",
    "x_fit=linspace(-15,15)\n",
    "y_fit=a*x_fit+b\n",
    "\n",
    "print(\"a =\", pars[0],\"±\", sqrt(cov[0,0]))\n",
    "print(\"b =\",pars[1],\"±\", sqrt(cov[1,1]))\n",
    "\n",
    "plt.figure(figsize=(8,6))\n",
    "plt.scatter(r,R)\n",
    "plt.plot(x_fit,y_fit,color=\"red\",linestyle=\"--\")\n",
    "plt.xlim(-8.7,-7.55)\n",
    "plt.ylim(-0.5,1.7)\n",
    "\n",
    "plt.title(\"Graf ovisnosti $\\ln(R)$ - $\\ln(r)$\")\n",
    "plt.xlabel(r\"$\\ln\\left(\\frac{r}{\\mathrm{m}}\\right)$\",fontsize=16)\n",
    "plt.ylabel(r\"$\\ln\\left(\\frac{R}{\\mathrm{\\Omega}}\\right)$\",fontsize=16);"
   ]
  },
  {
   "cell_type": "markdown",
   "metadata": {},
   "source": [
    "$ a = -1.95 ± 0.02 $\n",
    "\n",
    "$ b = -15.2 ± 0.1$\n",
    "\n",
    "Dobili smo $a$ koji je u jako dobrom slaganju sa izrazom koji smo izveli te točke na grafu nemaju vidljivog odstupanja i zaista leže skoro na pravcu pa možemo zaključiti da je riječ o ovisnosti $R \\propto r^{-2}$."
   ]
  },
  {
   "cell_type": "markdown",
   "metadata": {},
   "source": [
    "## Zadatak 3 - Određivanje otpornosti iz koeficijenata izračunatog pravca"
   ]
  },
  {
   "cell_type": "markdown",
   "metadata": {},
   "source": [
    "Kako bismo odredili otpornost konstantana koristiti ćemo se vrijednosti odsječka izračunatog pravca sa y-osi.\n",
    "\n",
    "$$b=\\log\\left ( \\frac{\\rho l}{\\pi} \\right)$$\n",
    "\n",
    "odnosno kad uvrstimo $l=1$ $\\mathrm{m}$ koji uzimamo kao konstantu i sredimo izraz dobivamo\n",
    "\n",
    "$$e^b = \\frac{\\rho}{\\pi}$$\n",
    "\n",
    "$$\\rho = e^b \\pi$$\n",
    "\n",
    "te dobimo da je\n",
    "\n",
    "$$\\rho = 7,488927054 \\times 10^{-7} \\ \\mathrm{\\Omega m}$$\n",
    "\n",
    "i računamo nepouzdanost.\n",
    "\n",
    "$$\n",
    "\\begin{align}\n",
    "M_{\\rho} &= \\sqrt{\\left ( \\frac{\\partial\\rho }{\\partial b}M_{b} \\right )^{2}}\\\\\n",
    "M_{\\rho} &= e^b\\pi M_b = 1,123339058 \\times 10^{-7} \\ \\mathrm{\\Omega m}\n",
    "\\end{align}\n",
    "$$\n",
    "\n",
    "Konačan rezultat je:\n",
    "\n",
    "$$\\rho = (0,7 \\pm 0,1) \\ \\mathrm{ \\mu \\Omega m} \\ ;\\ R = 14,28 \\ \\%$$"
   ]
  },
  {
   "cell_type": "markdown",
   "metadata": {},
   "source": [
    "## Zaključak\n",
    "\n",
    "Nakon obrade podataka uspjeli smo pokazati da je ovisnost otpora o radijusu poprečnog presjeka $R \\propto r^{-2}$, no bez obzira na to nismo uspjeli dobiti dovoljno dobar rezultat otpornosti koja bi trebala biti oko $\\rho = 0,49 \\ \\mathrm{ \\mu \\Omega m}$. Svijesni smo toga zbog velike pogreške u konačnom rezultatu bez obzira što smo imali male pogreške u određivanju otpora. Razlog tomu je očitavanje sa analognih instrumenata koji nemaju dovoljno veliku preciznost, ali su davali konzistentna mjerenja jer smo uspjeli pokazati ovisnost otpora o radijusu. To me navodi na zaključak da niti otpori nisu najbolje određeni iako imaju malo odstupanje baš zbog toga što na analognom instrumentu nisam imao puno izbora nego odabrati jednu od crtica koja se čini najbliže kazaljci."
   ]
  }
 ],
 "metadata": {
  "kernelspec": {
   "display_name": "Python 3",
   "language": "python",
   "name": "python3"
  },
  "language_info": {
   "codemirror_mode": {
    "name": "ipython",
    "version": 3
   },
   "file_extension": ".py",
   "mimetype": "text/x-python",
   "name": "python",
   "nbconvert_exporter": "python",
   "pygments_lexer": "ipython3",
   "version": "3.6.5"
  }
 },
 "nbformat": 4,
 "nbformat_minor": 2
}

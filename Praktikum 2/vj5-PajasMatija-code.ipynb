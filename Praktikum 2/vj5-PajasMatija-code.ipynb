{
 "cells": [
  {
   "cell_type": "markdown",
   "metadata": {},
   "source": [
    "# <center> FP2–V5. Brzina svjetlosti\n",
    "## <center> Matija Pajas"
   ]
  },
  {
   "cell_type": "code",
   "execution_count": 1,
   "metadata": {},
   "outputs": [],
   "source": [
    "from scipy import *\n",
    "import pandas as pd\n",
    "import matplotlib.pyplot as plt\n",
    "import numpy as np\n",
    "from scipy.optimize import curve_fit\n",
    "\n",
    "#from sympy import *\n",
    "#init_printing()\n",
    "\n",
    "from IPython.display import HTML\n",
    "from IPython.display import display"
   ]
  },
  {
   "cell_type": "markdown",
   "metadata": {},
   "source": [
    "### Zadatak 1\n",
    "Odredite brzinu svjetlosti u zraku."
   ]
  },
  {
   "cell_type": "markdown",
   "metadata": {},
   "source": [
    "Mjereni podaci mogu se pronaći u tablici niže. Iz podataka je izračunata srednja vrijednost razlike položaja i nepouzdanost pomoću standardne devijacije."
   ]
  },
  {
   "cell_type": "code",
   "execution_count": 20,
   "metadata": {},
   "outputs": [
    {
     "data": {
      "text/html": [
       "<div>\n",
       "<style scoped>\n",
       "    .dataframe tbody tr th:only-of-type {\n",
       "        vertical-align: middle;\n",
       "    }\n",
       "\n",
       "    .dataframe tbody tr th {\n",
       "        vertical-align: top;\n",
       "    }\n",
       "\n",
       "    .dataframe thead th {\n",
       "        text-align: right;\n",
       "    }\n",
       "</style>\n",
       "<table border=\"1\" class=\"dataframe\">\n",
       "  <thead>\n",
       "    <tr style=\"text-align: right;\">\n",
       "      <th></th>\n",
       "      <th>$\\Delta x$ / $\\mathrm{cm}$</th>\n",
       "    </tr>\n",
       "  </thead>\n",
       "  <tbody>\n",
       "    <tr>\n",
       "      <th>1</th>\n",
       "      <td>130</td>\n",
       "    </tr>\n",
       "    <tr>\n",
       "      <th>2</th>\n",
       "      <td>137</td>\n",
       "    </tr>\n",
       "    <tr>\n",
       "      <th>3</th>\n",
       "      <td>132</td>\n",
       "    </tr>\n",
       "  </tbody>\n",
       "</table>\n",
       "</div>"
      ],
      "text/plain": [
       "   $\\Delta x$ / $\\mathrm{cm}$\n",
       "1                         130\n",
       "2                         137\n",
       "3                         132"
      ]
     },
     "execution_count": 20,
     "metadata": {},
     "output_type": "execute_result"
    }
   ],
   "source": [
    "dx = {\"$\\Delta x$ / $\\mathrm{cm}$\":[130,137,132]}\n",
    "df = pd.DataFrame(data = dx, index=range(1,4))\n",
    "#dftohtml = df.to_html(col_space=12,decimal=\",\")\n",
    "#print(dftohtml)\n",
    "df"
   ]
  },
  {
   "cell_type": "code",
   "execution_count": 24,
   "metadata": {},
   "outputs": [
    {
     "data": {
      "text/html": [
       "<div>\n",
       "<style scoped>\n",
       "    .dataframe tbody tr th:only-of-type {\n",
       "        vertical-align: middle;\n",
       "    }\n",
       "\n",
       "    .dataframe tbody tr th {\n",
       "        vertical-align: top;\n",
       "    }\n",
       "\n",
       "    .dataframe thead th {\n",
       "        text-align: right;\n",
       "    }\n",
       "</style>\n",
       "<table border=\"1\" class=\"dataframe\">\n",
       "  <thead>\n",
       "    <tr style=\"text-align: right;\">\n",
       "      <th></th>\n",
       "      <th>Rezultat</th>\n",
       "    </tr>\n",
       "  </thead>\n",
       "  <tbody>\n",
       "    <tr>\n",
       "      <th>$\\Delta x$ / $\\mathrm{cm}$</th>\n",
       "      <td>133.0 ± 1.6124515496597098</td>\n",
       "    </tr>\n",
       "  </tbody>\n",
       "</table>\n",
       "</div>"
      ],
      "text/plain": [
       "                                              Rezultat\n",
       "$\\Delta x$ / $\\mathrm{cm}$  133.0 ± 1.6124515496597098"
      ]
     },
     "execution_count": 24,
     "metadata": {},
     "output_type": "execute_result"
    }
   ],
   "source": [
    "means = df.mean(0)\n",
    "devs = df.std(0)\n",
    "uncs = devs/sqrt(5)\n",
    "df2 = pd.DataFrame([(str(means[i]) + \" ± \" + str(uncs[i])) for i in range(len(means))],index=list(means.keys()),columns=[\"Rezultat\"])\n",
    "df2"
   ]
  },
  {
   "cell_type": "markdown",
   "metadata": {},
   "source": [
    "$$\\Delta x = (133 ± 1,6124515496597098) \\ \\mathrm{cm}$$\n",
    "\n",
    "$$\\Delta x = (1,33 ± 0.02) \\ \\mathrm{m}$$"
   ]
  },
  {
   "cell_type": "markdown",
   "metadata": {},
   "source": [
    "Taj podatak koristi se za računanje brzine svjetlosti izrazom iz pripreme:\n",
    "\n",
    "$$c=4f\\Delta x$$\n",
    "\n",
    "za koji treba izračunati i pripadnu nepouzdanost:\n",
    "\n",
    "$$\n",
    "\\begin{align}\n",
    "M_{c} & = \\sqrt{ \\left ( \\frac{\\partial \\Delta x}{\\partial x}M_x  \\right )^2  } \\\\\n",
    "M_{c} & = \\sqrt{ \\left( 4fM_x \\right)^2 } \\\\\n",
    "M_{c} & = 4f\\Delta x\\sqrt{\\left( \\frac{{M_x}^2}{{\\Delta x}^2}  \\right)} = 4008000 \\ \\mathrm{m/s}\n",
    "\\end{align}\n",
    "$$"
   ]
  },
  {
   "cell_type": "markdown",
   "metadata": {},
   "source": [
    "### Rezultat:\n",
    "\n",
    "$$c = (266532000 \\pm 4008000) \\ \\mathrm{m/s}$$\n",
    "Zaokruženo:\n",
    "$$c = (2,67 \\pm 0,04) \\times 10^{8} \\ \\mathrm{m/s}$$"
   ]
  },
  {
   "cell_type": "code",
   "execution_count": 4,
   "metadata": {},
   "outputs": [
    {
     "name": "stdout",
     "output_type": "stream",
     "text": [
      "4008000.0\n"
     ]
    }
   ],
   "source": [
    "Mc = 4*(50.1*10**6)*1.33*((0.02)/(1.33))\n",
    "print(Mc)"
   ]
  },
  {
   "cell_type": "code",
   "execution_count": 5,
   "metadata": {},
   "outputs": [
    {
     "name": "stdout",
     "output_type": "stream",
     "text": [
      "v = 266532000.0 m/s\n",
      "v = 0.88844 c\n"
     ]
    }
   ],
   "source": [
    "c = 4*(50.1*10**6)*1.33\n",
    "print(\"v =\",c, \"m/s\")\n",
    "print(\"v =\",c/(3*10**8),\"c\")"
   ]
  },
  {
   "cell_type": "markdown",
   "metadata": {},
   "source": [
    "### Zadatak 2\n",
    "Odredite brzinu svjetlosti u vodi ili sintetskoj smoli (sami izaberite) te izračunajte pripadni indeks loma."
   ]
  },
  {
   "cell_type": "markdown",
   "metadata": {},
   "source": [
    "Duljina bloka smole kroz koju se pušta svjetlost za ovaj zadatak izmjerena je $l = 29,5 \\ \\mathrm{cm}$ uz procijenjenu nepouzdanost $M_l = 0,5 \\ \\mathrm{cm}$ te se mjeri nova razlika položaja $\\Delta x$. Izmjereni podaci mogu se naći u tablici niže, kao i izračunata srednja vrijednost i nepouzdanost."
   ]
  },
  {
   "cell_type": "code",
   "execution_count": 15,
   "metadata": {},
   "outputs": [
    {
     "data": {
      "text/html": [
       "<div>\n",
       "<style scoped>\n",
       "    .dataframe tbody tr th:only-of-type {\n",
       "        vertical-align: middle;\n",
       "    }\n",
       "\n",
       "    .dataframe tbody tr th {\n",
       "        vertical-align: top;\n",
       "    }\n",
       "\n",
       "    .dataframe thead th {\n",
       "        text-align: right;\n",
       "    }\n",
       "</style>\n",
       "<table border=\"1\" class=\"dataframe\">\n",
       "  <thead>\n",
       "    <tr style=\"text-align: right;\">\n",
       "      <th></th>\n",
       "      <th>$\\Delta x$ / $\\mathrm{cm}$</th>\n",
       "    </tr>\n",
       "  </thead>\n",
       "  <tbody>\n",
       "    <tr>\n",
       "      <th>1</th>\n",
       "      <td>8.0</td>\n",
       "    </tr>\n",
       "    <tr>\n",
       "      <th>2</th>\n",
       "      <td>7.5</td>\n",
       "    </tr>\n",
       "    <tr>\n",
       "      <th>3</th>\n",
       "      <td>10.0</td>\n",
       "    </tr>\n",
       "  </tbody>\n",
       "</table>\n",
       "</div>"
      ],
      "text/plain": [
       "   $\\Delta x$ / $\\mathrm{cm}$\n",
       "1                         8.0\n",
       "2                         7.5\n",
       "3                        10.0"
      ]
     },
     "execution_count": 15,
     "metadata": {},
     "output_type": "execute_result"
    }
   ],
   "source": [
    "dx = {\"$\\Delta x$ / $\\mathrm{cm}$\":[8,7.5,10]}\n",
    "\n",
    "df = pd.DataFrame(data = dx, index=range(1,4))\n",
    "#dftohtml = df.to_html(col_space=12,decimal=\",\")\n",
    "#print(dftohtml)\n",
    "df"
   ]
  },
  {
   "cell_type": "code",
   "execution_count": 18,
   "metadata": {},
   "outputs": [
    {
     "data": {
      "text/html": [
       "<div>\n",
       "<style scoped>\n",
       "    .dataframe tbody tr th:only-of-type {\n",
       "        vertical-align: middle;\n",
       "    }\n",
       "\n",
       "    .dataframe tbody tr th {\n",
       "        vertical-align: top;\n",
       "    }\n",
       "\n",
       "    .dataframe thead th {\n",
       "        text-align: right;\n",
       "    }\n",
       "</style>\n",
       "<table border=\"1\" class=\"dataframe\">\n",
       "  <thead>\n",
       "    <tr style=\"text-align: right;\">\n",
       "      <th></th>\n",
       "      <th>Rezultat</th>\n",
       "    </tr>\n",
       "  </thead>\n",
       "  <tbody>\n",
       "    <tr>\n",
       "      <th>$\\Delta x$ / $\\mathrm{cm}$</th>\n",
       "      <td>8.5 ± 0.9354143466934853</td>\n",
       "    </tr>\n",
       "  </tbody>\n",
       "</table>\n",
       "</div>"
      ],
      "text/plain": [
       "                                            Rezultat\n",
       "$\\Delta x$ / $\\mathrm{cm}$  8.5 ± 0.9354143466934853"
      ]
     },
     "execution_count": 18,
     "metadata": {},
     "output_type": "execute_result"
    }
   ],
   "source": [
    "means = df.mean(0)\n",
    "devs = df.std(0)\n",
    "uncs = devs/sqrt(2)\n",
    "df2 = pd.DataFrame([(str(means[i]) + \" ± \" + str(uncs[i])) for i in range(len(means))],index=list(means.keys()),columns=[\"Rezultat\"])\n",
    "df2"
   ]
  },
  {
   "cell_type": "markdown",
   "metadata": {},
   "source": [
    "$$\\Delta x = (8.5 ± 0.5916079783099616) \\ \\mathrm{cm}$$\n",
    "\n",
    "$$\\Delta x = (0,085 ± 0,006) \\ \\mathrm{cm}$$"
   ]
  },
  {
   "cell_type": "markdown",
   "metadata": {},
   "source": [
    "Da bi se došlo do brzine svjetlosti u smoli prije svega potrebno je izračunati indeks loma pomoću izraza iz pripreme:\n",
    "\n",
    "$$n_\\mathrm{m}=\\frac{c_\\mathrm{z}}{c_\\mathrm{m}}=1+\\frac{2 \\Delta x}{\\kappa l_\\mathrm{m}}$$\n",
    "\n",
    "gdje $\\kappa$ označava broj prolazaka svjetlosti kroz duljinu bloka smole. U ovome slučaju svjetlost kroz smolu prolazi samo u jednom smjeru tako da je $\\kappa = 1$ i izraz se svodi na idući izraz i iznosi:\n",
    "\n",
    "$$n_\\mathrm{m}=1+\\frac{2 \\Delta x}{l_\\mathrm{m}} = 1,576271186440678$$\n",
    "\n",
    "a njegova pripadna nepouzdanost je:\n",
    "\n",
    "$$\n",
    "\\begin{align}\n",
    "M_{n_\\mathrm{m}} & =\\sqrt{ \\left ( \\frac{ \\partial n_\\mathrm{m}}{\\partial \\Delta x}M_{\\Delta x}  \\right )^2  +  \\left (\\frac{ \\partial n_\\mathrm{m}}{\\partial l_\\mathrm{m}}M_{l_\\mathrm{m}}  \\right )^2 } \\\\\n",
    "M_{n_\\mathrm{m}} & =  \\frac{2 \\Delta x}{l_m}\n",
    "\\sqrt{ \\left ( \\frac{M_{\\Delta x}}{\\Delta x}  \\right )^2 + \\left( \\frac{M_{l_\\mathrm{m}}}{l_\\mathrm{m}} \\right )^2} = 0,04183416350925095\n",
    "\\end{align}\n",
    "$$"
   ]
  },
  {
   "cell_type": "markdown",
   "metadata": {},
   "source": [
    "### Rezultat:\n",
    "\n",
    "$$n_\\mathrm{m} = (1,576271186440678 \\pm 0,04183416350925095)$$\n",
    "\n",
    "$$n_\\mathrm{m} = (1,58 \\pm 0,04)$$"
   ]
  },
  {
   "cell_type": "markdown",
   "metadata": {},
   "source": [
    "Sada kada je indeks loma izračunat, može se doći do brzine idućim izrazom:\n",
    "\n",
    "$$v_{\\mathrm{s}}=\\frac{c}{n_{\\mathrm{s}}}= 189873417,721519 \\ \\mathrm{m/s}$$\n",
    "\n",
    "a nepouzdanost brzine će biti:\n",
    "\n",
    "$$\n",
    "\\begin{align}\n",
    "M_{v_{\\mathrm{s}}} & = \\sqrt{ \\left ( \\frac{\\partial v_\\mathrm{s}}{\\partial c}M_c    \\right )^2 +\n",
    "\\left ( \\frac{\\partial v_\\mathrm{s}}{\\partial n_{\\mathrm{s}}}M_{n_{\\mathrm{s}}}    \\right )^2} \\\\\n",
    "M_{v_{\\mathrm{s}}} & = v_\\mathrm{s} \\cdot\n",
    "\\sqrt{\\left ( \\frac{M_{c}}{c}  \\right )^2 +\n",
    "\\left ( \\frac{M_{n_\\mathrm{s}}}{n_\\mathrm{s}}  \\right )^2} = 5585511,469997809 \\ \\mathrm{m/s}\n",
    "\\end{align}\n",
    "$$"
   ]
  },
  {
   "cell_type": "markdown",
   "metadata": {},
   "source": [
    "### Rezultat:\n",
    "\n",
    "$$v_\\mathrm{s} = (189873417,721519 \\pm 005585511,469997809) \\ \\mathrm{m/s}$$\n",
    "\n",
    "$$v_\\mathrm{s} = (1,9 \\pm 0,06) \\times 10^{8} \\ \\mathrm{m/s}$$"
   ]
  },
  {
   "cell_type": "code",
   "execution_count": 8,
   "metadata": {},
   "outputs": [
    {
     "name": "stdout",
     "output_type": "stream",
     "text": [
      "n = 1.576271186440678\n",
      "v = 190322580.6451613 m/s\n",
      "v = 0.6344086021505376 c\n",
      "0.04183416350925095\n",
      "189873417.721519\n",
      "5585511.469997809\n"
     ]
    }
   ],
   "source": [
    "n = 1 + (2 * 8.5)/29.5\n",
    "print(\"n =\",n)\n",
    "v = (3*10**8)/n\n",
    "print(\"v =\",v,\"m/s\")\n",
    "print(\"v =\",v/(3*10**8),\"c\")\n",
    "print((n-1)*sqrt((0.006**2)/(0.085**2) + (0.005**2)/(0.295**2)))\n",
    "print((3*10**8)/1.58)\n",
    "print(189873417.721519 * sqrt( ((0.04)/(2.67))**2 + ((0.04)/(1.58))**2 ) )"
   ]
  },
  {
   "cell_type": "markdown",
   "metadata": {},
   "source": [
    "### Zadatak 3\n",
    "Odredite indeks loma staklene prizme za spektralne linije iz emisijskog spektra dostupne lampe te\n",
    "izračunajte pripadne brzine svjetlosti."
   ]
  },
  {
   "cell_type": "code",
   "execution_count": 9,
   "metadata": {},
   "outputs": [
    {
     "name": "stdout",
     "output_type": "stream",
     "text": [
      "phi = 1.0484624341137057 rad\n",
      "phi = 60.07247245272848 °\n"
     ]
    }
   ],
   "source": [
    "b = 5.25\n",
    "v = 4.54\n",
    "phi = 2*arctan((b/2)/(v))\n",
    "print(\"phi =\",phi,\"rad\")\n",
    "degrees(phi)\n",
    "print(\"phi =\",degrees(phi),\"°\")"
   ]
  },
  {
   "cell_type": "code",
   "execution_count": 10,
   "metadata": {},
   "outputs": [
    {
     "name": "stdout",
     "output_type": "stream",
     "text": [
      "1.5899717778952585 1.6118714684370343 1.6281939991742844\n",
      "188682594.35216397 186119058.42027074 184253227.90290394\n"
     ]
    }
   ],
   "source": [
    "dc = radians(45.4)\n",
    "dz = radians(47.5)\n",
    "dp = radians(49.1)\n",
    "nc = sin((phi + dc)/2)/sin(phi/2)\n",
    "nz = sin((phi + dz)/2)/sin(phi/2)\n",
    "np = sin((phi + dp)/2)/sin(phi/2)\n",
    "print(nc,nz,np)\n",
    "c = 3*10**8\n",
    "vc = c/nc\n",
    "vz = c/nz\n",
    "vp = c/np\n",
    "print(vc,vz,vp)"
   ]
  },
  {
   "cell_type": "markdown",
   "metadata": {},
   "source": []
  },
  {
   "cell_type": "markdown",
   "metadata": {},
   "source": []
  },
  {
   "cell_type": "markdown",
   "metadata": {},
   "source": []
  },
  {
   "cell_type": "markdown",
   "metadata": {},
   "source": []
  },
  {
   "cell_type": "markdown",
   "metadata": {},
   "source": []
  }
 ],
 "metadata": {
  "kernelspec": {
   "display_name": "Python 3",
   "language": "python",
   "name": "python3"
  },
  "language_info": {
   "codemirror_mode": {
    "name": "ipython",
    "version": 3
   },
   "file_extension": ".py",
   "mimetype": "text/x-python",
   "name": "python",
   "nbconvert_exporter": "python",
   "pygments_lexer": "ipython3",
   "version": "3.6.5"
  }
 },
 "nbformat": 4,
 "nbformat_minor": 2
}

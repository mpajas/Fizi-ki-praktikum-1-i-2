{
 "cells": [
  {
   "cell_type": "markdown",
   "metadata": {},
   "source": [
    "# <center> FP2–V4. Leče i optički instrumenti\n",
    "## <center> Matija Pajas"
   ]
  },
  {
   "cell_type": "markdown",
   "metadata": {},
   "source": [
    "### Zadatak 1\n",
    "Pronađite oštru sliku predmeta na zastoru pomoću leće $f = + 10 \\ \\mathrm{cm}$. Izmjerite $a$ i $b$, procijenite nepouzdanosti i izračunajte $f$."
   ]
  },
  {
   "cell_type": "markdown",
   "metadata": {},
   "source": [
    "Za ovaj zadatak koristi se izvor paralelnog snopa svjetlosti, nosači leća na koje su pričvršćeni konvergentna leća $f = +10 \\ \\mathrm{cm}$ i zastor sa strelicem, te zastora na koji se projicira strelica. Mjerenje se izvodi direktnom metodom tako što se leća pomiče na optičkoj klupi dok se slika predmeta ne izoštri. Za taj položaj leće potrebno je izmjeriti $a$ i $b$ te pomoću njih izračunati fokus leće.\n",
    "Podaci se mogu pronaći u tablici niže, a nepouzdanosti su za obje veličine procijenjene na $0,5 \\ \\mathrm{cm}$ zbog slabe vidljivosti pri očitavanju u zatamnjenoj prostoriji."
   ]
  },
  {
   "cell_type": "markdown",
   "metadata": {},
   "source": [
    "<table border=\"1\" class=\"dataframe\">\n",
    "  <thead>\n",
    "    <tr style=\"text-align: right;\">\n",
    "      <th style=\"min-width: 12;\"></th>\n",
    "      <th style=\"min-width: 12;\">$a$ / $\\mathrm{cm}$</th>\n",
    "      <th style=\"min-width: 12;\">$M_a$ / $\\mathrm{cm}$</th>\n",
    "      <th style=\"min-width: 12;\">$b$ / $\\mathrm{cm}$</th>\n",
    "      <th style=\"min-width: 12;\">$M_b$ / $\\mathrm{cm}$</th>\n",
    "    </tr>\n",
    "  </thead>\n",
    "  <tbody>\n",
    "    <tr>\n",
    "      <th style=\"min-width: 12;\"></th>\n",
    "      <td>10,7</td>\n",
    "      <td>0,5</td>\n",
    "      <td>79,7</td>\n",
    "      <td>0,5</td>\n",
    "    </tr>\n",
    "  </tbody>\n",
    "</table>"
   ]
  },
  {
   "cell_type": "markdown",
   "metadata": {},
   "source": [
    "Iz izraza niže može se izračunati fokus leće $f$:"
   ]
  },
  {
   "cell_type": "markdown",
   "metadata": {},
   "source": [
    "$$\n",
    "\\begin{align}\n",
    "\\frac{1}{f} & = \\frac{1}{a}+\\frac{1}{b} \\\\\n",
    "\\overline{f} & = \\frac{ab}{a+b}=9,433517699115043 \\ \\mathrm{cm}\n",
    "\\end{align}\n",
    "$$"
   ]
  },
  {
   "cell_type": "markdown",
   "metadata": {},
   "source": [
    "te se za njega računa pripadna nepouzdanost:"
   ]
  },
  {
   "cell_type": "markdown",
   "metadata": {},
   "source": [
    "$$\n",
    "\\begin{align}\n",
    "M_f & = \\sqrt{ \\left ( \\frac{\\partial f}{\\partial a} M_a \\right )^2 + \\left ( \\frac{\\partial f}{\\partial b} M_b \\right )^2} \\\\\n",
    "M_f & = \\sqrt{ \\left ( \\frac{b^2}{(a+b)^2} M_a \\right )^2 + \\left ( \\frac{a^2}{(a+b)^2} M_b \\right )^2}\\\\\n",
    "M_f & = \\sqrt{ \\left ( \\frac{ab}{(a+b)} \\cdot \\frac{bM_a}{a(a+b)} \\right )^2 + \\left ( \\frac{ab}{(a+b)} \\cdot \\frac{aM_b}{b(a+b)} \\right )^2} \\\\\n",
    "M_f & = \\frac{ab}{(a+b)} \\cdot\n",
    "\\sqrt{ \\left ( \\frac{bM_a}{a(a+b)} \\right )^2 + \\left (  \\frac{aM_b}{b(a+b)} \\right )^2} \\\\\n",
    "M_f &=\\overline{f} \\cdot \\sqrt{ \\left ( \\frac{bM_a}{a(a+b)} \\right )^2 + \\left (  \\frac{aM_b}{b(a+b)} \\right )^2\n",
    "} = 0,3844537679 \\ \\mathrm{cm}\n",
    "\\end{align}\n",
    "$$"
   ]
  },
  {
   "cell_type": "markdown",
   "metadata": {},
   "source": [
    "#### Rezultat:\n",
    "\n",
    "$$ f = (9,4 \\pm 0,4) \\ \\mathrm{cm}$$"
   ]
  },
  {
   "cell_type": "markdown",
   "metadata": {},
   "source": [
    "### Zadatak 2\n",
    "Za leću $f = +5 \\ \\mathrm{cm}$ izračunajte $f$ Besselovom metodom."
   ]
  },
  {
   "cell_type": "markdown",
   "metadata": {},
   "source": [
    "Kod Besselove metode ideja je pronaći 2 položaja konvergentne leće za koje je slika izoštrena. Jedan na kojemu je slika umanjena, te jedan na kojemu je uvećana. Prije se počne tražiti taj položaj potrebno je izmeriti udaljenost predmeta i zastora te fiksirati njihove položaje pri traženju navedenih položaja leće. Pomicanjem leće kao i u prethodnom zadatku izoštrava se slika na ta 2 položaja te se očita udaljenost između njih."
   ]
  },
  {
   "cell_type": "markdown",
   "metadata": {},
   "source": [
    "<table border=\"1\" class=\"dataframe\">\n",
    "  <thead>\n",
    "    <tr style=\"text-align: right;\">\n",
    "      <th style=\"min-width: 12;\"></th>\n",
    "      <th style=\"min-width: 12;\">$d$ / $\\mathrm{cm}$</th>\n",
    "      <th style=\"min-width: 12;\">$M_d$ / $\\mathrm{cm}$</th>\n",
    "      <th style=\"min-width: 12;\">$e$ / $\\mathrm{cm}$</th>\n",
    "      <th style=\"min-width: 12;\">$M_e$ / $\\mathrm{cm}$</th>\n",
    "    </tr>\n",
    "  </thead>\n",
    "  <tbody>\n",
    "    <tr>\n",
    "      <th style=\"min-width: 12;\"></th>\n",
    "      <td>21,3</td>\n",
    "      <td>0,5</td>\n",
    "      <td>5,9</td>\n",
    "      <td>0,5</td>\n",
    "    </tr>\n",
    "  </tbody>\n",
    "</table>"
   ]
  },
  {
   "cell_type": "markdown",
   "metadata": {},
   "source": [
    "Izraz koji se koristi za računanje fokusa Besselovom metodom i njegova pripadna nepouzdanost:"
   ]
  },
  {
   "cell_type": "markdown",
   "metadata": {},
   "source": [
    "$$\n",
    "\\overline{f} = \\frac{d^2-e^2}{4d}= 4,916432 \\ \\mathrm{cm}\n",
    "$$"
   ]
  },
  {
   "cell_type": "markdown",
   "metadata": {},
   "source": [
    "Nepouzdanost:"
   ]
  },
  {
   "cell_type": "markdown",
   "metadata": {},
   "source": [
    "$$\n",
    "\\begin{align}\n",
    "M_f &= \\sqrt{ \\left ( \\frac{\\partial f}{\\partial d} M_d \\right )^2 + \\left ( \\frac{\\partial f}{\\partial e} M_e \\right )^2} \\\\ \n",
    "M_f &= \\sqrt{ \\left (\\frac{d^2+e^2}{4d^2} M_d  \\right )^2 + \\left (\\frac{-e}{2d} M_e \\right )^2} = 0,1513607722 \\ \\mathrm{cm}\n",
    "\\end{align}\n",
    "$$"
   ]
  },
  {
   "cell_type": "markdown",
   "metadata": {},
   "source": [
    "#### Rezultat:\n",
    "\n",
    "$$f = (4,9 \\pm 0,2) \\ \\mathrm{cm} $$"
   ]
  },
  {
   "cell_type": "markdown",
   "metadata": {},
   "source": [
    "### Zadatak 3\n",
    "Postavite projektor za dijapozitive, izračunajte povećanje i procijenite nepouzdanosti."
   ]
  },
  {
   "cell_type": "markdown",
   "metadata": {},
   "source": [
    "Zadatak je identičan prvom i drugome, potrebno je pronaći položaj leće za koji je slika oštra no sada umjesto strelice koristimo dijapozitiv, a umjesto fokusa želi se izračunati povećanje leće. Za ovaj zadatak korištena je leća $f = +10 \\ \\mathrm{cm}$. Na položaju gdje je slika najoštrija dovoljno je očitati samo udaljenost slike od leće $b$, odnosno udaljenost leće od zastora."
   ]
  },
  {
   "cell_type": "markdown",
   "metadata": {},
   "source": [
    "<table border=\"1\" class=\"dataframe\">\n",
    "  <thead>\n",
    "    <tr style=\"text-align: right;\">\n",
    "      <th style=\"min-width: 12;\"></th>\n",
    "      <th style=\"min-width: 12;\">$b$ / $\\mathrm{cm}$</th>\n",
    "      <th style=\"min-width: 12;\">$M_b$ / $\\mathrm{cm}$</th>\n",
    "      <th style=\"min-width: 12;\">$\\overline{\\gamma}$</th>\n",
    "    </tr>\n",
    "  </thead>\n",
    "  <tbody>\n",
    "    <tr>\n",
    "      <th style=\"min-width: 12;\"></th>\n",
    "      <td>25,8</td>\n",
    "      <td>0,5</td>\n",
    "      <td>1,58</td>\n",
    "    </tr>\n",
    "  </tbody>\n",
    "</table>"
   ]
  },
  {
   "cell_type": "markdown",
   "metadata": {},
   "source": [
    "Za računanje povećanja koristi se idući izraz uz njegovu pripadnu nepouzdanost:"
   ]
  },
  {
   "cell_type": "markdown",
   "metadata": {},
   "source": [
    "$$\\overline{\\gamma}=\\frac{b-f}{f}=\\frac{b}{f}-1=1,58$$"
   ]
  },
  {
   "cell_type": "markdown",
   "metadata": {},
   "source": [
    "Nepouzdanost:"
   ]
  },
  {
   "cell_type": "markdown",
   "metadata": {},
   "source": [
    "$$\n",
    "\\begin{align}\n",
    "M_\\gamma & = \\sqrt{ \\left ( \\frac{\\partial \\gamma}{\\partial b} M_b  \\right )^2} \\\\\n",
    "M_\\gamma & = \\sqrt{ \\left ( \\frac{1}{f} M_b \\right )^2}=\\sqrt{ \\left ( \\frac{b-f}{f} \\cdot \\frac{M_b}{b-f} \\right )^2}\\\\\n",
    "M_\\gamma & = \\overline{\\gamma} \\cdot \\sqrt{ \\left (\\frac{M_b}{b-f} \\right )^2} \\\\\n",
    "M_\\gamma & = \\gamma \\cdot \\frac{M_b}{b-f} = 0,049999999999999996\n",
    "\\end{align}\n",
    "$$"
   ]
  },
  {
   "cell_type": "markdown",
   "metadata": {},
   "source": [
    "#### Rezultat:\n",
    "\n",
    "$$\\gamma = (1,58 \\pm 0,05)$$"
   ]
  },
  {
   "cell_type": "markdown",
   "metadata": {},
   "source": [
    "### Zadatak 4\n",
    "Postavite mikroskop, izračunajte povećanje i procijenite nepouzdanosti."
   ]
  },
  {
   "cell_type": "markdown",
   "metadata": {},
   "source": [
    "Za realiziranje mikroskopa koriste se dvije konvergentne leće fokusa $f_1 = +2 \\ \\mathrm{cm}$ i $f_2 = +5 \\ \\mathrm{cm}$ kao što je predloženo u pripremi vježbe. Da bi se odredilo povećanje, mora se izračunati uvećanje obje leće jer njihov umnožak daje ukupno povećanje. Prije samog očitavanja potrebno je bilo namjestiti leće mikroskopa i dobiti oštru sliku buhe koja će biti <b>virtualna, uvećana i obrnuta</b>. Da bi se odredilo povećanje dovoljno je očitati udaljenost slike $b_1$ koju stvara objektiv. Pri određivanju može se pomoći pomicanjem zastora dok se ne pronađe što oštrija slika buhe na zastoru."
   ]
  },
  {
   "cell_type": "markdown",
   "metadata": {},
   "source": [
    "<table border=\"1\" class=\"dataframe\">\n",
    "  <thead>\n",
    "    <tr style=\"text-align: right;\">\n",
    "      <th style=\"min-width: 12;\"></th>\n",
    "      <th style=\"min-width: 12;\">$b_1$ / $\\mathrm{cm}$</th>\n",
    "      <th style=\"min-width: 12;\">$M_{b_1}$ / $\\mathrm{cm}$</th>\n",
    "      <th style=\"min-width: 12;\">$\\overline{\\gamma_1}$</th>\n",
    "      <th style=\"min-width: 12;\">$\\Gamma_2$</th>\n",
    "    </tr>\n",
    "  </thead>\n",
    "  <tbody>\n",
    "    <tr>\n",
    "      <th style=\"min-width: 12;\"></th>\n",
    "      <td>16,5</td>\n",
    "      <td>0,5</td>\n",
    "      <td>7,25</td>\n",
    "      <td>5</td>\n",
    "    </tr>\n",
    "  </tbody>\n",
    "</table>"
   ]
  },
  {
   "cell_type": "markdown",
   "metadata": {},
   "source": [
    "Računi za povećanje leća te na kraju mikroskopa zajedno sa njegovom nepouzdanosti:"
   ]
  },
  {
   "cell_type": "markdown",
   "metadata": {},
   "source": [
    "$$\n",
    "\\gamma_1=\\frac{b_1}{f_1}-1=7,25 \\ , \\ \\Gamma_2=\\frac{25 \\ \\mathrm{cm} }{ f_2}=5,0 \\\\\n",
    "\\gamma=\\gamma_1 \\cdot \\Gamma_2=36,25 \\\\\n",
    "$$"
   ]
  },
  {
   "cell_type": "markdown",
   "metadata": {},
   "source": [
    "Nepouzdanost:"
   ]
  },
  {
   "cell_type": "markdown",
   "metadata": {},
   "source": [
    "$$\n",
    "\\begin{align}\n",
    "M_{\\gamma} & = \\sqrt{ \\left ( \\frac{\\partial \\gamma_m}{\\partial b_1 } M_{b_1} \\right )^2} \\\\\n",
    "M_{\\gamma} & = \\frac{25 \\ \\mathrm{cm} }{f_1 f_2} M_{b_1} = 1,25\n",
    "\\end{align}\n",
    "$$"
   ]
  },
  {
   "cell_type": "markdown",
   "metadata": {},
   "source": [
    "#### Rezultat:\n",
    "\n",
    "$$\\gamma = (36 \\pm 1) $$"
   ]
  },
  {
   "cell_type": "markdown",
   "metadata": {},
   "source": [
    "### Zadatak 5\n",
    "Postavite Keplerov ili Galilejev teleskop. Odredite kakva je slika udaljenog predmeta i što se s njom\n",
    "dogada kada pomičete predmet."
   ]
  },
  {
   "cell_type": "markdown",
   "metadata": {},
   "source": [
    "Za realiziranje Keplerovog teleskopa koristile su se leće fokusa  $f_1 = +30 \\ \\mathrm{cm}$ i $f_2 = +5 \\ \\mathrm{cm}$. Okular se fiksira na neki položaj optičke klupe, a objektiv je potrebno staviti $35 \\ \\mathrm{cm}$ dalje od njega jer im se fokusi moraju poklapati kako bi realna slika objektiva pala na fokus okulara. Nakon što se odabere željeni predmet u daljini koji se želi promatrati, može se lagano pomicati objektiv za izoštravanje slike. Slika će biti <b>obrnuta, uvećana i virtualna </b>\n",
    "\n",
    "Pomicanjem predmeta slika će biti uvijek jednaka jer za udaljeni predmet zrake padaju paralelno na okular bez obzira na promjenu udaljenosti i fokusiraju se u istu točku."
   ]
  }
 ],
 "metadata": {
  "kernelspec": {
   "display_name": "Python 3",
   "language": "python",
   "name": "python3"
  },
  "language_info": {
   "codemirror_mode": {
    "name": "ipython",
    "version": 3
   },
   "file_extension": ".py",
   "mimetype": "text/x-python",
   "name": "python",
   "nbconvert_exporter": "python",
   "pygments_lexer": "ipython3",
   "version": "3.6.5"
  }
 },
 "nbformat": 4,
 "nbformat_minor": 2
}

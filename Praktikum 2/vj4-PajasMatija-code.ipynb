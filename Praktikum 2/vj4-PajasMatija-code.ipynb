{
 "cells": [
  {
   "cell_type": "code",
   "execution_count": 1,
   "metadata": {},
   "outputs": [],
   "source": [
    "from scipy import *\n",
    "import pandas as pd\n",
    "import matplotlib.pyplot as plt\n",
    "import numpy as np\n",
    "from scipy.optimize import curve_fit\n",
    "\n",
    "#from sympy import *\n",
    "#init_printing()\n",
    "\n",
    "from IPython.display import HTML\n",
    "from IPython.display import display"
   ]
  },
  {
   "cell_type": "markdown",
   "metadata": {},
   "source": [
    "### Zadatak 1\n",
    "Pronađite oštru sliku predmeta na zastoru pomoću leće $f = + 10 \\ \\mathrm{cm}$. Izmjerite $a$ i $b$, procijenite nepouzdanosti i izračunajte $f$."
   ]
  },
  {
   "cell_type": "code",
   "execution_count": 79,
   "metadata": {},
   "outputs": [
    {
     "data": {
      "text/html": [
       "<div>\n",
       "<style scoped>\n",
       "    .dataframe tbody tr th:only-of-type {\n",
       "        vertical-align: middle;\n",
       "    }\n",
       "\n",
       "    .dataframe tbody tr th {\n",
       "        vertical-align: top;\n",
       "    }\n",
       "\n",
       "    .dataframe thead th {\n",
       "        text-align: right;\n",
       "    }\n",
       "</style>\n",
       "<table border=\"1\" class=\"dataframe\">\n",
       "  <thead>\n",
       "    <tr style=\"text-align: right;\">\n",
       "      <th></th>\n",
       "      <th>$a$ / $\\mathrm{cm}$</th>\n",
       "      <th>$M_a$ / $\\mathrm{cm}$</th>\n",
       "      <th>$b$ / $\\mathrm{cm}$</th>\n",
       "      <th>$M_b$ / $\\mathrm{cm}$</th>\n",
       "    </tr>\n",
       "  </thead>\n",
       "  <tbody>\n",
       "    <tr>\n",
       "      <th>0</th>\n",
       "      <td>10.7</td>\n",
       "      <td>0.5</td>\n",
       "      <td>79.7</td>\n",
       "      <td>0.5</td>\n",
       "    </tr>\n",
       "  </tbody>\n",
       "</table>\n",
       "</div>"
      ],
      "text/plain": [
       "   $a$ / $\\mathrm{cm}$  $M_a$ / $\\mathrm{cm}$  $b$ / $\\mathrm{cm}$  \\\n",
       "0                 10.7                    0.5                 79.7   \n",
       "\n",
       "   $M_b$ / $\\mathrm{cm}$  \n",
       "0                    0.5  "
      ]
     },
     "execution_count": 79,
     "metadata": {},
     "output_type": "execute_result"
    }
   ],
   "source": [
    "df = pd.DataFrame(data={\"$a$ / $\\mathrm{cm}$\": [10.7], \"$M_a$ / $\\mathrm{cm}$\": [0.5] ,\"$b$ / $\\mathrm{cm}$\": [79.7], \"$M_b$ / $\\mathrm{cm}$\": [0.5]}) #,\"$\\overline{f}$ / $\\mathrm{cm}$\": [9.433517699115043]})#index=range(1,27))\n",
    "#print((79.7*10.7)/(79.7+10.7))\n",
    "#dftohtml = df.to_html(col_space=12,decimal=\",\")\n",
    "#print(dftohtml)\n",
    "df"
   ]
  },
  {
   "cell_type": "markdown",
   "metadata": {},
   "source": [
    "$$\n",
    "\\begin{align}\n",
    "\\frac{1}{f} & = \\frac{1}{a}+\\frac{1}{b} \\\\\n",
    "\\overline{f} & = \\frac{ab}{a+b}=9,433517699115043 \\ \\mathrm{cm}\n",
    "\\end{align}\n",
    "$$"
   ]
  },
  {
   "cell_type": "markdown",
   "metadata": {},
   "source": [
    "$$\n",
    "\\begin{align}\n",
    "M_f & = \\sqrt{ \\left ( \\frac{\\partial f}{\\partial a} M_a \\right )^2 + \\left ( \\frac{\\partial f}{\\partial b} M_b \\right )^2} \\\\\n",
    "M_f & = \\sqrt{ \\left ( \\frac{b^2}{(a+b)^2} M_a \\right )^2 + \\left ( \\frac{a^2}{(a+b)^2} M_b \\right )^2}\\\\\n",
    "M_f & = \\sqrt{ \\left ( \\frac{ab}{(a+b)} \\cdot \\frac{bM_a}{a(a+b)} \\right )^2 + \\left ( \\frac{ab}{(a+b)} \\cdot \\frac{aM_b}{b(a+b)} \\right )^2} \\\\\n",
    "M_f & = \\frac{ab}{(a+b)} \\cdot\n",
    "\\sqrt{ \\left ( \\frac{bM_a}{a(a+b)} \\right )^2 + \\left (  \\frac{aM_b}{b(a+b)} \\right )^2} \\\\\n",
    "M_f &=\\overline{f} \\cdot \\sqrt{ \\left ( \\frac{bM_a}{a(a+b)} \\right )^2 + \\left (  \\frac{aM_b}{b(a+b)} \\right )^2\n",
    "} = 0,3844537679 \\ \\mathrm{cm}\n",
    "\\end{align}\n",
    "$$"
   ]
  },
  {
   "cell_type": "markdown",
   "metadata": {},
   "source": [
    "#### Rezultat:\n",
    "\n",
    "$$ f = (9,4 \\pm 0,4) \\ \\mathrm{cm}$$"
   ]
  },
  {
   "cell_type": "markdown",
   "metadata": {},
   "source": [
    "### Zadatak 2\n",
    "Za leću $f = +5 \\ \\mathrm{cm}$ izračunajte $f$ Besselovom metodom."
   ]
  },
  {
   "cell_type": "code",
   "execution_count": 81,
   "metadata": {},
   "outputs": [
    {
     "name": "stdout",
     "output_type": "stream",
     "text": [
      "4.916431924882629\n"
     ]
    },
    {
     "data": {
      "text/html": [
       "<div>\n",
       "<style scoped>\n",
       "    .dataframe tbody tr th:only-of-type {\n",
       "        vertical-align: middle;\n",
       "    }\n",
       "\n",
       "    .dataframe tbody tr th {\n",
       "        vertical-align: top;\n",
       "    }\n",
       "\n",
       "    .dataframe thead th {\n",
       "        text-align: right;\n",
       "    }\n",
       "</style>\n",
       "<table border=\"1\" class=\"dataframe\">\n",
       "  <thead>\n",
       "    <tr style=\"text-align: right;\">\n",
       "      <th></th>\n",
       "      <th>$d$ / $\\mathrm{cm}$</th>\n",
       "      <th>$M_d$ / $\\mathrm{cm}$</th>\n",
       "      <th>$e$ / $\\mathrm{cm}$</th>\n",
       "      <th>$M_e$ / $\\mathrm{cm}$</th>\n",
       "    </tr>\n",
       "  </thead>\n",
       "  <tbody>\n",
       "    <tr>\n",
       "      <th>0</th>\n",
       "      <td>21.3</td>\n",
       "      <td>0.5</td>\n",
       "      <td>5.9</td>\n",
       "      <td>0.5</td>\n",
       "    </tr>\n",
       "  </tbody>\n",
       "</table>\n",
       "</div>"
      ],
      "text/plain": [
       "   $d$ / $\\mathrm{cm}$  $M_d$ / $\\mathrm{cm}$  $e$ / $\\mathrm{cm}$  \\\n",
       "0                 21.3                    0.5                  5.9   \n",
       "\n",
       "   $M_e$ / $\\mathrm{cm}$  \n",
       "0                    0.5  "
      ]
     },
     "execution_count": 81,
     "metadata": {},
     "output_type": "execute_result"
    }
   ],
   "source": [
    "df = pd.DataFrame(data={\"$d$ / $\\mathrm{cm}$\": [21.3], \"$M_d$ / $\\mathrm{cm}$\": [0.5] ,\"$e$ / $\\mathrm{cm}$\": [5.9], \"$M_e$ / $\\mathrm{cm}$\": [0.5]}) #,\"$\\overline{f}$ / $\\mathrm{cm}$\": [4.916431924882629]})#index=range(1,27))\n",
    "print((21.3**2-5.9**2)/(4*21.3))\n",
    "#dftohtml = df.to_html(col_space=12,decimal=\",\")\n",
    "#print(dftohtml)\n",
    "df"
   ]
  },
  {
   "cell_type": "markdown",
   "metadata": {},
   "source": [
    "$$\n",
    "\\overline{f} = \\frac{d^2-e^2}{4d}= 4,916432 \\ \\mathrm{cm}\n",
    "$$"
   ]
  },
  {
   "cell_type": "markdown",
   "metadata": {},
   "source": [
    "$$\n",
    "\\begin{align}\n",
    "M_f &= \\sqrt{ \\left ( \\frac{\\partial f}{\\partial d} M_d \\right )^2 + \\left ( \\frac{\\partial f}{\\partial e} M_e \\right )^2} \\\\ \n",
    "M_f &= \\sqrt{ \\left (\\frac{d^2+e^2}{4d^2} M_d  \\right )^2 + \\left (\\frac{-e}{2d} M_e \\right )^2} = 0,1513607722 \\ \\mathrm{cm}\n",
    "\\end{align}\n",
    "$$"
   ]
  },
  {
   "cell_type": "markdown",
   "metadata": {},
   "source": [
    "#### Rezultat:\n",
    "\n",
    "$$f = (4,9 \\pm 0,2) \\ \\mathrm{cm} $$"
   ]
  },
  {
   "cell_type": "markdown",
   "metadata": {},
   "source": [
    "### Zadatak 3\n",
    "Postavite projektor za dijapozitive, izračunajte povećanje i procijenite nepouzdanosti."
   ]
  },
  {
   "cell_type": "code",
   "execution_count": 84,
   "metadata": {},
   "outputs": [
    {
     "name": "stdout",
     "output_type": "stream",
     "text": [
      "1.58\n"
     ]
    },
    {
     "data": {
      "text/html": [
       "<div>\n",
       "<style scoped>\n",
       "    .dataframe tbody tr th:only-of-type {\n",
       "        vertical-align: middle;\n",
       "    }\n",
       "\n",
       "    .dataframe tbody tr th {\n",
       "        vertical-align: top;\n",
       "    }\n",
       "\n",
       "    .dataframe thead th {\n",
       "        text-align: right;\n",
       "    }\n",
       "</style>\n",
       "<table border=\"1\" class=\"dataframe\">\n",
       "  <thead>\n",
       "    <tr style=\"text-align: right;\">\n",
       "      <th></th>\n",
       "      <th>$b$ / $\\mathrm{cm}$</th>\n",
       "      <th>$M_b$ / $\\mathrm{cm}$</th>\n",
       "      <th>$\\overline{\\gamma}$</th>\n",
       "    </tr>\n",
       "  </thead>\n",
       "  <tbody>\n",
       "    <tr>\n",
       "      <th>0</th>\n",
       "      <td>25.8</td>\n",
       "      <td>0.5</td>\n",
       "      <td>1.58</td>\n",
       "    </tr>\n",
       "  </tbody>\n",
       "</table>\n",
       "</div>"
      ],
      "text/plain": [
       "   $b$ / $\\mathrm{cm}$  $M_b$ / $\\mathrm{cm}$  $\\overline{\\gamma}$\n",
       "0                 25.8                    0.5                 1.58"
      ]
     },
     "execution_count": 84,
     "metadata": {},
     "output_type": "execute_result"
    }
   ],
   "source": [
    "df = pd.DataFrame(data={\"$b$ / $\\mathrm{cm}$\": [25.8], \"$M_b$ / $\\mathrm{cm}$\": [0.5] ,\"$\\overline{\\gamma}$\": [1.58]})#index=range(1,27))\n",
    "print(25.8/10 - 1)\n",
    "#dftohtml = df.to_html(col_space=12,decimal=\",\")\n",
    "#print(dftohtml)\n",
    "df"
   ]
  },
  {
   "cell_type": "code",
   "execution_count": 48,
   "metadata": {},
   "outputs": [
    {
     "data": {
      "text/plain": [
       "0.049999999999999996"
      ]
     },
     "execution_count": 48,
     "metadata": {},
     "output_type": "execute_result"
    }
   ],
   "source": [
    "(25.8/10 - 1)*(0.5/(25.8-10))"
   ]
  },
  {
   "cell_type": "markdown",
   "metadata": {},
   "source": [
    "f = 10 cm"
   ]
  },
  {
   "cell_type": "markdown",
   "metadata": {},
   "source": [
    "$$\\overline{\\gamma}=\\frac{b-f}{f}=\\frac{b}{f}-1=1,58$$"
   ]
  },
  {
   "cell_type": "markdown",
   "metadata": {},
   "source": [
    "$$\n",
    "\\begin{align}\n",
    "M_\\gamma & = \\sqrt{ \\left ( \\frac{\\partial \\gamma}{\\partial b} M_b  \\right )^2} \\\\\n",
    "M_\\gamma & = \\sqrt{ \\left ( \\frac{1}{f} M_b \\right )^2}=\\sqrt{ \\left ( \\frac{b-f}{f} \\cdot \\frac{M_b}{b-f} \\right )^2}\\\\\n",
    "M_\\gamma & = \\overline{\\gamma} \\cdot \\sqrt{ \\left (\\frac{M_b}{b-f} \\right )^2} \\\\\n",
    "M_\\gamma & = \\gamma \\cdot \\frac{M_b}{b-f} = 0,049999999999999996\n",
    "\\end{align}\n",
    "$$"
   ]
  },
  {
   "cell_type": "markdown",
   "metadata": {},
   "source": [
    "#### Rezultat:\n",
    "\n",
    "$$\\gamma = (1,58 \\pm 0,05)$$"
   ]
  },
  {
   "cell_type": "markdown",
   "metadata": {},
   "source": [
    "### Zadatak 4\n",
    "Postavite mikroskop, izračunajte povećanje i procijenite nepouzdanosti."
   ]
  },
  {
   "cell_type": "code",
   "execution_count": 86,
   "metadata": {},
   "outputs": [
    {
     "name": "stdout",
     "output_type": "stream",
     "text": [
      "7.25\n",
      "36.25\n"
     ]
    },
    {
     "data": {
      "text/html": [
       "<div>\n",
       "<style scoped>\n",
       "    .dataframe tbody tr th:only-of-type {\n",
       "        vertical-align: middle;\n",
       "    }\n",
       "\n",
       "    .dataframe tbody tr th {\n",
       "        vertical-align: top;\n",
       "    }\n",
       "\n",
       "    .dataframe thead th {\n",
       "        text-align: right;\n",
       "    }\n",
       "</style>\n",
       "<table border=\"1\" class=\"dataframe\">\n",
       "  <thead>\n",
       "    <tr style=\"text-align: right;\">\n",
       "      <th></th>\n",
       "      <th>$b_1$ / $\\mathrm{cm}$</th>\n",
       "      <th>$M_{b_1}$ / $\\mathrm{cm}$</th>\n",
       "      <th>$\\overline{\\gamma_1}$</th>\n",
       "      <th>$\\Gamma_2$</th>\n",
       "    </tr>\n",
       "  </thead>\n",
       "  <tbody>\n",
       "    <tr>\n",
       "      <th>0</th>\n",
       "      <td>16.5</td>\n",
       "      <td>0.5</td>\n",
       "      <td>7.25</td>\n",
       "      <td>5</td>\n",
       "    </tr>\n",
       "  </tbody>\n",
       "</table>\n",
       "</div>"
      ],
      "text/plain": [
       "   $b_1$ / $\\mathrm{cm}$  $M_{b_1}$ / $\\mathrm{cm}$  $\\overline{\\gamma_1}$  \\\n",
       "0                   16.5                        0.5                   7.25   \n",
       "\n",
       "   $\\Gamma_2$  \n",
       "0           5  "
      ]
     },
     "execution_count": 86,
     "metadata": {},
     "output_type": "execute_result"
    }
   ],
   "source": [
    "df = pd.DataFrame(data={\"$b_1$ / $\\mathrm{cm}$\": [16.5], \"$M_{b_1}$ / $\\mathrm{cm}$\": [0.5] ,\"$\\overline{\\gamma_1}$\": [7.25], \"$\\Gamma_2$\": [5]})#index=range(1,27))\n",
    "print((16.5/2 - 1))#*(25/5.))\n",
    "print(7.25*5)\n",
    "#dftohtml = df.to_html(col_space=12,decimal=\",\")\n",
    "#print(dftohtml)\n",
    "df"
   ]
  },
  {
   "cell_type": "markdown",
   "metadata": {},
   "source": [
    "$$\n",
    "\\gamma_1=\\frac{b_1}{f_1}-1=7,25 \\ , \\ \\Gamma_2=\\frac{25 \\ \\mathrm{cm} }{ f_2}=5,0 \\\\\n",
    "\\gamma=\\gamma_1 \\cdot \\Gamma_2=36,25 \\\\\n",
    "$$"
   ]
  },
  {
   "cell_type": "markdown",
   "metadata": {},
   "source": [
    "$$\n",
    "\\begin{align}\n",
    "M_{\\gamma} & = \\sqrt{ \\left ( \\frac{\\partial \\gamma_m}{\\partial b_1 } M_{b_1} \\right )^2} \\\\\n",
    "M_{\\gamma} & = \\frac{25 \\ \\mathrm{cm} }{f_1 f_2} M_{b_1} = 1,25\n",
    "\\end{align}\n",
    "$$"
   ]
  },
  {
   "cell_type": "markdown",
   "metadata": {},
   "source": [
    "#### Rezultat:\n",
    "\n",
    "$$\\gamma = (36 \\pm 1) $$"
   ]
  },
  {
   "cell_type": "markdown",
   "metadata": {},
   "source": [
    "### Zadatak 5\n",
    "Postavite Keplerov ili Galilejev teleskop. Odredite kakva je slika udaljenog predmeta i što se s njom\n",
    "dogada kada pomičete predmet."
   ]
  }
 ],
 "metadata": {
  "kernelspec": {
   "display_name": "Python 3",
   "language": "python",
   "name": "python3"
  },
  "language_info": {
   "codemirror_mode": {
    "name": "ipython",
    "version": 3
   },
   "file_extension": ".py",
   "mimetype": "text/x-python",
   "name": "python",
   "nbconvert_exporter": "python",
   "pygments_lexer": "ipython3",
   "version": "3.6.5"
  }
 },
 "nbformat": 4,
 "nbformat_minor": 2
}

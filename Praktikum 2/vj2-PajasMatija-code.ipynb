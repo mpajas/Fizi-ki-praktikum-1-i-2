{
 "cells": [
  {
   "cell_type": "markdown",
   "metadata": {},
   "source": [
    "# <center> FP2–V2. Mjerenje viskoznosti viskozimetrom s padajućom kuglicom\n",
    "## <center> Matija Pajas"
   ]
  },
  {
   "cell_type": "code",
   "execution_count": 1,
   "metadata": {},
   "outputs": [],
   "source": [
    "from scipy import *\n",
    "import pandas as pd\n",
    "import matplotlib.pyplot as plt\n",
    "import numpy as np\n",
    "from scipy.optimize import curve_fit\n",
    "\n",
    "#from sympy import *\n",
    "#init_printing()\n",
    "\n",
    "from IPython.display import HTML\n",
    "from IPython.display import display"
   ]
  },
  {
   "cell_type": "markdown",
   "metadata": {},
   "source": [
    "## Zadatak 1\n",
    "\n",
    "Odredite viskoznost metanola kao funkcije temperature, u koracima od $5 \\ \\mathrm{^\\circ C}$, koristeći se formulom (8).\n",
    "Potrebni podaci su:\n",
    "- gustoća kuglice $\\rho_\\mathrm{k} = 2218 \\ \\mathrm{kg/m^3}$\n",
    "- gustoća metanola $\\rho_\\mathrm{meth} = 792 \\ \\mathrm{kg/m^3}$\n",
    "- konstanta $K = (5,78 \\pm 0,01) \\times 10^{−8} \\ \\mathrm{Pa \\ m^3/kg}$\n",
    "\n",
    "Nacrtajte funkciju $\\eta(T)$ za metanol"
   ]
  },
  {
   "cell_type": "markdown",
   "metadata": {},
   "source": [
    "Za ovaj zadatak bilo je potrebno izvršiti po barem 5 mjerenja na konstantnim temperaturama u razmacima od barem $5 \\ \\mathrm{^\\circ C}$. Mjeri se vrijeme koje je potrebno kuglici koja se nalazi u cijevi sa metanolom da padne za unaprijed određeni razmak označen na instrumentu, viskozmetru, kojemu proizvođač određuje podatke potrebne za izračun viskoznosti prema idućem izrazu:\n",
    "\n",
    "$$\\eta=K(\\rho_\\mathrm{K}-\\rho_\\mathrm{meth})t$$\n",
    "\n",
    "U tablici niže mogu se pronaći mjerenja za 7 različitih temperatura te graf ovisnosti viskoznosti temperature, kao i tablica izračunatih srednjih vrijednosti i nepouzdanosti vremena i viskoznosti. Nepouzdanost viskoznosti izračunata je idućom relacijom:\n",
    "\n",
    "$$M_\\eta=\\sqrt{ \\left ( \\frac{\\partial \\eta}{\\partial K}M_K  \\right )^2+\n",
    "\\left (  \\frac{\\partial \\eta}{\\partial t}M_t  \\right )^2\n",
    "}=\\eta \\cdot \\sqrt{ \\left ( \\frac{M_K}{K}  \\right )^2+\n",
    "\\left (   \\frac{M_t}{t}  \\right )^2}$$"
   ]
  },
  {
   "cell_type": "code",
   "execution_count": 2,
   "metadata": {},
   "outputs": [],
   "source": [
    "K = 5.78*(10**(-8))\n",
    "Mk = 0.01*(10**(-8))\n",
    "rho_kugla = 2218\n",
    "rho_meth = 792\n",
    "\n",
    "def eta(K,rk,rx,t):\n",
    "    return K*(rk-rx)*t\n",
    "\n",
    "def Meta(e,K,t,Mk,Mt):\n",
    "    return e*np.sqrt( (Mk/K)**2 + (Mt/t)**2 )"
   ]
  },
  {
   "cell_type": "code",
   "execution_count": 48,
   "metadata": {},
   "outputs": [],
   "source": [
    "t1 = [13.11, 12.74, 12.34, 12.15, 12.56]\n",
    "t2 = [11.4, 11.25, 11.5, 11.15, 11.48]\n",
    "t3 = [10.83, 10.53, 10.78, 10.67, 10.60]\n",
    "t4 = [10.08, 10.02, 10.34, 9.86, 9.98]\n",
    "t5 = [9.68, 9.59, 9.83, 9.5, 9.53]\n",
    "t6 = [9.21, 8.91, 9.3, 9.43, 9.15]\n",
    "t7 = [9.28, 8.84, 9.00, 8.58, 8.69]\n",
    "T = [23, 28, 33, 38, 44, 50, 55]\n",
    "\n",
    "for i in range(size(T)):\n",
    "    T[i] = T[i] + 273.15\n",
    "\n",
    "d = {\"$t_1$ / $\\mathrm{s}$\": t1,\n",
    "     \"$t_2$ / $\\mathrm{s}$\": t2,\n",
    "     \"$t_3$ / $\\mathrm{s}$\": t3,\n",
    "     \"$t_4$ / $\\mathrm{s}$\": t4,\n",
    "     \"$t_5$ / $\\mathrm{s}$\": t5,\n",
    "     \"$t_6$ / $\\mathrm{s}$\": t6,\n",
    "     \"$t_7$ / $\\mathrm{s}$\": t7}\n",
    "\n",
    "df = pd.DataFrame(data=d,index=range(1,size(t1)+1))\n",
    "df\n",
    "df_T = pd.DataFrame(data=[T], index = [\"T\"], columns=[\"$t_1$ / $\\mathrm{s}$\",\"$t_2$ / $\\mathrm{s}$\",\"$t_3$ / $\\mathrm{s}$\",\n",
    "                                                     \"$t_4$ / $\\mathrm{s}$\",\"$t_5$ / $\\mathrm{s}$\",\"$t_6$ / $\\mathrm{s}$\",\n",
    "                                                     \"$t_7$ / $\\mathrm{s}$\"])\n",
    "df_T\n",
    "df_merged = df.merge(df_T, how=\"outer\")\n",
    "\n",
    "as_list = df_merged.index.tolist()\n",
    "idx = as_list.index(5)\n",
    "as_list[idx] = \"$T$ / $\\mathrm{K}$\"\n",
    "df_merged.index = as_list\n",
    "#df_merged\n",
    "#dftohtml = df_merged.to_html(col_space=12,decimal=\",\")\n",
    "#print(dftohtml)"
   ]
  },
  {
   "cell_type": "markdown",
   "metadata": {},
   "source": [
    "### Tablica podataka\n",
    "<table border=\"1\" class=\"dataframe\">\n",
    "  <thead>\n",
    "    <tr style=\"text-align: right;\">\n",
    "      <th style=\"min-width: 12;\"></th>\n",
    "      <th style=\"min-width: 12;\">$t_1$ / $\\mathrm{s}$</th>\n",
    "      <th style=\"min-width: 12;\">$t_2$ / $\\mathrm{s}$</th>\n",
    "      <th style=\"min-width: 12;\">$t_3$ / $\\mathrm{s}$</th>\n",
    "      <th style=\"min-width: 12;\">$t_4$ / $\\mathrm{s}$</th>\n",
    "      <th style=\"min-width: 12;\">$t_5$ / $\\mathrm{s}$</th>\n",
    "      <th style=\"min-width: 12;\">$t_6$ / $\\mathrm{s}$</th>\n",
    "      <th style=\"min-width: 12;\">$t_7$ / $\\mathrm{s}$</th>\n",
    "    </tr>\n",
    "  </thead>\n",
    "  <tbody>\n",
    "    <tr>\n",
    "      <th style=\"min-width: 12;\">0</th>\n",
    "      <td>13,11</td>\n",
    "      <td>11,40</td>\n",
    "      <td>10,83</td>\n",
    "      <td>10,08</td>\n",
    "      <td>9,68</td>\n",
    "      <td>9,21</td>\n",
    "      <td>9,28</td>\n",
    "    </tr>\n",
    "    <tr>\n",
    "      <th style=\"min-width: 12;\">1</th>\n",
    "      <td>12,74</td>\n",
    "      <td>11,25</td>\n",
    "      <td>10,53</td>\n",
    "      <td>10,02</td>\n",
    "      <td>9,59</td>\n",
    "      <td>8,91</td>\n",
    "      <td>8,84</td>\n",
    "    </tr>\n",
    "    <tr>\n",
    "      <th style=\"min-width: 12;\">2</th>\n",
    "      <td>12,34</td>\n",
    "      <td>11,50</td>\n",
    "      <td>10,78</td>\n",
    "      <td>10,34</td>\n",
    "      <td>9,83</td>\n",
    "      <td>9,30</td>\n",
    "      <td>9,00</td>\n",
    "    </tr>\n",
    "    <tr>\n",
    "      <th style=\"min-width: 12;\">3</th>\n",
    "      <td>12,15</td>\n",
    "      <td>11,15</td>\n",
    "      <td>10,67</td>\n",
    "      <td>9,86</td>\n",
    "      <td>9,50</td>\n",
    "      <td>9,43</td>\n",
    "      <td>8,58</td>\n",
    "    </tr>\n",
    "    <tr>\n",
    "      <th style=\"min-width: 12;\">4</th>\n",
    "      <td>12,56</td>\n",
    "      <td>11,48</td>\n",
    "      <td>10,60</td>\n",
    "      <td>9,98</td>\n",
    "      <td>9,53</td>\n",
    "      <td>9,15</td>\n",
    "      <td>8,69</td>\n",
    "    </tr>\n",
    "    <tr>\n",
    "      <th bgcolor=\"#5D7B9D\" style=\"min-width: 12;\">$T$ / $\\mathrm{K}$</th>\n",
    "      <td bgcolor=\"#5D7B9D\">296,15</td>\n",
    "      <td bgcolor=\"#5D7B9D\">301,15</td>\n",
    "      <td bgcolor=\"#5D7B9D\">306,15</td>\n",
    "      <td bgcolor=\"#5D7B9D\">311,15</td>\n",
    "      <td bgcolor=\"#5D7B9D\">317,15</td>\n",
    "      <td bgcolor=\"#5D7B9D\">323,15</td>\n",
    "      <td bgcolor=\"#5D7B9D\">328,15</td>\n",
    "    </tr>\n",
    "  </tbody>\n",
    "</table>"
   ]
  },
  {
   "cell_type": "code",
   "execution_count": 49,
   "metadata": {},
   "outputs": [
    {
     "name": "stdout",
     "output_type": "stream",
     "text": [
      "5\n"
     ]
    }
   ],
   "source": [
    "means = df.mean(0)\n",
    "devs = df.std(0) \n",
    "uncs = devs/sqrt(df.index.size)\n",
    "print(df.index.size)\n",
    "df2 = pd.DataFrame([(str(means[i]) + \" ± \" + str(uncs[i])) for i in range(len(means))],index=list(means.keys()),columns=[\"Rezultat\"])\n",
    "df2 = pd.DataFrame(data=[[(means[i]) for i in range(len(means))],[(uncs[i]) for i in range(len(uncs))]], index=[\"Srednja vrijednost\",\"Nepouzdanost\"], columns=list(means.keys()))\n",
    "#df2"
   ]
  },
  {
   "cell_type": "code",
   "execution_count": 57,
   "metadata": {},
   "outputs": [
    {
     "data": {
      "image/png": "[encoded data removed]",
      "text/plain": [
       "<Figure size 1008x612 with 1 Axes>"
      ]
     },
     "metadata": {
      "needs_background": "light"
     },
     "output_type": "display_data"
    }
   ],
   "source": [
    "etas = []\n",
    "\n",
    "for i in range(7):\n",
    "    s = \"$t_\" + str(i+1) + \"$ / $\\mathrm{s}$\"\n",
    "    etas.append(eta(K,rho_kugla,rho_meth,df2[s][0]))\n",
    "    \n",
    "#plt.plot(T,etas,color=\"black\")\n",
    "#plt.scatter(T,etas, color=\"red\")\n",
    "#plt\n",
    "#print(etas)\n",
    "\n",
    "K = 5.78*(10**(-8))\n",
    "Mk = 0.01*(10**(-8))\n",
    "rho_kugla = 2218\n",
    "rho_meth = 792\n",
    "\n",
    "Metas = []\n",
    "for i in range(size(etas)):\n",
    "    s = \"$t_\" + str(i+1) + \"$ / $\\mathrm{s}$\"\n",
    "    t = df2[s][0]\n",
    "    Mt = df2[s][1]\n",
    "    Metas.append(Meta(etas[i],K,t,Mk,Mt))\n",
    "    \n",
    "#for x,y in zip(etas,Metas):\n",
    "#    print(x,\"±\",y)\n",
    "\n",
    "plt.figure(figsize=(14,8.5))\n",
    "\n",
    "plt.scatter(T,etas,linewidth=4)\n",
    "plt.plot(T,etas, color=\"black\")\n",
    "plt.grid()\n",
    "plt.xlim(295,330)\n",
    "plt.ylim(0.0007,0.0011)\n",
    "plt.xticks(fontsize=16)\n",
    "plt.yticks(fontsize=16)\n",
    "\n",
    "plt.title(r\"Graf ovisnosti viskoznosti o temperaturi ($T - \\eta$)\", fontsize=22)\n",
    "plt.xlabel(r\"$T$ / $\\mathrm{K}$\",fontsize=22)\n",
    "plt.ylabel(r\"$\\eta$ / $\\mathrm{Pa \\cdot s}$\",fontsize=22);"
   ]
  },
  {
   "cell_type": "code",
   "execution_count": 59,
   "metadata": {},
   "outputs": [],
   "source": [
    "t_sr = [12.580000,11.35600,10.682000,10.056000,9.626000,9.200000,8.878000]\n",
    "Mt = [0.165741,0.06772,0.055444,0.079599,0.059548,0.086487,0.122898]\n",
    "eta_sr = etas\n",
    "etat = Metas\n",
    "\n",
    "d = {\"$\\overline{t}$ / $\\mathrm{s}$\": t_sr,\n",
    "     \"$M_t$ / $\\mathrm{s}$\": Mt,\n",
    "     \"$\\eta$ / $\\mathrm{Pa \\cdot s}$\": eta_sr,\n",
    "     \"$M_\\eta$ / $\\mathrm{Pa \\cdot s}$\": etat}\n",
    "\n",
    "df3 = pd.DataFrame(data=d,index=range(1,size(t_sr)+1))\n",
    "#df3\n",
    "#dftohtml = df3.to_html(col_space=12,decimal=\",\")\n",
    "#print(dftohtml)"
   ]
  },
  {
   "cell_type": "markdown",
   "metadata": {},
   "source": [
    "### Tablica rezultata\n",
    "<table border=\"1\" class=\"dataframe\">\n",
    "  <thead>\n",
    "    <tr style=\"text-align: right;\">\n",
    "      <th style=\"min-width: 12;\"></th>\n",
    "      <th style=\"min-width: 12;\">$\\overline{t}$ / $\\mathrm{s}$</th>\n",
    "      <th style=\"min-width: 12;\">$M_t$ / $\\mathrm{s}$</th>\n",
    "      <th style=\"min-width: 12;\">$\\eta$ / $\\mathrm{Pa \\cdot s}$</th>\n",
    "      <th style=\"min-width: 12;\">$M_\\eta$ / $\\mathrm{Pa \\cdot s}$</th>\n",
    "    </tr>\n",
    "  </thead>\n",
    "  <tbody>\n",
    "    <tr>\n",
    "      <th style=\"min-width: 12;\">1</th>\n",
    "      <td>12,580</td>\n",
    "      <td>0,165741</td>\n",
    "      <td>0,001037</td>\n",
    "      <td>0,000014</td>\n",
    "    </tr>\n",
    "    <tr>\n",
    "      <th style=\"min-width: 12;\">2</th>\n",
    "      <td>11,356</td>\n",
    "      <td>0,067720</td>\n",
    "      <td>0,000936</td>\n",
    "      <td>0,000006</td>\n",
    "    </tr>\n",
    "    <tr>\n",
    "      <th style=\"min-width: 12;\">3</th>\n",
    "      <td>10,682</td>\n",
    "      <td>0,055444</td>\n",
    "      <td>0,000880</td>\n",
    "      <td>0,000005</td>\n",
    "    </tr>\n",
    "    <tr>\n",
    "      <th style=\"min-width: 12;\">4</th>\n",
    "      <td>10,056</td>\n",
    "      <td>0,079599</td>\n",
    "      <td>0,000829</td>\n",
    "      <td>0,000007</td>\n",
    "    </tr>\n",
    "    <tr>\n",
    "      <th style=\"min-width: 12;\">5</th>\n",
    "      <td>9,626</td>\n",
    "      <td>0,059548</td>\n",
    "      <td>0,000793</td>\n",
    "      <td>0,000005</td>\n",
    "    </tr>\n",
    "    <tr>\n",
    "      <th style=\"min-width: 12;\">6</th>\n",
    "      <td>9,200</td>\n",
    "      <td>0,086487</td>\n",
    "      <td>0,000758</td>\n",
    "      <td>0,000007</td>\n",
    "    </tr>\n",
    "    <tr>\n",
    "      <th style=\"min-width: 12;\">7</th>\n",
    "      <td>8,878</td>\n",
    "      <td>0,122898</td>\n",
    "      <td>0,000732</td>\n",
    "      <td>0,000010</td>\n",
    "    </tr>\n",
    "  </tbody>\n",
    "</table>"
   ]
  },
  {
   "cell_type": "markdown",
   "metadata": {},
   "source": [
    "## Rezultati\n",
    "\n",
    "$$\\eta_1 = ( 1,04 \\pm 0,01 ) \\ \\mathrm{mPa \\cdot s}$$\n",
    "\n",
    "$$\\eta_2 = ( 0,936 \\pm 0,006 ) \\ \\mathrm{mPa \\cdot s}$$\n",
    "\n",
    "$$\\eta_3 = ( 0,880 \\pm 0,005 ) \\ \\mathrm{mPa \\cdot s}$$\n",
    "\n",
    "$$\\eta_4 = ( 0,829 \\pm 0,007 ) \\ \\mathrm{mPa \\cdot s}$$\n",
    "\n",
    "$$\\eta_5 = ( 0,793 \\pm 0,005 ) \\ \\mathrm{mPa \\cdot s}$$\n",
    "\n",
    "$$\\eta_6 = ( 0,758 \\pm 0,007 ) \\ \\mathrm{mPa \\cdot s}$$\n",
    "\n",
    "$$\\eta_7 = ( 0,73 \\pm 0,01 ) \\ \\mathrm{mPa \\cdot s}$$\n"
   ]
  },
  {
   "cell_type": "markdown",
   "metadata": {},
   "source": [
    "## Zadatak 2\n",
    "\n",
    "Odredite viskoznost vakuumskog ulja pri sobnoj temperaturi i pri $45 \\ \\mathrm{^\\circ C}$. Potrebni podaci su:\n",
    "- gustoća kuglice $\\rho_\\mathrm{k} = 2218 \\ \\mathrm{kg/m^3}$\n",
    "- gustoća vakuumskog ulja $\\rho_\\mathrm{ulje} = 860 \\ \\mathrm{kg/m^3}$\n",
    "- konstanta $K = (7,79 \\pm 0,03) \\times 10^{−7} \\ \\mathrm{Pa \\ m^3/kg}$"
   ]
  },
  {
   "cell_type": "markdown",
   "metadata": {},
   "source": [
    "Postupak mjerenja identičan je kao u prvom zadatku samo što je u pitanju vakuumsko ulje te različita konstanta $K$ za korištenje relacije $\\eta=K(\\rho_\\mathrm{K}-\\rho_\\mathrm{meth})t$."
   ]
  },
  {
   "cell_type": "code",
   "execution_count": 30,
   "metadata": {},
   "outputs": [],
   "source": [
    "K = 7.79*(10**(-7))\n",
    "rho_kugla = 2218\n",
    "rho_ulje = 860"
   ]
  },
  {
   "cell_type": "code",
   "execution_count": 61,
   "metadata": {},
   "outputs": [],
   "source": [
    "t1 = [58.17, 56.04, 55.37, 58.64, 59.13]\n",
    "t2 = [19.16, 18.96, 16.54, 17.72, 20.34]\n",
    "\n",
    "for i in range(size(t1)):\n",
    "    t1[i] = 2*t1[i]\n",
    "    t2[i] = 2*t2[i]\n",
    "\n",
    "T = [22, 44]\n",
    "\n",
    "for i in range(size(T)):\n",
    "    T[i] = T[i] + 273.15\n",
    "\n",
    "d = {\"$t_1$ / $\\mathrm{s}$\": t1,\n",
    "     \"$t_2$ / $\\mathrm{s}$\": t2}\n",
    "\n",
    "df = pd.DataFrame(data=d,index=range(1,size(t1)+1))\n",
    "df.loc[6] = T\n",
    "\n",
    "as_list = df.index.tolist()\n",
    "idx = as_list.index(6)\n",
    "as_list[idx] = \"$T$ / $\\mathrm{K}$\"\n",
    "df.index = as_list\n",
    "#df\n",
    "#dftohtml = df.to_html(col_space=12,decimal=\",\")\n",
    "#print(dftohtml)"
   ]
  },
  {
   "cell_type": "markdown",
   "metadata": {},
   "source": [
    "## Tablica podataka\n",
    "\n",
    "<table border=\"1\" class=\"dataframe\">\n",
    "  <thead>\n",
    "    <tr style=\"text-align: right;\">\n",
    "      <th style=\"min-width: 12;\"></th>\n",
    "      <th style=\"min-width: 12;\">$t_1$ / $\\mathrm{s}$</th>\n",
    "      <th style=\"min-width: 12;\">$t_2$ / $\\mathrm{s}$</th>\n",
    "    </tr>\n",
    "  </thead>\n",
    "  <tbody>\n",
    "    <tr>\n",
    "      <th style=\"min-width: 12;\">1</th>\n",
    "      <td>116,34</td>\n",
    "      <td>38,32</td>\n",
    "    </tr>\n",
    "    <tr>\n",
    "      <th style=\"min-width: 12;\">2</th>\n",
    "      <td>112,08</td>\n",
    "      <td>37,92</td>\n",
    "    </tr>\n",
    "    <tr>\n",
    "      <th style=\"min-width: 12;\">3</th>\n",
    "      <td>110,74</td>\n",
    "      <td>33,08</td>\n",
    "    </tr>\n",
    "    <tr>\n",
    "      <th style=\"min-width: 12;\">4</th>\n",
    "      <td>117,28</td>\n",
    "      <td>35,44</td>\n",
    "    </tr>\n",
    "    <tr>\n",
    "      <th style=\"min-width: 12;\">5</th>\n",
    "      <td>118,26</td>\n",
    "      <td>40,68</td>\n",
    "    </tr>\n",
    "    <tr>\n",
    "      <th bgcolor=\"#5D7B9D\" style=\"min-width: 12;\">$T$ / $\\mathrm{K}$</th>\n",
    "      <td bgcolor=\"#5D7B9D\">295,15</td>\n",
    "      <td bgcolor=\"#5D7B9D\">317,15</td>\n",
    "    </tr>\n",
    "  </tbody>\n",
    "</table>"
   ]
  },
  {
   "cell_type": "markdown",
   "metadata": {},
   "source": [
    "bgcolor=\"#5D7B9D\""
   ]
  },
  {
   "cell_type": "code",
   "execution_count": 63,
   "metadata": {},
   "outputs": [
    {
     "name": "stdout",
     "output_type": "stream",
     "text": [
      "6\n"
     ]
    },
    {
     "data": {
      "text/html": [
       "<div>\n",
       "<style scoped>\n",
       "    .dataframe tbody tr th:only-of-type {\n",
       "        vertical-align: middle;\n",
       "    }\n",
       "\n",
       "    .dataframe tbody tr th {\n",
       "        vertical-align: top;\n",
       "    }\n",
       "\n",
       "    .dataframe thead th {\n",
       "        text-align: right;\n",
       "    }\n",
       "</style>\n",
       "<table border=\"1\" class=\"dataframe\">\n",
       "  <thead>\n",
       "    <tr style=\"text-align: right;\">\n",
       "      <th></th>\n",
       "      <th>$t_1$ / $\\mathrm{s}$</th>\n",
       "      <th>$t_2$ / $\\mathrm{s}$</th>\n",
       "    </tr>\n",
       "  </thead>\n",
       "  <tbody>\n",
       "    <tr>\n",
       "      <th>Srednja vrijednost</th>\n",
       "      <td>144.97500</td>\n",
       "      <td>83.7650</td>\n",
       "    </tr>\n",
       "    <tr>\n",
       "      <th>Nepouzdanost</th>\n",
       "      <td>30.05956</td>\n",
       "      <td>46.6891</td>\n",
       "    </tr>\n",
       "  </tbody>\n",
       "</table>\n",
       "</div>"
      ],
      "text/plain": [
       "                    $t_1$ / $\\mathrm{s}$  $t_2$ / $\\mathrm{s}$\n",
       "Srednja vrijednost             144.97500               83.7650\n",
       "Nepouzdanost                    30.05956               46.6891"
      ]
     },
     "execution_count": 63,
     "metadata": {},
     "output_type": "execute_result"
    }
   ],
   "source": [
    "means = df.mean(0)\n",
    "devs = df.std(0) \n",
    "uncs = devs/sqrt(df.index.size)\n",
    "print(df.index.size)\n",
    "df2 = pd.DataFrame([(str(means[i]) + \" ± \" + str(uncs[i])) for i in range(len(means))],index=list(means.keys()),columns=[\"Rezultat\"])\n",
    "df2 = pd.DataFrame(data=[[(means[i]) for i in range(len(means))],[(uncs[i]) for i in range(len(uncs))]], index=[\"Srednja vrijednost\",\"Nepouzdanost\"], columns=list(means.keys()))\n",
    "df2"
   ]
  },
  {
   "cell_type": "code",
   "execution_count": 64,
   "metadata": {},
   "outputs": [
    {
     "name": "stdout",
     "output_type": "stream",
     "text": [
      "0.01137943569 ± 0.002359853945148187\n",
      "0.0065749158860000005 ± 0.003664827001381684\n"
     ]
    }
   ],
   "source": [
    "etas = []\n",
    "\n",
    "for i in range(2):\n",
    "    s = \"$t_\" + str(i+1) + \"$ / $\\mathrm{s}$\"\n",
    "    etas.append(eta(K,rho_kugla,rho_ulje,df2[s][0]))\n",
    "    \n",
    "#plt.plot(T,etas,color=\"black\")\n",
    "#plt.scatter(T,etas, color=\"red\")\n",
    "#print(etas)\n",
    "\n",
    "K = 7.79*(10**(-7))\n",
    "Mk = 0.03*(10**(-7))\n",
    "rho_kugla = 2218\n",
    "rho_ulje = 860\n",
    "\n",
    "\n",
    "Metas = []\n",
    "for i in range(size(etas)):\n",
    "    s = \"$t_\" + str(i+1) + \"$ / $\\mathrm{s}$\"\n",
    "    t = df2[s][0]\n",
    "    Mt = df2[s][1]\n",
    "    Metas.append(Meta(etas[i],K,t,Mk,Mt))\n",
    "    \n",
    "for x,y in zip(etas,Metas):\n",
    "    print(x,\"±\",y)"
   ]
  },
  {
   "cell_type": "code",
   "execution_count": 67,
   "metadata": {},
   "outputs": [],
   "source": [
    "t_sr = [114.940000, 37.088000]\n",
    "Mt = [1.487911, 1.301777]\n",
    "eta_sr = etas\n",
    "etat = Metas\n",
    "\n",
    "d = {\"$\\overline{t}$ / $\\mathrm{s}$\": t_sr,\n",
    "     \"$M_t$ / $\\mathrm{s}$\": Mt,\n",
    "     \"$\\eta$ / $\\mathrm{Pa \\cdot s}$\": eta_sr,\n",
    "     \"$M_\\eta$ / $\\mathrm{Pa \\cdot s}$\": etat}\n",
    "\n",
    "df3 = pd.DataFrame(data=d,index=range(1,size(t_sr)+1))\n",
    "#df3\n",
    "#dftohtml = df3.to_html(col_space=12,decimal=\",\")\n",
    "#print(dftohtml)"
   ]
  },
  {
   "cell_type": "markdown",
   "metadata": {},
   "source": [
    "## Tablica rezultata\n",
    "<table border=\"1\" class=\"dataframe\">\n",
    "  <thead>\n",
    "    <tr style=\"text-align: right;\">\n",
    "      <th style=\"min-width: 12;\"></th>\n",
    "      <th style=\"min-width: 12;\">$\\overline{t}$ / $\\mathrm{s}$</th>\n",
    "      <th style=\"min-width: 12;\">$M_t$ / $\\mathrm{s}$</th>\n",
    "      <th style=\"min-width: 12;\">$\\eta$ / $\\mathrm{Pa \\cdot s}$</th>\n",
    "      <th style=\"min-width: 12;\">$M_\\eta$ / $\\mathrm{Pa \\cdot s}$</th>\n",
    "    </tr>\n",
    "  </thead>\n",
    "  <tbody>\n",
    "    <tr>\n",
    "      <th style=\"min-width: 12;\">1</th>\n",
    "      <td>114,940</td>\n",
    "      <td>1,487911</td>\n",
    "      <td>0,011379</td>\n",
    "      <td>0,002360</td>\n",
    "    </tr>\n",
    "    <tr>\n",
    "      <th style=\"min-width: 12;\">2</th>\n",
    "      <td>37,088</td>\n",
    "      <td>1,301777</td>\n",
    "      <td>0,006575</td>\n",
    "      <td>0,003665</td>\n",
    "    </tr>\n",
    "  </tbody>\n",
    "</table>"
   ]
  },
  {
   "cell_type": "markdown",
   "metadata": {},
   "source": [
    "## Rezultati\n",
    "\n",
    "$$\\eta_1 = ( 121,593 \\pm 2 ) \\ \\mathrm{mPa \\cdot s}$$\n",
    "\n",
    "$$\\eta_2 = ( 39,235 \\pm 1 ) \\ \\mathrm{mPa \\cdot s}$$"
   ]
  },
  {
   "cell_type": "markdown",
   "metadata": {},
   "source": [
    "## Zadatak 3\n",
    "\n",
    "Prikažite rezultate za metanol u grafu $\\frac{1}{T} − \\log\\eta$ i provjerite valjanost relacije (2). Potrebno je upotrebljavati skalu apsolutne temperature. Odredite aktivacijsku energiju $\\mu$ za metanol."
   ]
  },
  {
   "cell_type": "markdown",
   "metadata": {},
   "source": [
    "Kako bi se odredila aktivacijska energija $\\mu$ potrebno je linearizirati idući izraz:\n",
    "\n",
    "$$\\eta(T)=Ae^{\\frac{B}{T}}$$\n",
    "\n",
    "koji će nakon toga izgledati ovako\n",
    "\n",
    "$$\\ln(\\eta)=B \\left ( \\frac{1}{T} \\right )+ \\ln(A)$$\n",
    "\n",
    "Taj izraz prepoznajemo kao jednadžbu pravca $y = ax + b$ te pripadne veličine:\n",
    "$$y = \\ln(\\eta)$$\n",
    "\n",
    "$$x = \\frac{1}{T}$$\n",
    "\n",
    "$$a = B$$\n",
    "\n",
    "$$b = \\ln(A)$$\n",
    "\n",
    "Nepouzdanost od $B$ biti će upravo jednaka parametru a:\n",
    "\n",
    "$$B=a \\\\\n",
    "M_{B}=\\sqrt{\\left ( \\frac{\\partial B}{\\partial a} M_{a}\\right )^2}=\n",
    "\\sqrt{\\left ( M_{a}\\right )^2}=\\left | M_{a} \\right |$$\n",
    "\n",
    "te kako bi se izračunala aktivacijka energija $\\mu=k_\\mathrm{B}B$ potrebno je pronaći i nepouzdanost ovisnih veličina:\n",
    "\n",
    "$$M_\\mu=\\sqrt{ \\left ( \\frac{\\partial \\mu}{\\partial B} M_B \\right )^2\n",
    "}= \\mu \\cdot \\frac{M_B}{B}$$\n",
    "\n",
    "Sada su svi potrebni izrazi spremni te možemo krenuti sa MNK.\n",
    "\n",
    "Transformirani podaci nad kojima se provodi MNK su u tablici niže kao i vizualni prikaz."
   ]
  },
  {
   "cell_type": "code",
   "execution_count": 69,
   "metadata": {},
   "outputs": [],
   "source": [
    "Y = [0.0010368788240000002, 0.0009359933168000001, \n",
    "     0.0008804403496000001, 0.0008288436768000002, \n",
    "     0.0007934018728000001, 0.00075828976, 0.0007317496183999999]\n",
    "\n",
    "for i in range(size(Y)):\n",
    "    Y[i] = log(Y[i])\n",
    "T = [296.15, 301.15, 306.15, 311.15, 317.15, 323.15, 328.15]\n",
    "\n",
    "for i in range(size(T)):\n",
    "    T[i] = 1/T[i]"
   ]
  },
  {
   "cell_type": "code",
   "execution_count": 73,
   "metadata": {},
   "outputs": [],
   "source": [
    "d = {\"$1/T$ / $\\mathrm{K^{-1}}$\": T,\n",
    "     \"$\\ln(\\eta)$\": Y}\n",
    "\n",
    "df = pd.DataFrame(data=d,index=range(1,size(T)+1))\n",
    "#df\n",
    "#dftohtml = df.to_html(col_space=12,decimal=\",\")\n",
    "#print(dftohtml)"
   ]
  },
  {
   "cell_type": "markdown",
   "metadata": {},
   "source": [
    "## Tablica prilagođenih podataka za MNK\n",
    "<table border=\"1\" class=\"dataframe\">\n",
    "  <thead>\n",
    "    <tr style=\"text-align: right;\">\n",
    "      <th style=\"min-width: 12;\"></th>\n",
    "      <th style=\"min-width: 12;\">$1/T$ / $\\mathrm{K^{-1}}$</th>\n",
    "      <th style=\"min-width: 12;\">$\\ln(\\eta)$</th>\n",
    "    </tr>\n",
    "  </thead>\n",
    "  <tbody>\n",
    "    <tr>\n",
    "      <th style=\"min-width: 12;\">1</th>\n",
    "      <td>0,003377</td>\n",
    "      <td>-6,871540</td>\n",
    "    </tr>\n",
    "    <tr>\n",
    "      <th style=\"min-width: 12;\">2</th>\n",
    "      <td>0,003321</td>\n",
    "      <td>-6,973902</td>\n",
    "    </tr>\n",
    "    <tr>\n",
    "      <th style=\"min-width: 12;\">3</th>\n",
    "      <td>0,003266</td>\n",
    "      <td>-7,035088</td>\n",
    "    </tr>\n",
    "    <tr>\n",
    "      <th style=\"min-width: 12;\">4</th>\n",
    "      <td>0,003214</td>\n",
    "      <td>-7,095479</td>\n",
    "    </tr>\n",
    "    <tr>\n",
    "      <th style=\"min-width: 12;\">5</th>\n",
    "      <td>0,003153</td>\n",
    "      <td>-7,139181</td>\n",
    "    </tr>\n",
    "    <tr>\n",
    "      <th style=\"min-width: 12;\">6</th>\n",
    "      <td>0,003095</td>\n",
    "      <td>-7,184445</td>\n",
    "    </tr>\n",
    "    <tr>\n",
    "      <th style=\"min-width: 12;\">7</th>\n",
    "      <td>0,003047</td>\n",
    "      <td>-7,220072</td>\n",
    "    </tr>\n",
    "  </tbody>\n",
    "</table>"
   ]
  },
  {
   "cell_type": "code",
   "execution_count": 76,
   "metadata": {},
   "outputs": [
    {
     "name": "stdout",
     "output_type": "stream",
     "text": [
      "a = 1010.7093963508239 ± 79.05631475956311\n",
      "b = -10.318987185893898 ± 0.25395101276234794\n"
     ]
    },
    {
     "data": {
      "text/plain": [
       "'\\nplt.figure(figsize=(14,8.5))\\nplt.scatter(T,Y,linewidth=4)\\nplt.grid()\\nplt.plot(x_fit,y_fit,color=\"red\",linestyle=\"--\")\\nplt.xlim(0.003,0.0034)\\nplt.ylim(-7.35,-6.8)\\nplt.xticks(fontsize=16)\\nplt.yticks(fontsize=16)\\n\\nplt.title(r\"Graf ovisnosti $1/T - \\\\ln(\\\\eta)$\", fontsize=22)\\nplt.xlabel(r\"$1/T$ / $\\\\mathrm{K^{-1}}$\",fontsize=22)\\nplt.ylabel(r\"$\\\\ln(\\\\eta)$\",fontsize=22);'"
      ]
     },
     "execution_count": 76,
     "metadata": {},
     "output_type": "execute_result"
    }
   ],
   "source": [
    "pars,cov=curve_fit(lambda x,a,b: a*x+b ,T,Y)\n",
    "\n",
    "a=pars[0]\n",
    "b=pars[1]\n",
    "\n",
    "x_fit=linspace(0.002,0.004)\n",
    "y_fit=a*x_fit+b\n",
    "\n",
    "print(\"a =\", pars[0],\"±\", sqrt(cov[0,0]))\n",
    "print(\"b =\",pars[1],\"±\", sqrt(cov[1,1]));\n",
    "\"\"\"\n",
    "plt.figure(figsize=(14,8.5))\n",
    "plt.scatter(T,Y,linewidth=4)\n",
    "plt.grid()\n",
    "plt.plot(x_fit,y_fit,color=\"red\",linestyle=\"--\")\n",
    "plt.xlim(0.003,0.0034)\n",
    "plt.ylim(-7.35,-6.8)\n",
    "plt.xticks(fontsize=16)\n",
    "plt.yticks(fontsize=16)\n",
    "\n",
    "plt.title(r\"Graf ovisnosti $1/T - \\ln(\\eta)$\", fontsize=22)\n",
    "plt.xlabel(r\"$1/T$ / $\\mathrm{K^{-1}}$\",fontsize=22)\n",
    "plt.ylabel(r\"$\\ln(\\eta)$\",fontsize=22);\"\"\""
   ]
  },
  {
   "cell_type": "markdown",
   "metadata": {},
   "source": [
    "<img src=\"data:image/png;base64,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\" />"
   ]
  },
  {
   "cell_type": "markdown",
   "metadata": {},
   "source": [
    "## Rezultati MNK\n",
    "\n",
    "$a = 1010.7093963508239 ± 79.05631475956311$\n",
    "\n",
    "$b = -10.318987185893898 ± 0.25395101276234794$\n",
    "\n",
    "$$a = 1010 ± 79$$\n",
    "\n",
    "$$b = -10.3 ± 0.3$$"
   ]
  },
  {
   "cell_type": "code",
   "execution_count": 25,
   "metadata": {},
   "outputs": [
    {
     "name": "stdout",
     "output_type": "stream",
     "text": [
      "1.3957896763604878e-20\n",
      "1.0917677068295665e-21\n"
     ]
    }
   ],
   "source": [
    "kb = 1.381*(10**(-23))\n",
    "B = a\n",
    "mu = kb*B\n",
    "print(mu)\n",
    "Mut = mu*(sqrt(cov[0,0])/B)\n",
    "print(Mut)"
   ]
  },
  {
   "cell_type": "markdown",
   "metadata": {},
   "source": [
    "## Rezultat\n",
    "\n",
    "$\\mu = (1,3957896763604878 \\pm 0,10917677068295665) \\times 10^{-20} \\ \\mathrm{J}$\n",
    "\n",
    "$$\\mu = (1,4 \\pm 0,1) \\times 10^{-20} \\ \\mathrm{J}$$"
   ]
  }
 ],
 "metadata": {
  "kernelspec": {
   "display_name": "Python 3",
   "language": "python",
   "name": "python3"
  },
  "language_info": {
   "codemirror_mode": {
    "name": "ipython",
    "version": 3
   },
   "file_extension": ".py",
   "mimetype": "text/x-python",
   "name": "python",
   "nbconvert_exporter": "python",
   "pygments_lexer": "ipython3",
   "version": "3.6.5"
  }
 },
 "nbformat": 4,
 "nbformat_minor": 2
}

{
 "cells": [
  {
   "cell_type": "markdown",
   "metadata": {},
   "source": [
    "# <center> FP2–V2. Mjerenje viskoznosti viskozimetrom s padajućom kuglicom\n",
    "## <center> Matija Pajas"
   ]
  },
  {
   "cell_type": "code",
   "execution_count": 2,
   "metadata": {},
   "outputs": [],
   "source": [
    "from scipy import *\n",
    "import pandas as pd\n",
    "import matplotlib.pyplot as plt\n",
    "import numpy as np\n",
    "from scipy.optimize import curve_fit\n",
    "\n",
    "#from sympy import *\n",
    "#init_printing()\n",
    "\n",
    "from IPython.display import HTML\n",
    "from IPython.display import display"
   ]
  },
  {
   "cell_type": "markdown",
   "metadata": {},
   "source": [
    "## Zadatak 1\n",
    "\n",
    "Odredite viskoznost metanola kao funkcije temperature, u koracima od $5 \\ \\mathrm{^\\circ C}$, koristeći se formulom (8).\n",
    "Potrebni podaci su:\n",
    "- gustoća kuglice $\\rho_\\mathrm{k} = 2218 \\ \\mathrm{kg/m^3}$\n",
    "- gustoća metanola $\\rho_\\mathrm{meth} = 792 \\ \\mathrm{kg/m^3}$\n",
    "- konstanta $K = (5,78 \\pm 0,01) \\times 10^{−8} \\ \\mathrm{Pa \\ m^3/kg}$\n",
    "\n",
    "Nacrtajte funkciju $\\eta(T)$ za metanol"
   ]
  },
  {
   "cell_type": "code",
   "execution_count": 137,
   "metadata": {},
   "outputs": [],
   "source": [
    "K = 5.78*(10**(-8))\n",
    "Mk = 0.01*(10**(-8))\n",
    "rho_kugla = 2218\n",
    "rho_meth = 792\n",
    "\n",
    "def eta(K,rk,rx,t):\n",
    "    return K*(rk-rx)*t\n",
    "\n",
    "def Meta(e,K,t,Mk,Mt):\n",
    "    return e*np.sqrt( (Mk/K)**2 + (Mt/t)**2 )"
   ]
  },
  {
   "cell_type": "code",
   "execution_count": 164,
   "metadata": {},
   "outputs": [
    {
     "data": {
      "text/html": [
       "<div>\n",
       "<style scoped>\n",
       "    .dataframe tbody tr th:only-of-type {\n",
       "        vertical-align: middle;\n",
       "    }\n",
       "\n",
       "    .dataframe tbody tr th {\n",
       "        vertical-align: top;\n",
       "    }\n",
       "\n",
       "    .dataframe thead th {\n",
       "        text-align: right;\n",
       "    }\n",
       "</style>\n",
       "<table border=\"1\" class=\"dataframe\">\n",
       "  <thead>\n",
       "    <tr style=\"text-align: right;\">\n",
       "      <th></th>\n",
       "      <th>t1</th>\n",
       "      <th>t2</th>\n",
       "      <th>t3</th>\n",
       "      <th>t4</th>\n",
       "      <th>t5</th>\n",
       "      <th>t6</th>\n",
       "      <th>t7</th>\n",
       "    </tr>\n",
       "  </thead>\n",
       "  <tbody>\n",
       "    <tr>\n",
       "      <th>1</th>\n",
       "      <td>13.11</td>\n",
       "      <td>11.40</td>\n",
       "      <td>10.83</td>\n",
       "      <td>10.08</td>\n",
       "      <td>9.68</td>\n",
       "      <td>9.21</td>\n",
       "      <td>9.28</td>\n",
       "    </tr>\n",
       "    <tr>\n",
       "      <th>2</th>\n",
       "      <td>12.74</td>\n",
       "      <td>11.25</td>\n",
       "      <td>10.53</td>\n",
       "      <td>10.02</td>\n",
       "      <td>9.59</td>\n",
       "      <td>8.91</td>\n",
       "      <td>8.84</td>\n",
       "    </tr>\n",
       "    <tr>\n",
       "      <th>3</th>\n",
       "      <td>12.34</td>\n",
       "      <td>11.50</td>\n",
       "      <td>10.78</td>\n",
       "      <td>10.34</td>\n",
       "      <td>9.83</td>\n",
       "      <td>9.30</td>\n",
       "      <td>9.00</td>\n",
       "    </tr>\n",
       "    <tr>\n",
       "      <th>4</th>\n",
       "      <td>12.15</td>\n",
       "      <td>11.15</td>\n",
       "      <td>10.67</td>\n",
       "      <td>9.86</td>\n",
       "      <td>9.50</td>\n",
       "      <td>9.43</td>\n",
       "      <td>8.58</td>\n",
       "    </tr>\n",
       "    <tr>\n",
       "      <th>5</th>\n",
       "      <td>12.56</td>\n",
       "      <td>11.48</td>\n",
       "      <td>10.60</td>\n",
       "      <td>9.98</td>\n",
       "      <td>9.53</td>\n",
       "      <td>9.15</td>\n",
       "      <td>8.69</td>\n",
       "    </tr>\n",
       "  </tbody>\n",
       "</table>\n",
       "</div>"
      ],
      "text/plain": [
       "      t1     t2     t3     t4    t5    t6    t7\n",
       "1  13.11  11.40  10.83  10.08  9.68  9.21  9.28\n",
       "2  12.74  11.25  10.53  10.02  9.59  8.91  8.84\n",
       "3  12.34  11.50  10.78  10.34  9.83  9.30  9.00\n",
       "4  12.15  11.15  10.67   9.86  9.50  9.43  8.58\n",
       "5  12.56  11.48  10.60   9.98  9.53  9.15  8.69"
      ]
     },
     "execution_count": 164,
     "metadata": {},
     "output_type": "execute_result"
    }
   ],
   "source": [
    "t1 = [13.11, 12.74, 12.34, 12.15, 12.56]\n",
    "t2 = [11.4, 11.25, 11.5, 11.15, 11.48]\n",
    "t3 = [10.83, 10.53, 10.78, 10.67, 10.60]\n",
    "t4 = [10.08, 10.02, 10.34, 9.86, 9.98]\n",
    "t5 = [9.68, 9.59, 9.83, 9.5, 9.53]\n",
    "t6 = [9.21, 8.91, 9.3, 9.43, 9.15]\n",
    "t7 = [9.28, 8.84, 9.00, 8.58, 8.69]\n",
    "T = [23, 28, 33, 38, 44, 50, 55]\n",
    "\n",
    "for i in range(size(T)):\n",
    "    T[i] = T[i] + 273.15\n",
    "\n",
    "d = {\"t1\": t1,\n",
    "     \"t2\": t2,\n",
    "     \"t3\": t3,\n",
    "     \"t4\": t4,\n",
    "     \"t5\": t5,\n",
    "     \"t6\": t6,\n",
    "     \"t7\": t7}\n",
    "\n",
    "df = pd.DataFrame(data=d,index=range(1,size(t1)+1))\n",
    "df"
   ]
  },
  {
   "cell_type": "code",
   "execution_count": 157,
   "metadata": {},
   "outputs": [
    {
     "name": "stdout",
     "output_type": "stream",
     "text": [
      "5\n"
     ]
    },
    {
     "data": {
      "text/html": [
       "<div>\n",
       "<style scoped>\n",
       "    .dataframe tbody tr th:only-of-type {\n",
       "        vertical-align: middle;\n",
       "    }\n",
       "\n",
       "    .dataframe tbody tr th {\n",
       "        vertical-align: top;\n",
       "    }\n",
       "\n",
       "    .dataframe thead th {\n",
       "        text-align: right;\n",
       "    }\n",
       "</style>\n",
       "<table border=\"1\" class=\"dataframe\">\n",
       "  <thead>\n",
       "    <tr style=\"text-align: right;\">\n",
       "      <th></th>\n",
       "      <th>t1</th>\n",
       "      <th>t2</th>\n",
       "      <th>t3</th>\n",
       "      <th>t4</th>\n",
       "      <th>t5</th>\n",
       "      <th>t6</th>\n",
       "      <th>t7</th>\n",
       "    </tr>\n",
       "  </thead>\n",
       "  <tbody>\n",
       "    <tr>\n",
       "      <th>Srednja vrijednost</th>\n",
       "      <td>12.580000</td>\n",
       "      <td>11.35600</td>\n",
       "      <td>10.682000</td>\n",
       "      <td>10.056000</td>\n",
       "      <td>9.626000</td>\n",
       "      <td>9.200000</td>\n",
       "      <td>8.878000</td>\n",
       "    </tr>\n",
       "    <tr>\n",
       "      <th>Nepouzdanost</th>\n",
       "      <td>0.165741</td>\n",
       "      <td>0.06772</td>\n",
       "      <td>0.055444</td>\n",
       "      <td>0.079599</td>\n",
       "      <td>0.059548</td>\n",
       "      <td>0.086487</td>\n",
       "      <td>0.122898</td>\n",
       "    </tr>\n",
       "  </tbody>\n",
       "</table>\n",
       "</div>"
      ],
      "text/plain": [
       "                           t1        t2         t3         t4        t5  \\\n",
       "Srednja vrijednost  12.580000  11.35600  10.682000  10.056000  9.626000   \n",
       "Nepouzdanost         0.165741   0.06772   0.055444   0.079599  0.059548   \n",
       "\n",
       "                          t6        t7  \n",
       "Srednja vrijednost  9.200000  8.878000  \n",
       "Nepouzdanost        0.086487  0.122898  "
      ]
     },
     "execution_count": 157,
     "metadata": {},
     "output_type": "execute_result"
    }
   ],
   "source": [
    "means = df.mean(0)\n",
    "devs = df.std(0) \n",
    "uncs = devs/sqrt(df.index.size)\n",
    "print(df.index.size)\n",
    "df2 = pd.DataFrame([(str(means[i]) + \" ± \" + str(uncs[i])) for i in range(len(means))],index=list(means.keys()),columns=[\"Rezultat\"])\n",
    "df2 = pd.DataFrame(data=[[(means[i]) for i in range(len(means))],[(uncs[i]) for i in range(len(uncs))]], index=[\"Srednja vrijednost\",\"Nepouzdanost\"], columns=list(means.keys()))\n",
    "df2"
   ]
  },
  {
   "cell_type": "code",
   "execution_count": 160,
   "metadata": {},
   "outputs": [
    {
     "name": "stdout",
     "output_type": "stream",
     "text": [
      "0.0010368788240000002 ± 1.3778100169082404e-05\n",
      "0.0009359933168000001 ± 5.811834332660352e-06\n",
      "0.0008804403496000001 ± 4.81700887687146e-06\n",
      "0.0008288436768000002 ± 6.715656668900937e-06\n",
      "0.0007934018728000001 ± 5.096472409979519e-06\n",
      "0.00075828976 ± 7.248216913559028e-06\n",
      "0.0007317496183999999 ± 1.0208430748897259e-05\n"
     ]
    },
    {
     "data": {
      "image/png": "[encoded data removed]",
      "text/plain": [
       "<Figure size 432x288 with 1 Axes>"
      ]
     },
     "metadata": {
      "needs_background": "light"
     },
     "output_type": "display_data"
    }
   ],
   "source": [
    "etas = []\n",
    "\n",
    "for i in range(7):\n",
    "    s = \"t\" + str(i+1)\n",
    "    etas.append(eta(K,rho_kugla,rho_meth,df2[s][0]))\n",
    "    \n",
    "plt.plot(T,etas,color=\"black\")\n",
    "plt.scatter(T,etas, color=\"red\")\n",
    "#print(etas)\n",
    "\n",
    "K = 5.78*(10**(-8))\n",
    "Mk = 0.01*(10**(-8))\n",
    "rho_kugla = 2218\n",
    "rho_meth = 792\n",
    "\n",
    "Metas = []\n",
    "for i in range(size(etas)):\n",
    "    s = \"t\" + str(i+1)\n",
    "    t = df2[s][0]\n",
    "    Mt = df2[s][1]\n",
    "    Metas.append(Meta(etas[i],K,t,Mk,Mt))\n",
    "    \n",
    "for x,y in zip(etas,Metas):\n",
    "    print(x,\"±\",y)"
   ]
  },
  {
   "cell_type": "markdown",
   "metadata": {},
   "source": [
    "## Zadatak 2\n",
    "\n",
    "Odredite viskoznost vakuumskog ulja pri sobnoj temperaturi i pri $45 \\ \\mathrm{^\\circ C}$. Potrebni podaci su:\n",
    "- gustoća kuglice $\\rho_\\mathrm{k} = 2218 \\ \\mathrm{kg/m^3}$\n",
    "- gustoća vakuumskog ulja $\\rho_\\mathrm{ulje} = 860 \\ \\mathrm{kg/m^3}$\n",
    "- konstanta $K = (7,79 \\pm 0,03) \\times 10^{−7} \\ \\mathrm{Pa \\ m^3/kg}$"
   ]
  },
  {
   "cell_type": "code",
   "execution_count": 149,
   "metadata": {},
   "outputs": [],
   "source": [
    "K = 7.79*(10**(-7))\n",
    "rho_kugla = 2218\n",
    "rho_ulje = 860\n",
    "\n"
   ]
  },
  {
   "cell_type": "code",
   "execution_count": 153,
   "metadata": {},
   "outputs": [
    {
     "data": {
      "text/html": [
       "<div>\n",
       "<style scoped>\n",
       "    .dataframe tbody tr th:only-of-type {\n",
       "        vertical-align: middle;\n",
       "    }\n",
       "\n",
       "    .dataframe tbody tr th {\n",
       "        vertical-align: top;\n",
       "    }\n",
       "\n",
       "    .dataframe thead th {\n",
       "        text-align: right;\n",
       "    }\n",
       "</style>\n",
       "<table border=\"1\" class=\"dataframe\">\n",
       "  <thead>\n",
       "    <tr style=\"text-align: right;\">\n",
       "      <th></th>\n",
       "      <th>t1</th>\n",
       "      <th>t2</th>\n",
       "    </tr>\n",
       "  </thead>\n",
       "  <tbody>\n",
       "    <tr>\n",
       "      <th>1</th>\n",
       "      <td>116.34</td>\n",
       "      <td>38.32</td>\n",
       "    </tr>\n",
       "    <tr>\n",
       "      <th>2</th>\n",
       "      <td>112.08</td>\n",
       "      <td>37.92</td>\n",
       "    </tr>\n",
       "    <tr>\n",
       "      <th>3</th>\n",
       "      <td>110.74</td>\n",
       "      <td>33.08</td>\n",
       "    </tr>\n",
       "    <tr>\n",
       "      <th>4</th>\n",
       "      <td>117.28</td>\n",
       "      <td>35.44</td>\n",
       "    </tr>\n",
       "    <tr>\n",
       "      <th>5</th>\n",
       "      <td>118.26</td>\n",
       "      <td>40.68</td>\n",
       "    </tr>\n",
       "  </tbody>\n",
       "</table>\n",
       "</div>"
      ],
      "text/plain": [
       "       t1     t2\n",
       "1  116.34  38.32\n",
       "2  112.08  37.92\n",
       "3  110.74  33.08\n",
       "4  117.28  35.44\n",
       "5  118.26  40.68"
      ]
     },
     "execution_count": 153,
     "metadata": {},
     "output_type": "execute_result"
    }
   ],
   "source": [
    "t1 = [58.17, 56.04, 55.37, 58.64, 59.13]\n",
    "t2 = [19.16, 18.96, 16.54, 17.72, 20.34]\n",
    "\n",
    "for i in range(size(t1)):\n",
    "    t1[i] = 2*t1[i]\n",
    "    t2[i] = 2*t2[i]\n",
    "\n",
    "T = [22, 44]\n",
    "\n",
    "for i in range(size(T)):\n",
    "    T[i] = T[i] + 273.15\n",
    "\n",
    "d = {\"t1\": t1,\n",
    "     \"t2\": t2}\n",
    "\n",
    "df = pd.DataFrame(data=d,index=range(1,size(t1)+1))\n",
    "df"
   ]
  },
  {
   "cell_type": "code",
   "execution_count": 154,
   "metadata": {},
   "outputs": [
    {
     "name": "stdout",
     "output_type": "stream",
     "text": [
      "5\n"
     ]
    },
    {
     "data": {
      "text/html": [
       "<div>\n",
       "<style scoped>\n",
       "    .dataframe tbody tr th:only-of-type {\n",
       "        vertical-align: middle;\n",
       "    }\n",
       "\n",
       "    .dataframe tbody tr th {\n",
       "        vertical-align: top;\n",
       "    }\n",
       "\n",
       "    .dataframe thead th {\n",
       "        text-align: right;\n",
       "    }\n",
       "</style>\n",
       "<table border=\"1\" class=\"dataframe\">\n",
       "  <thead>\n",
       "    <tr style=\"text-align: right;\">\n",
       "      <th></th>\n",
       "      <th>t1</th>\n",
       "      <th>t2</th>\n",
       "    </tr>\n",
       "  </thead>\n",
       "  <tbody>\n",
       "    <tr>\n",
       "      <th>Srednja vrijednost</th>\n",
       "      <td>114.940000</td>\n",
       "      <td>37.088000</td>\n",
       "    </tr>\n",
       "    <tr>\n",
       "      <th>Nepouzdanost</th>\n",
       "      <td>1.487911</td>\n",
       "      <td>1.301777</td>\n",
       "    </tr>\n",
       "  </tbody>\n",
       "</table>\n",
       "</div>"
      ],
      "text/plain": [
       "                            t1         t2\n",
       "Srednja vrijednost  114.940000  37.088000\n",
       "Nepouzdanost          1.487911   1.301777"
      ]
     },
     "execution_count": 154,
     "metadata": {},
     "output_type": "execute_result"
    }
   ],
   "source": [
    "means = df.mean(0)\n",
    "devs = df.std(0) \n",
    "uncs = devs/sqrt(df.index.size)\n",
    "print(df.index.size)\n",
    "df2 = pd.DataFrame([(str(means[i]) + \" ± \" + str(uncs[i])) for i in range(len(means))],index=list(means.keys()),columns=[\"Rezultat\"])\n",
    "df2 = pd.DataFrame(data=[[(means[i]) for i in range(len(means))],[(uncs[i]) for i in range(len(uncs))]], index=[\"Srednja vrijednost\",\"Nepouzdanost\"], columns=list(means.keys()))\n",
    "df2"
   ]
  },
  {
   "cell_type": "code",
   "execution_count": 155,
   "metadata": {},
   "outputs": [
    {
     "name": "stdout",
     "output_type": "stream",
     "text": [
      "0.12159295708000001 ± 0.0016422111492005967\n",
      "0.039234727616 ± 0.0013853909741994132\n"
     ]
    }
   ],
   "source": [
    "etas = []\n",
    "\n",
    "for i in range(2):\n",
    "    s = \"t\" + str(i+1)\n",
    "    etas.append(eta(K,rho_kugla,rho_ulje,df2[s][0]))\n",
    "    \n",
    "#plt.plot(T,etas,color=\"black\")\n",
    "#plt.scatter(T,etas, color=\"red\")\n",
    "#print(etas)\n",
    "\n",
    "K = 7.79*(10**(-7))\n",
    "Mk = 0.03*(10**(-7))\n",
    "rho_kugla = 2218\n",
    "rho_ulje = 860\n",
    "\n",
    "\n",
    "Metas = []\n",
    "for i in range(size(etas)):\n",
    "    s = \"t\" + str(i+1)\n",
    "    t = df2[s][0]\n",
    "    Mt = df2[s][1]\n",
    "    Metas.append(Meta(etas[i],K,t,Mk,Mt))\n",
    "    \n",
    "for x,y in zip(etas,Metas):\n",
    "    print(x,\"±\",y)"
   ]
  },
  {
   "cell_type": "code",
   "execution_count": null,
   "metadata": {},
   "outputs": [],
   "source": []
  },
  {
   "cell_type": "markdown",
   "metadata": {},
   "source": [
    "## Zadatak 3\n",
    "\n",
    "Prikažite rezultate za metanol u grafu $\\frac{1}{T} − \\log\\eta$ i provjerite valjanost relacije (2). Potrebno je upotrebljavati skalu apsolutne temperature. Odredite aktivacijsku energiju $\\mu$ za metanol."
   ]
  },
  {
   "cell_type": "code",
   "execution_count": 177,
   "metadata": {},
   "outputs": [],
   "source": [
    "Y = [0.0010368788240000002, 0.0009359933168000001, \n",
    "     0.0008804403496000001, 0.0008288436768000002, \n",
    "     0.0007934018728000001, 0.00075828976, 0.0007317496183999999]\n",
    "\n",
    "for i in range(size(Y)):\n",
    "    Y[i] = log(Y[i])\n",
    "T = [296.15, 301.15, 306.15, 311.15, 317.15, 323.15, 328.15]\n",
    "\n",
    "for i in range(size(T)):\n",
    "    T[i] = 1/T[i]"
   ]
  },
  {
   "cell_type": "code",
   "execution_count": 199,
   "metadata": {},
   "outputs": [
    {
     "name": "stdout",
     "output_type": "stream",
     "text": [
      "a = 1010.7093963508239 ± 79.05631475956311\n",
      "b = -10.318987185893898 ± 0.25395101276234794\n"
     ]
    },
    {
     "data": {
      "image/png": "[encoded data removed]",
      "text/plain": [
       "<Figure size 1008x612 with 1 Axes>"
      ]
     },
     "metadata": {
      "needs_background": "light"
     },
     "output_type": "display_data"
    }
   ],
   "source": [
    "pars,cov=curve_fit(lambda x,a,b: a*x+b ,T,Y)\n",
    "\n",
    "a=pars[0]\n",
    "b=pars[1]\n",
    "\n",
    "x_fit=linspace(0.002,0.004)\n",
    "y_fit=a*x_fit+b\n",
    "\n",
    "print(\"a =\", pars[0],\"±\", sqrt(cov[0,0]))\n",
    "print(\"b =\",pars[1],\"±\", sqrt(cov[1,1]))\n",
    "\n",
    "plt.figure(figsize=(14,8.5))\n",
    "plt.scatter(T,Y,linewidth=4)\n",
    "plt.grid()\n",
    "plt.plot(x_fit,y_fit,color=\"red\",linestyle=\"--\")\n",
    "plt.xlim(0.003,0.0034)\n",
    "plt.ylim(-7.35,-6.8)\n",
    "plt.xticks(fontsize=16)\n",
    "plt.yticks(fontsize=16)\n",
    "\n",
    "plt.title(r\"Graf ovisnosti $1/T - \\ln(\\eta)$\", fontsize=22)\n",
    "plt.xlabel(r\"$1/T$ / $\\mathrm{K^{-1}}$\",fontsize=22)\n",
    "plt.ylabel(r\"$\\ln(\\eta)$\",fontsize=22);"
   ]
  },
  {
   "cell_type": "code",
   "execution_count": null,
   "metadata": {},
   "outputs": [],
   "source": []
  },
  {
   "cell_type": "code",
   "execution_count": null,
   "metadata": {},
   "outputs": [],
   "source": []
  }
 ],
 "metadata": {
  "kernelspec": {
   "display_name": "Python 3",
   "language": "python",
   "name": "python3"
  },
  "language_info": {
   "codemirror_mode": {
    "name": "ipython",
    "version": 3
   },
   "file_extension": ".py",
   "mimetype": "text/x-python",
   "name": "python",
   "nbconvert_exporter": "python",
   "pygments_lexer": "ipython3",
   "version": "3.6.5"
  }
 },
 "nbformat": 4,
 "nbformat_minor": 2
}
